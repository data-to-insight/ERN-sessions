{
 "cells": [
  {
   "cell_type": "markdown",
   "metadata": {},
   "source": [
    "In this worksheet, we'll go through loops and conditionals. Loops allow us to go through things which are 'iterable' and perform repeated actions on each element of the iterable. The definition for iterable is a bit circular because an iterable is something we can loop over, but maybe an example will helps. We can iterate over elements in a list, keys/values/items in a dictionary, rows/columns in a dataframe etc.\n",
    "\n",
    "We will also be looking at conditionals. Conditionals allow us to execute something based on a set of conditions. To keep things simple, we'll largely be thinking of conditionals in terms of using them to make selections from dataframes, and using them to determine what actions to apply in certain instances. For instance, in a dataframe of children in need, we might want to select only rows where the age is above, say 16. We can do this with a conditional. We might also want to make a new column to say yes if a child is over 16, and no if they are under. We can use a conditional for this too."
   ]
  },
  {
   "cell_type": "markdown",
   "metadata": {},
   "source": [
    "We'll look at loops first. We start a loop using 'for', then we give a name for the iterable, this can be anything but it's good practice to use something that makes sense in context as, just like the argument of a function, when it's used in the loop, it will be called by the name we give it, we then use 'in' and specify what objecte want to iterate over, and follow this up with a colon to start the loop. Everything we want inside the loop should be indented, when the indent stops, the loop stops.\n",
    "\n",
    "Let's look at a few examples."
   ]
  },
  {
   "cell_type": "code",
   "execution_count": null,
   "metadata": {},
   "outputs": [],
   "source": [
    "# Lets make a list, when we iterate over a list, for each element in the list, we run the loop once\n",
    "numbers = [1, 2, 3, 4, 5] \n",
    "\n",
    "# Here we are saying 'for' to tell Pyhton we want to start a loop, \n",
    "# we are saying we will call the iterables number, and we will take them from 'numbers'.\n",
    "for number in numbers: \n",
    "    print(number) \n",
    "    # Now, the loop will go through each item in the loop and print them one by one"
   ]
  },
  {
   "cell_type": "code",
   "execution_count": null,
   "metadata": {},
   "outputs": [],
   "source": [
    "names = ['Moloch', 'Belial', 'Mulciber']\n",
    "\n",
    "# We can also use more than one iterable, for going through a list 'enumerate' \n",
    "# makes this easy as it 'enumerates' or gives a number to list values in order\n",
    "# so we can access them by index (recall back to the worksheet on lists), \n",
    "# and also allows us to use the value inside the list.\n",
    "# Here I've used it to iterate through values in the list by index position, \n",
    "# and use the original value to create a new value.\n",
    "\n",
    "# It is customary to use i, j, k as the names for iterables when iterating through numbers,\n",
    "# just as we use htem in Pysics for vectors\n",
    "for i, name in enumerate(names): \n",
    "    names[i] = f'{name} has fallen.' \n",
    "    # This says, in essence the value of the list names with index i is updated to be\n",
    "    # the original string, plus some extras\n",
    "print(names)"
   ]
  },
  {
   "cell_type": "code",
   "execution_count": null,
   "metadata": {},
   "outputs": [],
   "source": [
    "# In this cell, I've initialised a list. Write two loops now, one that prints each \n",
    "# element from the list, and one that uses enumerate to update the string in each position to read\n",
    "# '<original value> is in index position <n>'\n",
    "# Ensure you choose a suitable name for your iterators\n",
    "\n",
    "loop_me = ['Beatrice', 'Virgil', 'Minos']"
   ]
  },
  {
   "cell_type": "markdown",
   "metadata": {},
   "source": [
    "If we are working with a lot of data form different sources in the form of dataframes, it can be really useful to to store them in dictionaries. If you use the pandas read_excel method on an excel workbook with multiple sheets, it'll store them in a dicitonary, for instance. This means that it can be really useful to be able to iterate through dictionaries. Let's have a look:"
   ]
  },
  {
   "cell_type": "code",
   "execution_count": null,
   "metadata": {},
   "outputs": [],
   "source": [
    "import pandas as pd\n",
    "\n",
    "df_1 = pd.DataFrame({'col 1': ['foo', 'bar', 'baz'],\n",
    "                     'col 2': [1, 2, 3]})\n",
    "\n",
    "df_2 = pd.DataFrame({'col 1': ['Thing 1', 'Thing 2', 'Thing 3'],\n",
    "                     'col 2': ['Green eggs', 'Ham', 'Sam I am']})\n",
    "\n",
    "df_dict = {'df_1': df_1,\n",
    "           'df_2' : df_2,}\n",
    "\n",
    "# A really useful way to iterate through dictionaries is to access the items, \n",
    "# allowing us to use both the key and value in our loops\n",
    "for key, value in df_dict.items(): \n",
    "    print(key)\n",
    "    print(value)\n",
    "\n",
    "# We can also iterate through rows in a dataframe, \n",
    "# although this should be avoided where possible as it's very inefficient and \n",
    "# can make your code run very slowly\n",
    "for row in df_1.index:\n",
    "    value = df_1['col 2'][row] * 2\n",
    "    print(value)"
   ]
  },
  {
   "cell_type": "code",
   "execution_count": null,
   "metadata": {},
   "outputs": [],
   "source": [
    "# Using df_dict, defined earlier, write a loop that iterates through \n",
    "# the dicitonary, printing out the first row of each dataframe"
   ]
  },
  {
   "cell_type": "markdown",
   "metadata": {},
   "source": [
    "There also might be times where it's useful to make a dataframe or a new column in a dataframe by making a dictionary in a loop. Below are some examples you wouldn't use in the real world, as there are better methods, but it still provides an illustration."
   ]
  },
  {
   "cell_type": "code",
   "execution_count": null,
   "metadata": {},
   "outputs": [],
   "source": [
    "x = 1\n",
    "number_list = []\n",
    "for i in list(range(10)):\n",
    "    number_list.append(x)\n",
    "    x = (x + number_list[i-1])\n",
    "    \n",
    "print(pd.DataFrame({'numbers':number_list}))\n",
    "\n",
    "answers = []\n",
    "times_tables = {}\n",
    "for i in list(range(1,11)):\n",
    "    # We can do a loop INSIDE another loop! Don't think too hard about it, \n",
    "    # its the same, but it runs through and finishes, then the outside loop moves on\n",
    "    for j in list(range(1,11)): \n",
    "        answers.append(i * j)\n",
    "    times_tables[i] = answers\n",
    "    answers = []\n",
    "\n",
    "\n",
    "# Making the dictionary into a dataframe\n",
    "multiplication_table = pd.DataFrame(times_tables) \n",
    "# shifting the index up by 1 to start at one so the table is cleaner\n",
    "multiplication_table.index += 1 \n",
    "# In Jupyter we don't HAVE to use print to display a variable\n",
    "multiplication_table \n"
   ]
  },
  {
   "cell_type": "code",
   "execution_count": null,
   "metadata": {},
   "outputs": [],
   "source": [
    "# Using the examples above, in this cell use a loop to populate a dicitonary that\n",
    "# you'll then use to make a dataframe of all the possible combinations of sandwiches\n",
    "# from the following two lists. Don't think too hard, it doesn't matter if\n",
    "# combinations are repeated. You'll want the following three lines of the code at the\n",
    "# end to format the dataframe:\n",
    "# combinations_df = (pd.DataFrame(combinations)) \n",
    "# combinations_df['topping'] = toppings\n",
    "# combinations_df.set_index('topping')\n",
    "\n",
    "spreads = ['butter', 'jam', 'peanut butter']\n",
    "toppings = ['ham', 'cheese', 'sardines']\n",
    "filling = []\n",
    "combinations = {} "
   ]
  },
  {
   "cell_type": "markdown",
   "metadata": {},
   "source": [
    "## Session 3 Group work\n",
    "Work out how to use zip() to collect elements from two lists together and use a loop to print them element-wise, so, if I had 1, 2, 3, 4, 5 and a, b, c, d, e stored as seprate lists, my loop would print a1, b2, etc.\n",
    "Initialise two variables, one a list of first names and one a list of surnames of everyone in the group. Next, use nested loops to print all the different first/last name combinations.\n",
    "Write a for loop that takes a list of numbers, finds the square of each, and adds the squares to a new list that starts empty.\n",
    "Write a loop that sums all the numbers up to 100, and assigns the answer to a variable"
   ]
  },
  {
   "cell_type": "markdown",
   "metadata": {},
   "source": [
    "We've touched on some iterators now, but honestly, lots of the time we might want to iterate, there may be another built in method or funciton that will do the same thing but quicker. It's still important to know how they work though. Let's look at conditionals and equalities now. We'll get back a dataframe from an older session so as to not re-write it from scratch. First, we'll look briefly at equalities as they will often be important for structuring our conditionals."
   ]
  },
  {
   "cell_type": "code",
   "execution_count": null,
   "metadata": {},
   "outputs": [],
   "source": [
    "df = pd.DataFrame({'ChildId':['id1', 'id2', 'id3', 'id4', 'id5'],\n",
    "                   'Age first contact':[6,12,11,1,19],\n",
    "                   'Gender':['M','m', 'F', '', 'F' ],\n",
    "                   'Birthday':['01/01/2002', '02/02/2003', pd.NA, '03/03/2023', '06/01/2012'],\n",
    "                   'Age':[5,12,11,6,2],\n",
    "                   'CP Plan?':['Y', 'n', 'N', 'No', 'yES'],})\n",
    "df['Birthday'] = pd.to_datetime(df['Birthday'], dayfirst=True)\n",
    "df"
   ]
  },
  {
   "cell_type": "code",
   "execution_count": null,
   "metadata": {},
   "outputs": [],
   "source": [
    "# Let's make a selection of row thats are off in the dataframe and have errors, \n",
    "#lets say where there is an error in ages, you can' be younger than\n",
    "# your age of first contact, now can you?\n",
    "\n",
    "# This returns True or False in each row based on whether the condition is satisfied\n",
    "condition = df['Age'] < df['Age first contact'] \n",
    "print(condition)\n",
    "\n",
    "# This looks at the trues and falses, and only takes rows where it's true for the new df\n",
    "# We can negate this by using a ~ operator which means 'not'\n",
    "error_df = df[condition] \n",
    "print(error_df)\n",
    "\n",
    "# We could actually write it like this, all in one line:\n",
    "# error_df = df[df['Age'] < df['Age first contact']]\n",
    "# But for learning the original way is clearer"
   ]
  },
  {
   "cell_type": "markdown",
   "metadata": {},
   "source": [
    "The most common operators we will use are &, |, ~, <, >, ==, !=, <=, >= which are: and, or, not, less than, greater than, equals, not equal, greater/equal, less/equal in order.\n",
    "With the <>, remember, the crocodile eats the bigger number! If you're unclear about how logical operators work:\n",
    "& will return true when both requirements are satisfied,\n",
    "| will return true if one OR the other is satisfied, or both (so, at least one)\n",
    "Lets see this with some examples"
   ]
  },
  {
   "cell_type": "code",
   "execution_count": null,
   "metadata": {},
   "outputs": [],
   "source": [
    "print(((1 > 2) & (2 == 2))) # false, because 1 is not greater than 2 and both need to be true\n",
    "print(((1 > 2) | (2 == 2))) # True because at least one of the components is true,\n",
    "                            # even though 1 is not greater than 2\n",
    "print(((3 > 2) | (2 == 2))) # Still true, as at least one is true\n",
    "print(((3 > 2) & (2 == 2))) # Only strue because both are true"
   ]
  },
  {
   "cell_type": "code",
   "execution_count": null,
   "metadata": {},
   "outputs": [],
   "source": [
    "# In this cell, writet a logical test that fails an and condition,\n",
    "# but passes an or condition, and print both"
   ]
  },
  {
   "cell_type": "markdown",
   "metadata": {},
   "source": [
    "Conditionals also come in the form of if/elif/else/while etc statements, which often use the logical operators seen above. They can be though of as giving some framework to tell Python whether or not to do an action, or what action to perform given the value of some piece of data or state in the code. For instance, you might want to run a piece of code only if the data it processes has been validated to not have errors, which you can do with conditionals. In more complex code, you might want to run a piece of code differently based on user inputs or what data has been passed to the code, which again, can be handled with conditionals. Let's have a look at some simple examples."
   ]
  },
  {
   "cell_type": "code",
   "execution_count": null,
   "metadata": {},
   "outputs": [],
   "source": [
    "some_numbers = list(range(10))\n",
    "for i in some_numbers:\n",
    "    # Just like loops, everything indented after an if happens if the if is satisfied\n",
    "    if (i %2 == 0) & (i != 0): \n",
    "        print(f'{i} is even')\n",
    "    # Elif is useful as it says if the previous condition is not satisfied,\n",
    "    # if this condition is satisfied, do this\n",
    "    elif i %2 != 0: \n",
    "        print(f'{i} is odd')\n",
    "    else:\n",
    "        # 'else' means, if all the ifs and elifs fail, do this.\n",
    "        print('Then i must be zero') "
   ]
  },
  {
   "cell_type": "code",
   "execution_count": null,
   "metadata": {},
   "outputs": [],
   "source": [
    "fruits = ['bananna', 'apple', 'orange', 'pear', 'plum']\n",
    "for fruit in fruits:\n",
    "    # in is really useful in conditionals if we need a piece of data to contain, \n",
    "    # or not contain, some other piece of data\n",
    "    if 'a' in fruit: \n",
    "        print(fruit)"
   ]
  },
  {
   "cell_type": "code",
   "execution_count": null,
   "metadata": {},
   "outputs": [],
   "source": [
    "for i in some_numbers:\n",
    "    if (i %2 == 0): \n",
    "        print(f'{i} is even')\n",
    "    # We can also have multiple ifs on the same level, meaning that each is checked individually, \n",
    "    # and will each happen if each is true    \n",
    "    if i %3 == 0: \n",
    "        print(f'{i} is divisble by 3')\n",
    "    else:\n",
    "        print(\"i isn't even, or divisble by 3\") # 'else' means, if all the ifs and elifs fail, \n",
    "        # do this."
   ]
  },
  {
   "cell_type": "code",
   "execution_count": null,
   "metadata": {},
   "outputs": [],
   "source": [
    "for i in some_numbers:\n",
    "    if (i %2 == 0) & (i != 0): \n",
    "        # We can also chain if elses, and place them within eachother.\n",
    "        # Don't use too many levels of this if possible, it can get confusing\n",
    "        if i %3 == 0:\n",
    "            print(f\"{i} is divisible by 3 and 2\")\n",
    "        else:\n",
    "            print(f\"{i} is even, but not divisible by 3\")\n",
    "    else:\n",
    "        print(f\"{i} is either zero, or isn't even, or divisble by 3\")\n",
    "        # 'else' means, if all the ifs and elifs fail, do this."
   ]
  },
  {
   "cell_type": "markdown",
   "metadata": {},
   "source": [
    "'while' is useful, it allows an action/loop to be continued until some set of conditions is satisfied. In some statistical work, for instance, one might continue to run some calculation until errors hit an acceptable level, we coulld also use while to keep running an operation a number of times. See the simple implementation bellow."
   ]
  },
  {
   "cell_type": "code",
   "execution_count": null,
   "metadata": {},
   "outputs": [],
   "source": [
    "x = 0\n",
    "# Checks the value of x, if it's less than 10, it runs the loop. \n",
    "# There's lots of ways to get the same outcome, but this is clean.\n",
    "while x < 10: \n",
    "    print(x)\n",
    "    x += 1 # x is equal to x plus 1"
   ]
  },
  {
   "cell_type": "markdown",
   "metadata": {},
   "source": [
    "## Group work for session 4\n",
    "Write a loop that sums all the even numbers up to 100, all the odd numbers up to 100, and assigns each answer to a seprate variable.\n",
    "\n",
    "A narcissistic number (named after the Narcissus of Greek myth, a handsome hunter who fell in love with his own reflection) is one such that if you take each digit of the number, raise them separately to the power of how many digits there are and then add these together, you return to your original number. For instance 9^4 + 4^4 + 7^4 + 4^4 = 9474 (where ^ is to the power of) is a narcissistic number as each of the digits that make it up (9, 4, 7, 4) to the power of the number of digits making it up (4) added together makes 9474. Use this knowledge to write a loop which returns the first 20 narcissitic numbers as a list, and stops looping when it gets 20 entries.\n",
    "\n",
    "As always, there's a 'learn to google' extension to the assignment. Place your narcisitic numbers loop inside another loop that changes the length of the list found to create lists with the first 10, 20, and 30 narcisitic numbers. As well as this, work out a way to time how long each version of the loop takes to make each list and assign the answers to variables so you can print something like 'finding the first <n> narcissistic numbers in a for loop takes <x> seconds' for 10, 20, and 30."
   ]
  }
 ],
 "metadata": {
  "kernelspec": {
   "display_name": "Python 3",
   "language": "python",
   "name": "python3"
  },
  "language_info": {
   "codemirror_mode": {
    "name": "ipython",
    "version": 3
   },
   "file_extension": ".py",
   "mimetype": "text/x-python",
   "name": "python",
   "nbconvert_exporter": "python",
   "pygments_lexer": "ipython3",
   "version": "3.10.8"
  },
  "orig_nbformat": 4
 },
 "nbformat": 4,
 "nbformat_minor": 2
}
