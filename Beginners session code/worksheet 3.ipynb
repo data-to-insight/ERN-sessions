{
 "cells": [
  {
   "cell_type": "markdown",
   "metadata": {},
   "source": [
    "Make functions as simple as possible\n",
    "\n",
    "Use meaningful names for functions (and variables, classes etc.) e.g. check_year\n",
    "\n",
    "Create docstrings for every function describing what it does\n",
    "\n",
    "Create unit tests for as many functions as possible\n",
    "\n",
    "Always work on a non /main branch\n",
    "\n",
    "Create new branches for each issue you want to fix\n",
    "\n",
    "Don't repeat yourself (if you're going to do something multiple times try and turn it into a function/class)\n",
    "\n"
   ]
  },
  {
   "cell_type": "markdown",
   "metadata": {},
   "source": [
    "Functions are repeatable bits of code, a good rule of thumb is if you think you might have to repeat an action more than once, write it as a function, and if you find yourself repeating an action more than once, re-write it as a function"
   ]
  },
  {
   "cell_type": "code",
   "execution_count": 8,
   "metadata": {},
   "outputs": [
    {
     "name": "stdout",
     "output_type": "stream",
     "text": [
      "9\n"
     ]
    }
   ],
   "source": [
    "# We tell Python we want to start defining a function with def, name it (generally snake case), \n",
    "# put arguments in brackets, then colon to start defining\n",
    "def sum_function(x, y): \n",
    "    '''It is good practice to write a docstring for every function explaining what it does.\n",
    "    These are done with three apostrphes. Different organisations/repos will have preferences \n",
    "    for the style a docstring should use. Generally, a docstring says: whata  function does,\n",
    "     what goes in, what comes out. Here is a docstring example for this function:\n",
    "     \n",
    "     Adds two numbers, returns the result.\n",
    "     \n",
    "     Args:\n",
    "        x, y: Numbers to be added\n",
    "    \n",
    "    Returns:\n",
    "        z: The sum of the args x and y.\n",
    "    '''\n",
    "    z = x + y\n",
    "    # The return statement is important, when you set a variable equal to a function,\n",
    "    # it tells Python what you want the variable to equal\n",
    "    return z \n",
    "sum_4_5 = sum_function(4, 5)\n",
    "print(sum_4_5)"
   ]
  },
  {
   "cell_type": "code",
   "execution_count": null,
   "metadata": {},
   "outputs": [],
   "source": [
    "# Now it's your go. Write a function, with an appropriate name and a \n",
    "# docstring that explains: what it does, the arguments, and what it returns,\n",
    "# that divides one number by the other. Bonus points if you can make the function \n",
    "# always divide the larges of the two numbers by the smallest.\n",
    "# Call the function and print it."
   ]
  },
  {
   "cell_type": "code",
   "execution_count": 9,
   "metadata": {},
   "outputs": [
    {
     "name": "stdout",
     "output_type": "stream",
     "text": [
      "The sum of 3 and 4 is 3     \n",
      "The product of 3 and 4 is 4.\n"
     ]
    }
   ],
   "source": [
    "# Notice the names of the functions explain clearly what the function will do\n",
    "def sum_prod(x, y): \n",
    "    '''Finds the sum and product of two numbers, returning the result.\n",
    "    \n",
    "    Args:\n",
    "        x, y: Numbers for which the sum and product will be found.\n",
    "        \n",
    "    Returns:\n",
    "        sum: The sum of x and y.\n",
    "        prod: The product of x and y.\n",
    "    '''\n",
    "\n",
    "    sum = x + y\n",
    "    prod = x * y\n",
    "    # Notice here the function returns two things, when we call the function, \n",
    "    # notice how we assign variables to each of those variables\n",
    "    return x, y \n",
    "\n",
    "sum_3_4, prod_3_4 = sum_prod(3, 4)\n",
    "\n",
    "# In the print statement below we've used an f string to allow us to use \n",
    "# variables inside the string (preceed with an f, variables inside {})\n",
    "# We've also written the string over two lines, using \\ to tell \n",
    "# Python the string continues on the next line.\n",
    "# We have also used \\n to tell Python that there should be a line break in the string\n",
    "print(f'The sum of 3 and 4 is {sum_3_4}\\\n",
    "     \\nThe product of 3 and 4 is {prod_3_4}.') "
   ]
  },
  {
   "cell_type": "code",
   "execution_count": null,
   "metadata": {},
   "outputs": [],
   "source": [
    "# Write a new function that takes two numbers as an argument and returns \n",
    "# the answer when one is divided by the other, and the answer when one is subtracked from the other.\n",
    "# Return both answers and assign them variables, then print these two variables."
   ]
  },
  {
   "cell_type": "markdown",
   "metadata": {},
   "source": [
    "We generally want functions do do the most suitably simple thing we can, which often means chaining functions, putting multiple functions inside others."
   ]
  },
  {
   "cell_type": "code",
   "execution_count": 10,
   "metadata": {},
   "outputs": [
    {
     "name": "stdout",
     "output_type": "stream",
     "text": [
      "11 30\n"
     ]
    }
   ],
   "source": [
    "def sum_xy(x, y):\n",
    "    ''' Sums two values.\n",
    "    \n",
    "    Args:\n",
    "        x, y (int): values to be summed.\n",
    "    \n",
    "    Returns:\n",
    "        Sum of x and y.\n",
    "    '''\n",
    "    return x + y\n",
    "\n",
    "def prod_xy(x, y):\n",
    "    '''Find the product of two values.\n",
    "    \n",
    "    Args:\n",
    "        x, y (int): values to be multipled.\n",
    "    \n",
    "    Returns:\n",
    "        Product of x and y.\n",
    "    '''\n",
    "    return x * y\n",
    "\n",
    "def prod_sum(x, y):\n",
    "    '''Find the product and sum of two values.\n",
    "    \n",
    "    Args:\n",
    "        x, y (int): values to be multipled.\n",
    "    \n",
    "    Returns:\n",
    "        Sum and product of x, y\n",
    "    '''\n",
    "\n",
    "    return sum_xy(x, y),  prod_xy(x, y)\n",
    "\n",
    "val_1, val_2 = prod_sum(5, 6)\n",
    "\n",
    "print(val_1, val_2)"
   ]
  },
  {
   "cell_type": "code",
   "execution_count": null,
   "metadata": {},
   "outputs": [],
   "source": [
    "# In this cell, first, import the 'math' module.\n",
    "# Next, write a function that squares a number (hint: you can simply uses x*x), \n",
    "# Now write a function that uses math.sqrt() to find the square root of a number \n",
    "# (hint: https://docs.python.org/3/library/math.html#math.sqrt)\n",
    "# Then, write a funciton that performs both of these functions and returns both answers,\n",
    "# Finally, call the function getting two variables as your answer, and print them."
   ]
  },
  {
   "cell_type": "markdown",
   "metadata": {},
   "source": [
    "When we write functions, it's good practice to raise errors that we expect might occur "
   ]
  },
  {
   "cell_type": "code",
   "execution_count": 11,
   "metadata": {},
   "outputs": [
    {
     "data": {
      "text/plain": [
       "9"
      ]
     },
     "execution_count": 11,
     "metadata": {},
     "output_type": "execute_result"
    }
   ],
   "source": [
    "def addition_xy(x, y):\n",
    "    if ((type(x) == float) | (type(x) == int)) & ((type(y) == float) | (type(y) == int)):\n",
    "        return x + y\n",
    "    elif (type(x) == str) | (type(y) == str):\n",
    "        if type(x) == str:\n",
    "            raise TypeError('x was a string, expected a float or int')\n",
    "        if type(y) == str:\n",
    "            raise TypeError('y was a string, expected a float or int')\n",
    "\n",
    "addition_xy(5, 4)"
   ]
  },
  {
   "cell_type": "code",
   "execution_count": 6,
   "metadata": {},
   "outputs": [],
   "source": [
    "# Below is a function that checks if the argument passed to it is an apple or not. \n",
    "# If it's not an apple, it'll just pass to the next thing.\n",
    "# We want to make sure that people only every pass it apple as arguments, \n",
    "# and we want it to throw an error if it doesnt.\n",
    "# Replace the 'pass' in the else block with a line that raises a ValueError with a suitable message.\n",
    "def apple_or_error(thing):\n",
    "    if thing == 'apple': \n",
    "        print(\"it's an apple\")\n",
    "    else:\n",
    "        pass"
   ]
  },
  {
   "cell_type": "markdown",
   "metadata": {},
   "source": [
    "Recall back to the session on Pandas, we briefly used lambda functions. Lambda functions let us define and use a function in one line, pandas is just one of many times they're really useful. They can often do similar things to list comprehensions, so it's worth touching both. List comprehensions give us syntax to make a new list based on a pre existing list."
   ]
  },
  {
   "cell_type": "code",
   "execution_count": 8,
   "metadata": {},
   "outputs": [
    {
     "name": "stdout",
     "output_type": "stream",
     "text": [
      "9\n",
      "5.0\n",
      "[0, 1, 2, 3, 4, 5, 6, 7, 8, 9, 10, 11, 12, 13, 14, 15, 16, 17, 18, 19]\n",
      "[0, 2, 4, 6, 8, 10, 12, 14, 16, 18]\n"
     ]
    }
   ],
   "source": [
    "# Lambda function, (lambda variables: expression)(argument)\n",
    "square_function = (lambda x: x*x) \n",
    "square = square_function(3)\n",
    "print(square)\n",
    "# Lambda function in one line, (lambda variables: expression)(argument)\n",
    "divided = (lambda x, y: x / y)(10, 2) \n",
    "print(divided)\n",
    "# Uses list on range 20 to get a list of numbers from 0 to 20\n",
    "numbers = list(range(20)) \n",
    "print(numbers)\n",
    "\n",
    "# Uses a list comprehension to get even numbers form the 'numbers' list, \n",
    "# using the fact that if the modulus (remainder) of a number/2 is 0, it's even\n",
    "evens = [x for x in numbers if x %2 == 0] \n",
    "print(evens)"
   ]
  },
  {
   "cell_type": "code",
   "execution_count": null,
   "metadata": {},
   "outputs": [],
   "source": [
    "# In this cell, write a lambda function to add a number to itself \n",
    "# and assign that function to a variable, run it, print the answer.\n",
    "# Next, use a list comprehension to create a new list from the list 'numbers' \n",
    "# already made, that adds 10 to every number. Print it."
   ]
  },
  {
   "cell_type": "code",
   "execution_count": 25,
   "metadata": {},
   "outputs": [
    {
     "name": "stdout",
     "output_type": "stream",
     "text": [
      "[0, 1, 4, 9, 16, 25, 36, 49, 64, 81, 100]\n",
      "[0, 1, 4, 9, 16, 25, 36, 49, 64, 81, 100]\n"
     ]
    }
   ],
   "source": [
    "# list comprehension to get all the square numbers with roots from 0-10\n",
    "squares_comp = [x*x for x in range(11)] \n",
    "print(squares_comp)\n",
    "\n",
    "# This seems pointless given the above option, just know it's possible as there\n",
    "# may be a time when you want it\n",
    "# note here we've defined our lambda function to be able to be used at a later date\n",
    "f = lambda x : x*x \n",
    "squares_lamb_comp = [f(x) for x in range(11)] \n",
    "print(squares_lamb_comp)\n",
    "\n"
   ]
  },
  {
   "cell_type": "markdown",
   "metadata": {},
   "source": [
    "## Group work for session 5\n",
    "Remember the CSV from Ggroup work for session 2:\n",
    "https://raw.githubusercontent.com/data-to-insight/D2I-Jupyter-Notebook-Tools/main/ERN-worksheets/data/1980%202023%20average%20house%20prices.csv\n",
    "\n",
    "Read the CSV into a dataframe with a sensible name.\n",
    "Write a function that takes in in the dataframe as an argument, finds the mean value for percentage change in house price per time period, and creates a new column assigning the strings 'above', 'below', and equal' to the dataframe based on the values relative to the mean. Have the function return this new dataframe and assign it back to the original variable containing the dataframe."
   ]
  },
  {
   "cell_type": "markdown",
   "metadata": {},
   "source": [
    "## Group work for session 6\n",
    "Using what we've seen about loops and conditionals, there are two tasks. The first task is to write some code that plays the game 'FizzBuzz'. FizzBuzz is a common test given in coding interviews. All you need to do is write some code that goes through the numbers 1-100, and, where a number is divisible by 3, print Fizz, 5, print Buzz, and both, print FizzBuzz, in other cases just print the number. For instance, for 3, the code should print Fizz, for 5 Buzz, and for 15 FizzBuzz, and for 8, just 8.\n",
    "\n",
    "It shouldn't be too hard to write some code that does it, but two write good clean code that does it will be harder. Some things to remember are: using suitable variable and iterator names, writing fewer lines of code where possible, wirting suitable comments for your code, etc.\n",
    "\n",
    "The second task is harder, and will test another important skill, your ability to google. I want you to write some code that simulates a coin flip and produces a heads or a tails. I would like you to write that code such that it keeps running until the number of heads produced by the code is the same as the number of tails. As an extension, it would be a good exercise to try packaging it up in a function, AND, running the simulation multiple times to find an average number of flips needed for the number of heads to equal the number of tails. TIP: this might be a good place to start https://docs.python.org/3/library/random.html"
   ]
  }
 ],
 "metadata": {
  "kernelspec": {
   "display_name": "Python 3",
   "language": "python",
   "name": "python3"
  },
  "language_info": {
   "codemirror_mode": {
    "name": "ipython",
    "version": 3
   },
   "file_extension": ".py",
   "mimetype": "text/x-python",
   "name": "python",
   "nbconvert_exporter": "python",
   "pygments_lexer": "ipython3",
   "version": "3.10.8"
  },
  "orig_nbformat": 4
 },
 "nbformat": 4,
 "nbformat_minor": 2
}
