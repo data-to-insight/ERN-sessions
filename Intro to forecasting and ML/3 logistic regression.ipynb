{
 "cells": [
  {
   "cell_type": "markdown",
   "metadata": {},
   "source": [
    "Using a set of independent variables, a logistic regression predicts the likelihood of the dependent variable occuring. It's good for classification problems, such as seeing if certain factors can predict certain outcomes will be the case for children. We often use a logistic regression to generate odds ratios, which can give us an idea if an outcome will or won't happen in a given case. Above 1 is more likely, below one is less likely."
   ]
  },
  {
   "cell_type": "code",
   "execution_count": 1,
   "metadata": {},
   "outputs": [
    {
     "data": {
      "text/html": [
       "<div>\n",
       "<style scoped>\n",
       "    .dataframe tbody tr th:only-of-type {\n",
       "        vertical-align: middle;\n",
       "    }\n",
       "\n",
       "    .dataframe tbody tr th {\n",
       "        vertical-align: top;\n",
       "    }\n",
       "\n",
       "    .dataframe thead th {\n",
       "        text-align: right;\n",
       "    }\n",
       "</style>\n",
       "<table border=\"1\" class=\"dataframe\">\n",
       "  <thead>\n",
       "    <tr style=\"text-align: right;\">\n",
       "      <th></th>\n",
       "      <th>Pregnancies</th>\n",
       "      <th>Glucose</th>\n",
       "      <th>BloodPressure</th>\n",
       "      <th>SkinThickness</th>\n",
       "      <th>Insulin</th>\n",
       "      <th>BMI</th>\n",
       "      <th>DiabetesPedigreeFunction</th>\n",
       "      <th>Age</th>\n",
       "      <th>Outcome</th>\n",
       "    </tr>\n",
       "  </thead>\n",
       "  <tbody>\n",
       "    <tr>\n",
       "      <th>0</th>\n",
       "      <td>6</td>\n",
       "      <td>148</td>\n",
       "      <td>72</td>\n",
       "      <td>35</td>\n",
       "      <td>0</td>\n",
       "      <td>33.6</td>\n",
       "      <td>0.627</td>\n",
       "      <td>50</td>\n",
       "      <td>1</td>\n",
       "    </tr>\n",
       "    <tr>\n",
       "      <th>1</th>\n",
       "      <td>1</td>\n",
       "      <td>85</td>\n",
       "      <td>66</td>\n",
       "      <td>29</td>\n",
       "      <td>0</td>\n",
       "      <td>26.6</td>\n",
       "      <td>0.351</td>\n",
       "      <td>31</td>\n",
       "      <td>0</td>\n",
       "    </tr>\n",
       "    <tr>\n",
       "      <th>2</th>\n",
       "      <td>8</td>\n",
       "      <td>183</td>\n",
       "      <td>64</td>\n",
       "      <td>0</td>\n",
       "      <td>0</td>\n",
       "      <td>23.3</td>\n",
       "      <td>0.672</td>\n",
       "      <td>32</td>\n",
       "      <td>1</td>\n",
       "    </tr>\n",
       "    <tr>\n",
       "      <th>3</th>\n",
       "      <td>1</td>\n",
       "      <td>89</td>\n",
       "      <td>66</td>\n",
       "      <td>23</td>\n",
       "      <td>94</td>\n",
       "      <td>28.1</td>\n",
       "      <td>0.167</td>\n",
       "      <td>21</td>\n",
       "      <td>0</td>\n",
       "    </tr>\n",
       "    <tr>\n",
       "      <th>4</th>\n",
       "      <td>0</td>\n",
       "      <td>137</td>\n",
       "      <td>40</td>\n",
       "      <td>35</td>\n",
       "      <td>168</td>\n",
       "      <td>43.1</td>\n",
       "      <td>2.288</td>\n",
       "      <td>33</td>\n",
       "      <td>1</td>\n",
       "    </tr>\n",
       "    <tr>\n",
       "      <th>...</th>\n",
       "      <td>...</td>\n",
       "      <td>...</td>\n",
       "      <td>...</td>\n",
       "      <td>...</td>\n",
       "      <td>...</td>\n",
       "      <td>...</td>\n",
       "      <td>...</td>\n",
       "      <td>...</td>\n",
       "      <td>...</td>\n",
       "    </tr>\n",
       "    <tr>\n",
       "      <th>763</th>\n",
       "      <td>10</td>\n",
       "      <td>101</td>\n",
       "      <td>76</td>\n",
       "      <td>48</td>\n",
       "      <td>180</td>\n",
       "      <td>32.9</td>\n",
       "      <td>0.171</td>\n",
       "      <td>63</td>\n",
       "      <td>0</td>\n",
       "    </tr>\n",
       "    <tr>\n",
       "      <th>764</th>\n",
       "      <td>2</td>\n",
       "      <td>122</td>\n",
       "      <td>70</td>\n",
       "      <td>27</td>\n",
       "      <td>0</td>\n",
       "      <td>36.8</td>\n",
       "      <td>0.340</td>\n",
       "      <td>27</td>\n",
       "      <td>0</td>\n",
       "    </tr>\n",
       "    <tr>\n",
       "      <th>765</th>\n",
       "      <td>5</td>\n",
       "      <td>121</td>\n",
       "      <td>72</td>\n",
       "      <td>23</td>\n",
       "      <td>112</td>\n",
       "      <td>26.2</td>\n",
       "      <td>0.245</td>\n",
       "      <td>30</td>\n",
       "      <td>0</td>\n",
       "    </tr>\n",
       "    <tr>\n",
       "      <th>766</th>\n",
       "      <td>1</td>\n",
       "      <td>126</td>\n",
       "      <td>60</td>\n",
       "      <td>0</td>\n",
       "      <td>0</td>\n",
       "      <td>30.1</td>\n",
       "      <td>0.349</td>\n",
       "      <td>47</td>\n",
       "      <td>1</td>\n",
       "    </tr>\n",
       "    <tr>\n",
       "      <th>767</th>\n",
       "      <td>1</td>\n",
       "      <td>93</td>\n",
       "      <td>70</td>\n",
       "      <td>31</td>\n",
       "      <td>0</td>\n",
       "      <td>30.4</td>\n",
       "      <td>0.315</td>\n",
       "      <td>23</td>\n",
       "      <td>0</td>\n",
       "    </tr>\n",
       "  </tbody>\n",
       "</table>\n",
       "<p>768 rows × 9 columns</p>\n",
       "</div>"
      ],
      "text/plain": [
       "     Pregnancies  Glucose  BloodPressure  SkinThickness  Insulin   BMI  \\\n",
       "0              6      148             72             35        0  33.6   \n",
       "1              1       85             66             29        0  26.6   \n",
       "2              8      183             64              0        0  23.3   \n",
       "3              1       89             66             23       94  28.1   \n",
       "4              0      137             40             35      168  43.1   \n",
       "..           ...      ...            ...            ...      ...   ...   \n",
       "763           10      101             76             48      180  32.9   \n",
       "764            2      122             70             27        0  36.8   \n",
       "765            5      121             72             23      112  26.2   \n",
       "766            1      126             60              0        0  30.1   \n",
       "767            1       93             70             31        0  30.4   \n",
       "\n",
       "     DiabetesPedigreeFunction  Age  Outcome  \n",
       "0                       0.627   50        1  \n",
       "1                       0.351   31        0  \n",
       "2                       0.672   32        1  \n",
       "3                       0.167   21        0  \n",
       "4                       2.288   33        1  \n",
       "..                        ...  ...      ...  \n",
       "763                     0.171   63        0  \n",
       "764                     0.340   27        0  \n",
       "765                     0.245   30        0  \n",
       "766                     0.349   47        1  \n",
       "767                     0.315   23        0  \n",
       "\n",
       "[768 rows x 9 columns]"
      ]
     },
     "execution_count": 1,
     "metadata": {},
     "output_type": "execute_result"
    }
   ],
   "source": [
    "import pandas as pd\n",
    "import numpy as np\n",
    "from sklearn.model_selection import train_test_split\n",
    "from sklearn.linear_model import LogisticRegression\n",
    "from sklearn import metrics\n",
    "\n",
    "df = pd.read_csv('https://raw.githubusercontent.com/data-to-insight/ERN-sessions/main/data/diabetes_data.csv')\n",
    "# Really this data needs some cleaning done to it as htere's some zero values where there shouldn't be. Removing\n",
    "# them makes our data set smaller, but improves data quality. Another option could be filling them with new values, for\n",
    "# instance ones that fit to a normal distribution.\n",
    "\n",
    "# These are the things we think might be related to diabetes outcomes we want to test\n",
    "features = ['Pregnancies',\n",
    "            'Glucose', \n",
    "            'BloodPressure',\n",
    "            'SkinThickness',\n",
    "            'Insulin',\t\n",
    "            'BMI',\n",
    "            'DiabetesPedigreeFunction',\n",
    "            'Age']\n",
    "\n",
    "df"
   ]
  },
  {
   "cell_type": "code",
   "execution_count": 8,
   "metadata": {},
   "outputs": [],
   "source": [
    "X = df[features]\n",
    "y = df['Outcome']\n",
    "X_train, X_test, y_train, y_test = train_test_split(X, y, test_size=0.25, random_state=11)\n",
    "\n",
    "lr = LogisticRegression(random_state=1, max_iter=500)\n",
    "\n",
    "lr.fit(X_train, y_train)\n",
    "y_pred = lr.predict(X_test)"
   ]
  },
  {
   "cell_type": "code",
   "execution_count": 9,
   "metadata": {},
   "outputs": [
    {
     "data": {
      "text/plain": [
       "array([[116,  10],\n",
       "       [ 35,  31]])"
      ]
     },
     "execution_count": 9,
     "metadata": {},
     "output_type": "execute_result"
    }
   ],
   "source": [
    "cnf_matrix = metrics.confusion_matrix(y_test, y_pred)\n",
    "cnf_matrix"
   ]
  },
  {
   "cell_type": "code",
   "execution_count": 10,
   "metadata": {},
   "outputs": [
    {
     "data": {
      "text/plain": [
       "Text(0.5, 427.9555555555555, 'Predicted label')"
      ]
     },
     "execution_count": 10,
     "metadata": {},
     "output_type": "execute_result"
    },
    {
     "data": {
      "image/png": "[encoded data removed]",
      "text/plain": [
       "<Figure size 640x480 with 2 Axes>"
      ]
     },
     "metadata": {},
     "output_type": "display_data"
    }
   ],
   "source": [
    "# import required modules\n",
    "import numpy as np\n",
    "import matplotlib.pyplot as plt\n",
    "import seaborn as sns\n",
    "\n",
    "class_names=[0,1] # name  of classes\n",
    "fig, ax = plt.subplots()\n",
    "tick_marks = np.arange(len(class_names))\n",
    "plt.xticks(tick_marks, class_names)\n",
    "plt.yticks(tick_marks, class_names)\n",
    "# create heatmap\n",
    "sns.heatmap(pd.DataFrame(cnf_matrix), annot=True, cmap=\"YlGnBu\" ,fmt='g')\n",
    "ax.xaxis.set_label_position(\"top\")\n",
    "plt.tight_layout()\n",
    "plt.title('Confusion matrix', y=1.1)\n",
    "plt.ylabel('Actual label')\n",
    "plt.xlabel('Predicted label')"
   ]
  },
  {
   "cell_type": "markdown",
   "metadata": {},
   "source": [
    "1. Precision: Percentage of correct positive predictions relative to total positive predictions.\n",
    "\n",
    "2. Recall: Percentage of correct positive predictions relative to total actual positives.\n",
    "\n",
    "3. F1 Score: A weighted harmonic mean of precision and recall. The closer to 1, the better the model.\n",
    "\n",
    "F1 Score: 2 * (Precision * Recall) / (Precision + Recall)\n",
    "Using these three metrics, we can understand how well a given classification model is able to predict the outcomes for some response variable.\n",
    "\n",
    "Fortunately, when fitting a classification model in Python we can use the classification_report() function from the sklearn library to generate all three of these metrics.\n",
    "\n",
    "The following example shows how to use this function in practice.\n",
    "\n",
    "(from: https://www.statology.org/sklearn-classification-report/)"
   ]
  },
  {
   "cell_type": "code",
   "execution_count": 11,
   "metadata": {},
   "outputs": [
    {
     "name": "stdout",
     "output_type": "stream",
     "text": [
      "{'without diabetes': {'precision': 0.7682119205298014, 'recall': 0.9206349206349206, 'f1-score': 0.8375451263537906, 'support': 126.0}, 'with diabetes': {'precision': 0.7560975609756098, 'recall': 0.4696969696969697, 'f1-score': 0.5794392523364486, 'support': 66.0}, 'accuracy': 0.765625, 'macro avg': {'precision': 0.7621547407527056, 'recall': 0.6951659451659451, 'f1-score': 0.7084921893451196, 'support': 192.0}, 'weighted avg': {'precision': 0.7640476094330481, 'recall': 0.765625, 'f1-score': 0.7488212321603293, 'support': 192.0}}\n",
      "0.765625\n"
     ]
    }
   ],
   "source": [
    "from sklearn.metrics import classification_report\n",
    "target_names = ['without diabetes', 'with diabetes']\n",
    "output_report = classification_report(y_test, y_pred, target_names=target_names, output_dict=True)\n",
    "print(output_report)\n",
    "print(output_report['accuracy'])\n",
    "\n",
    "# We can see from this report that the model is pretty good at predicting that people do not have diabetes,\n",
    "# but pretty poor at determining if people do have diabetes"
   ]
  },
  {
   "cell_type": "markdown",
   "metadata": {},
   "source": [
    "More info on the ROC curve here: https://developers.google.com/machine-learning/crash-course/classification/roc-and-auc#:~:text=The%20area%20under%20the%20ROC,curve%20(AUC)%20of%201.0.\n",
    "\n",
    "It's a demonstration of the probability, if given a positive and negative outcome, that it will rank the positive outcome over the negative one. If given the data for a positive and negative diabetes outcome, how likely is it that it will predict the positive is positve and the negative is negative.\n",
    "\n",
    "A perfect model would have a straight line at 1 going all the way across. A model that's no better than a coin flip would be a 45 degree line.\n",
    "\n",
    "Our model is better than flipping a coin.\n",
    "\n",
    "The points closest to 0,1 represent the range of the best preforming thresholds for the model. We need to choose a threshold that suits out case. As false negatives for diabetes are costly, we want a threshold that doesn't risk that, even if it's worse for our true positive rate.\n",
    "\n",
    "We can alter our threshold (standard is 0.5) by altering the line: y_pred_proba = lr.predict_proba(X_test)[::,1] to y_pred_proba = (lr.predict_proba(X_test)[::,1] >= new_threshold).astype(int) "
   ]
  },
  {
   "cell_type": "code",
   "execution_count": 13,
   "metadata": {},
   "outputs": [
    {
     "data": {
      "image/png": "[encoded data removed]",
      "text/plain": [
       "<Figure size 640x480 with 1 Axes>"
      ]
     },
     "metadata": {},
     "output_type": "display_data"
    }
   ],
   "source": [
    "y_pred_proba = (lr.predict_proba(X_test)[::,1] >= 0.6).astype(int)\n",
    "fpr, tpr, _ = metrics.roc_curve(y_test,  y_pred_proba)\n",
    "auc = metrics.roc_auc_score(y_test, y_pred_proba)\n",
    "plt.plot(fpr,tpr,label=\"data 1, auc=\"+str(auc))\n",
    "plt.legend(loc=4)\n",
    "plt.show()"
   ]
  },
  {
   "cell_type": "markdown",
   "metadata": {},
   "source": [
    "Here we are going to rebuild the model over and over using every possible combination of features to find the one that builds the best model, we'll then print that and use it going forward.\n",
    "\n",
    "We could then go on and re do what we've done earlier with that new feature set."
   ]
  },
  {
   "cell_type": "code",
   "execution_count": 14,
   "metadata": {},
   "outputs": [
    {
     "name": "stdout",
     "output_type": "stream",
     "text": [
      "[('Pregnancies',), ('Glucose',), ('BloodPressure',), ('SkinThickness',), ('Insulin',), ('BMI',), ('DiabetesPedigreeFunction',), ('Age',), ('Pregnancies', 'Glucose'), ('Pregnancies', 'BloodPressure'), ('Pregnancies', 'SkinThickness'), ('Pregnancies', 'Insulin'), ('Pregnancies', 'BMI'), ('Pregnancies', 'DiabetesPedigreeFunction'), ('Pregnancies', 'Age'), ('Glucose', 'BloodPressure'), ('Glucose', 'SkinThickness'), ('Glucose', 'Insulin'), ('Glucose', 'BMI'), ('Glucose', 'DiabetesPedigreeFunction'), ('Glucose', 'Age'), ('BloodPressure', 'SkinThickness'), ('BloodPressure', 'Insulin'), ('BloodPressure', 'BMI'), ('BloodPressure', 'DiabetesPedigreeFunction'), ('BloodPressure', 'Age'), ('SkinThickness', 'Insulin'), ('SkinThickness', 'BMI'), ('SkinThickness', 'DiabetesPedigreeFunction'), ('SkinThickness', 'Age'), ('Insulin', 'BMI'), ('Insulin', 'DiabetesPedigreeFunction'), ('Insulin', 'Age'), ('BMI', 'DiabetesPedigreeFunction'), ('BMI', 'Age'), ('DiabetesPedigreeFunction', 'Age'), ('Pregnancies', 'Glucose', 'BloodPressure'), ('Pregnancies', 'Glucose', 'SkinThickness'), ('Pregnancies', 'Glucose', 'Insulin'), ('Pregnancies', 'Glucose', 'BMI'), ('Pregnancies', 'Glucose', 'DiabetesPedigreeFunction'), ('Pregnancies', 'Glucose', 'Age'), ('Pregnancies', 'BloodPressure', 'SkinThickness'), ('Pregnancies', 'BloodPressure', 'Insulin'), ('Pregnancies', 'BloodPressure', 'BMI'), ('Pregnancies', 'BloodPressure', 'DiabetesPedigreeFunction'), ('Pregnancies', 'BloodPressure', 'Age'), ('Pregnancies', 'SkinThickness', 'Insulin'), ('Pregnancies', 'SkinThickness', 'BMI'), ('Pregnancies', 'SkinThickness', 'DiabetesPedigreeFunction'), ('Pregnancies', 'SkinThickness', 'Age'), ('Pregnancies', 'Insulin', 'BMI'), ('Pregnancies', 'Insulin', 'DiabetesPedigreeFunction'), ('Pregnancies', 'Insulin', 'Age'), ('Pregnancies', 'BMI', 'DiabetesPedigreeFunction'), ('Pregnancies', 'BMI', 'Age'), ('Pregnancies', 'DiabetesPedigreeFunction', 'Age'), ('Glucose', 'BloodPressure', 'SkinThickness'), ('Glucose', 'BloodPressure', 'Insulin'), ('Glucose', 'BloodPressure', 'BMI'), ('Glucose', 'BloodPressure', 'DiabetesPedigreeFunction'), ('Glucose', 'BloodPressure', 'Age'), ('Glucose', 'SkinThickness', 'Insulin'), ('Glucose', 'SkinThickness', 'BMI'), ('Glucose', 'SkinThickness', 'DiabetesPedigreeFunction'), ('Glucose', 'SkinThickness', 'Age'), ('Glucose', 'Insulin', 'BMI'), ('Glucose', 'Insulin', 'DiabetesPedigreeFunction'), ('Glucose', 'Insulin', 'Age'), ('Glucose', 'BMI', 'DiabetesPedigreeFunction'), ('Glucose', 'BMI', 'Age'), ('Glucose', 'DiabetesPedigreeFunction', 'Age'), ('BloodPressure', 'SkinThickness', 'Insulin'), ('BloodPressure', 'SkinThickness', 'BMI'), ('BloodPressure', 'SkinThickness', 'DiabetesPedigreeFunction'), ('BloodPressure', 'SkinThickness', 'Age'), ('BloodPressure', 'Insulin', 'BMI'), ('BloodPressure', 'Insulin', 'DiabetesPedigreeFunction'), ('BloodPressure', 'Insulin', 'Age'), ('BloodPressure', 'BMI', 'DiabetesPedigreeFunction'), ('BloodPressure', 'BMI', 'Age'), ('BloodPressure', 'DiabetesPedigreeFunction', 'Age'), ('SkinThickness', 'Insulin', 'BMI'), ('SkinThickness', 'Insulin', 'DiabetesPedigreeFunction'), ('SkinThickness', 'Insulin', 'Age'), ('SkinThickness', 'BMI', 'DiabetesPedigreeFunction'), ('SkinThickness', 'BMI', 'Age'), ('SkinThickness', 'DiabetesPedigreeFunction', 'Age'), ('Insulin', 'BMI', 'DiabetesPedigreeFunction'), ('Insulin', 'BMI', 'Age'), ('Insulin', 'DiabetesPedigreeFunction', 'Age'), ('BMI', 'DiabetesPedigreeFunction', 'Age'), ('Pregnancies', 'Glucose', 'BloodPressure', 'SkinThickness'), ('Pregnancies', 'Glucose', 'BloodPressure', 'Insulin'), ('Pregnancies', 'Glucose', 'BloodPressure', 'BMI'), ('Pregnancies', 'Glucose', 'BloodPressure', 'DiabetesPedigreeFunction'), ('Pregnancies', 'Glucose', 'BloodPressure', 'Age'), ('Pregnancies', 'Glucose', 'SkinThickness', 'Insulin'), ('Pregnancies', 'Glucose', 'SkinThickness', 'BMI'), ('Pregnancies', 'Glucose', 'SkinThickness', 'DiabetesPedigreeFunction'), ('Pregnancies', 'Glucose', 'SkinThickness', 'Age'), ('Pregnancies', 'Glucose', 'Insulin', 'BMI'), ('Pregnancies', 'Glucose', 'Insulin', 'DiabetesPedigreeFunction'), ('Pregnancies', 'Glucose', 'Insulin', 'Age'), ('Pregnancies', 'Glucose', 'BMI', 'DiabetesPedigreeFunction'), ('Pregnancies', 'Glucose', 'BMI', 'Age'), ('Pregnancies', 'Glucose', 'DiabetesPedigreeFunction', 'Age'), ('Pregnancies', 'BloodPressure', 'SkinThickness', 'Insulin'), ('Pregnancies', 'BloodPressure', 'SkinThickness', 'BMI'), ('Pregnancies', 'BloodPressure', 'SkinThickness', 'DiabetesPedigreeFunction'), ('Pregnancies', 'BloodPressure', 'SkinThickness', 'Age'), ('Pregnancies', 'BloodPressure', 'Insulin', 'BMI'), ('Pregnancies', 'BloodPressure', 'Insulin', 'DiabetesPedigreeFunction'), ('Pregnancies', 'BloodPressure', 'Insulin', 'Age'), ('Pregnancies', 'BloodPressure', 'BMI', 'DiabetesPedigreeFunction'), ('Pregnancies', 'BloodPressure', 'BMI', 'Age'), ('Pregnancies', 'BloodPressure', 'DiabetesPedigreeFunction', 'Age'), ('Pregnancies', 'SkinThickness', 'Insulin', 'BMI'), ('Pregnancies', 'SkinThickness', 'Insulin', 'DiabetesPedigreeFunction'), ('Pregnancies', 'SkinThickness', 'Insulin', 'Age'), ('Pregnancies', 'SkinThickness', 'BMI', 'DiabetesPedigreeFunction'), ('Pregnancies', 'SkinThickness', 'BMI', 'Age'), ('Pregnancies', 'SkinThickness', 'DiabetesPedigreeFunction', 'Age'), ('Pregnancies', 'Insulin', 'BMI', 'DiabetesPedigreeFunction'), ('Pregnancies', 'Insulin', 'BMI', 'Age'), ('Pregnancies', 'Insulin', 'DiabetesPedigreeFunction', 'Age'), ('Pregnancies', 'BMI', 'DiabetesPedigreeFunction', 'Age'), ('Glucose', 'BloodPressure', 'SkinThickness', 'Insulin'), ('Glucose', 'BloodPressure', 'SkinThickness', 'BMI'), ('Glucose', 'BloodPressure', 'SkinThickness', 'DiabetesPedigreeFunction'), ('Glucose', 'BloodPressure', 'SkinThickness', 'Age'), ('Glucose', 'BloodPressure', 'Insulin', 'BMI'), ('Glucose', 'BloodPressure', 'Insulin', 'DiabetesPedigreeFunction'), ('Glucose', 'BloodPressure', 'Insulin', 'Age'), ('Glucose', 'BloodPressure', 'BMI', 'DiabetesPedigreeFunction'), ('Glucose', 'BloodPressure', 'BMI', 'Age'), ('Glucose', 'BloodPressure', 'DiabetesPedigreeFunction', 'Age'), ('Glucose', 'SkinThickness', 'Insulin', 'BMI'), ('Glucose', 'SkinThickness', 'Insulin', 'DiabetesPedigreeFunction'), ('Glucose', 'SkinThickness', 'Insulin', 'Age'), ('Glucose', 'SkinThickness', 'BMI', 'DiabetesPedigreeFunction'), ('Glucose', 'SkinThickness', 'BMI', 'Age'), ('Glucose', 'SkinThickness', 'DiabetesPedigreeFunction', 'Age'), ('Glucose', 'Insulin', 'BMI', 'DiabetesPedigreeFunction'), ('Glucose', 'Insulin', 'BMI', 'Age'), ('Glucose', 'Insulin', 'DiabetesPedigreeFunction', 'Age'), ('Glucose', 'BMI', 'DiabetesPedigreeFunction', 'Age'), ('BloodPressure', 'SkinThickness', 'Insulin', 'BMI'), ('BloodPressure', 'SkinThickness', 'Insulin', 'DiabetesPedigreeFunction'), ('BloodPressure', 'SkinThickness', 'Insulin', 'Age'), ('BloodPressure', 'SkinThickness', 'BMI', 'DiabetesPedigreeFunction'), ('BloodPressure', 'SkinThickness', 'BMI', 'Age'), ('BloodPressure', 'SkinThickness', 'DiabetesPedigreeFunction', 'Age'), ('BloodPressure', 'Insulin', 'BMI', 'DiabetesPedigreeFunction'), ('BloodPressure', 'Insulin', 'BMI', 'Age'), ('BloodPressure', 'Insulin', 'DiabetesPedigreeFunction', 'Age'), ('BloodPressure', 'BMI', 'DiabetesPedigreeFunction', 'Age'), ('SkinThickness', 'Insulin', 'BMI', 'DiabetesPedigreeFunction'), ('SkinThickness', 'Insulin', 'BMI', 'Age'), ('SkinThickness', 'Insulin', 'DiabetesPedigreeFunction', 'Age'), ('SkinThickness', 'BMI', 'DiabetesPedigreeFunction', 'Age'), ('Insulin', 'BMI', 'DiabetesPedigreeFunction', 'Age'), ('Pregnancies', 'Glucose', 'BloodPressure', 'SkinThickness', 'Insulin'), ('Pregnancies', 'Glucose', 'BloodPressure', 'SkinThickness', 'BMI'), ('Pregnancies', 'Glucose', 'BloodPressure', 'SkinThickness', 'DiabetesPedigreeFunction'), ('Pregnancies', 'Glucose', 'BloodPressure', 'SkinThickness', 'Age'), ('Pregnancies', 'Glucose', 'BloodPressure', 'Insulin', 'BMI'), ('Pregnancies', 'Glucose', 'BloodPressure', 'Insulin', 'DiabetesPedigreeFunction'), ('Pregnancies', 'Glucose', 'BloodPressure', 'Insulin', 'Age'), ('Pregnancies', 'Glucose', 'BloodPressure', 'BMI', 'DiabetesPedigreeFunction'), ('Pregnancies', 'Glucose', 'BloodPressure', 'BMI', 'Age'), ('Pregnancies', 'Glucose', 'BloodPressure', 'DiabetesPedigreeFunction', 'Age'), ('Pregnancies', 'Glucose', 'SkinThickness', 'Insulin', 'BMI'), ('Pregnancies', 'Glucose', 'SkinThickness', 'Insulin', 'DiabetesPedigreeFunction'), ('Pregnancies', 'Glucose', 'SkinThickness', 'Insulin', 'Age'), ('Pregnancies', 'Glucose', 'SkinThickness', 'BMI', 'DiabetesPedigreeFunction'), ('Pregnancies', 'Glucose', 'SkinThickness', 'BMI', 'Age'), ('Pregnancies', 'Glucose', 'SkinThickness', 'DiabetesPedigreeFunction', 'Age'), ('Pregnancies', 'Glucose', 'Insulin', 'BMI', 'DiabetesPedigreeFunction'), ('Pregnancies', 'Glucose', 'Insulin', 'BMI', 'Age'), ('Pregnancies', 'Glucose', 'Insulin', 'DiabetesPedigreeFunction', 'Age'), ('Pregnancies', 'Glucose', 'BMI', 'DiabetesPedigreeFunction', 'Age'), ('Pregnancies', 'BloodPressure', 'SkinThickness', 'Insulin', 'BMI'), ('Pregnancies', 'BloodPressure', 'SkinThickness', 'Insulin', 'DiabetesPedigreeFunction'), ('Pregnancies', 'BloodPressure', 'SkinThickness', 'Insulin', 'Age'), ('Pregnancies', 'BloodPressure', 'SkinThickness', 'BMI', 'DiabetesPedigreeFunction'), ('Pregnancies', 'BloodPressure', 'SkinThickness', 'BMI', 'Age'), ('Pregnancies', 'BloodPressure', 'SkinThickness', 'DiabetesPedigreeFunction', 'Age'), ('Pregnancies', 'BloodPressure', 'Insulin', 'BMI', 'DiabetesPedigreeFunction'), ('Pregnancies', 'BloodPressure', 'Insulin', 'BMI', 'Age'), ('Pregnancies', 'BloodPressure', 'Insulin', 'DiabetesPedigreeFunction', 'Age'), ('Pregnancies', 'BloodPressure', 'BMI', 'DiabetesPedigreeFunction', 'Age'), ('Pregnancies', 'SkinThickness', 'Insulin', 'BMI', 'DiabetesPedigreeFunction'), ('Pregnancies', 'SkinThickness', 'Insulin', 'BMI', 'Age'), ('Pregnancies', 'SkinThickness', 'Insulin', 'DiabetesPedigreeFunction', 'Age'), ('Pregnancies', 'SkinThickness', 'BMI', 'DiabetesPedigreeFunction', 'Age'), ('Pregnancies', 'Insulin', 'BMI', 'DiabetesPedigreeFunction', 'Age'), ('Glucose', 'BloodPressure', 'SkinThickness', 'Insulin', 'BMI'), ('Glucose', 'BloodPressure', 'SkinThickness', 'Insulin', 'DiabetesPedigreeFunction'), ('Glucose', 'BloodPressure', 'SkinThickness', 'Insulin', 'Age'), ('Glucose', 'BloodPressure', 'SkinThickness', 'BMI', 'DiabetesPedigreeFunction'), ('Glucose', 'BloodPressure', 'SkinThickness', 'BMI', 'Age'), ('Glucose', 'BloodPressure', 'SkinThickness', 'DiabetesPedigreeFunction', 'Age'), ('Glucose', 'BloodPressure', 'Insulin', 'BMI', 'DiabetesPedigreeFunction'), ('Glucose', 'BloodPressure', 'Insulin', 'BMI', 'Age'), ('Glucose', 'BloodPressure', 'Insulin', 'DiabetesPedigreeFunction', 'Age'), ('Glucose', 'BloodPressure', 'BMI', 'DiabetesPedigreeFunction', 'Age'), ('Glucose', 'SkinThickness', 'Insulin', 'BMI', 'DiabetesPedigreeFunction'), ('Glucose', 'SkinThickness', 'Insulin', 'BMI', 'Age'), ('Glucose', 'SkinThickness', 'Insulin', 'DiabetesPedigreeFunction', 'Age'), ('Glucose', 'SkinThickness', 'BMI', 'DiabetesPedigreeFunction', 'Age'), ('Glucose', 'Insulin', 'BMI', 'DiabetesPedigreeFunction', 'Age'), ('BloodPressure', 'SkinThickness', 'Insulin', 'BMI', 'DiabetesPedigreeFunction'), ('BloodPressure', 'SkinThickness', 'Insulin', 'BMI', 'Age'), ('BloodPressure', 'SkinThickness', 'Insulin', 'DiabetesPedigreeFunction', 'Age'), ('BloodPressure', 'SkinThickness', 'BMI', 'DiabetesPedigreeFunction', 'Age'), ('BloodPressure', 'Insulin', 'BMI', 'DiabetesPedigreeFunction', 'Age'), ('SkinThickness', 'Insulin', 'BMI', 'DiabetesPedigreeFunction', 'Age'), ('Pregnancies', 'Glucose', 'BloodPressure', 'SkinThickness', 'Insulin', 'BMI'), ('Pregnancies', 'Glucose', 'BloodPressure', 'SkinThickness', 'Insulin', 'DiabetesPedigreeFunction'), ('Pregnancies', 'Glucose', 'BloodPressure', 'SkinThickness', 'Insulin', 'Age'), ('Pregnancies', 'Glucose', 'BloodPressure', 'SkinThickness', 'BMI', 'DiabetesPedigreeFunction'), ('Pregnancies', 'Glucose', 'BloodPressure', 'SkinThickness', 'BMI', 'Age'), ('Pregnancies', 'Glucose', 'BloodPressure', 'SkinThickness', 'DiabetesPedigreeFunction', 'Age'), ('Pregnancies', 'Glucose', 'BloodPressure', 'Insulin', 'BMI', 'DiabetesPedigreeFunction'), ('Pregnancies', 'Glucose', 'BloodPressure', 'Insulin', 'BMI', 'Age'), ('Pregnancies', 'Glucose', 'BloodPressure', 'Insulin', 'DiabetesPedigreeFunction', 'Age'), ('Pregnancies', 'Glucose', 'BloodPressure', 'BMI', 'DiabetesPedigreeFunction', 'Age'), ('Pregnancies', 'Glucose', 'SkinThickness', 'Insulin', 'BMI', 'DiabetesPedigreeFunction'), ('Pregnancies', 'Glucose', 'SkinThickness', 'Insulin', 'BMI', 'Age'), ('Pregnancies', 'Glucose', 'SkinThickness', 'Insulin', 'DiabetesPedigreeFunction', 'Age'), ('Pregnancies', 'Glucose', 'SkinThickness', 'BMI', 'DiabetesPedigreeFunction', 'Age'), ('Pregnancies', 'Glucose', 'Insulin', 'BMI', 'DiabetesPedigreeFunction', 'Age'), ('Pregnancies', 'BloodPressure', 'SkinThickness', 'Insulin', 'BMI', 'DiabetesPedigreeFunction'), ('Pregnancies', 'BloodPressure', 'SkinThickness', 'Insulin', 'BMI', 'Age'), ('Pregnancies', 'BloodPressure', 'SkinThickness', 'Insulin', 'DiabetesPedigreeFunction', 'Age'), ('Pregnancies', 'BloodPressure', 'SkinThickness', 'BMI', 'DiabetesPedigreeFunction', 'Age'), ('Pregnancies', 'BloodPressure', 'Insulin', 'BMI', 'DiabetesPedigreeFunction', 'Age'), ('Pregnancies', 'SkinThickness', 'Insulin', 'BMI', 'DiabetesPedigreeFunction', 'Age'), ('Glucose', 'BloodPressure', 'SkinThickness', 'Insulin', 'BMI', 'DiabetesPedigreeFunction'), ('Glucose', 'BloodPressure', 'SkinThickness', 'Insulin', 'BMI', 'Age'), ('Glucose', 'BloodPressure', 'SkinThickness', 'Insulin', 'DiabetesPedigreeFunction', 'Age'), ('Glucose', 'BloodPressure', 'SkinThickness', 'BMI', 'DiabetesPedigreeFunction', 'Age'), ('Glucose', 'BloodPressure', 'Insulin', 'BMI', 'DiabetesPedigreeFunction', 'Age'), ('Glucose', 'SkinThickness', 'Insulin', 'BMI', 'DiabetesPedigreeFunction', 'Age'), ('BloodPressure', 'SkinThickness', 'Insulin', 'BMI', 'DiabetesPedigreeFunction', 'Age'), ('Pregnancies', 'Glucose', 'BloodPressure', 'SkinThickness', 'Insulin', 'BMI', 'DiabetesPedigreeFunction'), ('Pregnancies', 'Glucose', 'BloodPressure', 'SkinThickness', 'Insulin', 'BMI', 'Age'), ('Pregnancies', 'Glucose', 'BloodPressure', 'SkinThickness', 'Insulin', 'DiabetesPedigreeFunction', 'Age'), ('Pregnancies', 'Glucose', 'BloodPressure', 'SkinThickness', 'BMI', 'DiabetesPedigreeFunction', 'Age'), ('Pregnancies', 'Glucose', 'BloodPressure', 'Insulin', 'BMI', 'DiabetesPedigreeFunction', 'Age'), ('Pregnancies', 'Glucose', 'SkinThickness', 'Insulin', 'BMI', 'DiabetesPedigreeFunction', 'Age'), ('Pregnancies', 'BloodPressure', 'SkinThickness', 'Insulin', 'BMI', 'DiabetesPedigreeFunction', 'Age'), ('Glucose', 'BloodPressure', 'SkinThickness', 'Insulin', 'BMI', 'DiabetesPedigreeFunction', 'Age'), ('Pregnancies', 'Glucose', 'BloodPressure', 'SkinThickness', 'Insulin', 'BMI', 'DiabetesPedigreeFunction', 'Age')]\n"
     ]
    },
    {
     "name": "stderr",
     "output_type": "stream",
     "text": [
      "/usr/local/python/3.10.13/lib/python3.10/site-packages/sklearn/metrics/_classification.py:1509: UndefinedMetricWarning: Precision is ill-defined and being set to 0.0 in labels with no predicted samples. Use `zero_division` parameter to control this behavior.\n",
      "  _warn_prf(average, modifier, f\"{metric.capitalize()} is\", len(result))\n",
      "/usr/local/python/3.10.13/lib/python3.10/site-packages/sklearn/metrics/_classification.py:1509: UndefinedMetricWarning: Precision is ill-defined and being set to 0.0 in labels with no predicted samples. Use `zero_division` parameter to control this behavior.\n",
      "  _warn_prf(average, modifier, f\"{metric.capitalize()} is\", len(result))\n",
      "/usr/local/python/3.10.13/lib/python3.10/site-packages/sklearn/metrics/_classification.py:1509: UndefinedMetricWarning: Precision is ill-defined and being set to 0.0 in labels with no predicted samples. Use `zero_division` parameter to control this behavior.\n",
      "  _warn_prf(average, modifier, f\"{metric.capitalize()} is\", len(result))\n",
      "/usr/local/python/3.10.13/lib/python3.10/site-packages/sklearn/metrics/_classification.py:1509: UndefinedMetricWarning: Precision is ill-defined and being set to 0.0 in labels with no predicted samples. Use `zero_division` parameter to control this behavior.\n",
      "  _warn_prf(average, modifier, f\"{metric.capitalize()} is\", len(result))\n",
      "/usr/local/python/3.10.13/lib/python3.10/site-packages/sklearn/metrics/_classification.py:1509: UndefinedMetricWarning: Precision is ill-defined and being set to 0.0 in labels with no predicted samples. Use `zero_division` parameter to control this behavior.\n",
      "  _warn_prf(average, modifier, f\"{metric.capitalize()} is\", len(result))\n",
      "/usr/local/python/3.10.13/lib/python3.10/site-packages/sklearn/metrics/_classification.py:1509: UndefinedMetricWarning: Precision is ill-defined and being set to 0.0 in labels with no predicted samples. Use `zero_division` parameter to control this behavior.\n",
      "  _warn_prf(average, modifier, f\"{metric.capitalize()} is\", len(result))\n",
      "/usr/local/python/3.10.13/lib/python3.10/site-packages/sklearn/metrics/_classification.py:1509: UndefinedMetricWarning: Precision is ill-defined and being set to 0.0 in labels with no predicted samples. Use `zero_division` parameter to control this behavior.\n",
      "  _warn_prf(average, modifier, f\"{metric.capitalize()} is\", len(result))\n",
      "/usr/local/python/3.10.13/lib/python3.10/site-packages/sklearn/metrics/_classification.py:1509: UndefinedMetricWarning: Precision is ill-defined and being set to 0.0 in labels with no predicted samples. Use `zero_division` parameter to control this behavior.\n",
      "  _warn_prf(average, modifier, f\"{metric.capitalize()} is\", len(result))\n",
      "/usr/local/python/3.10.13/lib/python3.10/site-packages/sklearn/metrics/_classification.py:1509: UndefinedMetricWarning: Precision is ill-defined and being set to 0.0 in labels with no predicted samples. Use `zero_division` parameter to control this behavior.\n",
      "  _warn_prf(average, modifier, f\"{metric.capitalize()} is\", len(result))\n"
     ]
    },
    {
     "name": "stdout",
     "output_type": "stream",
     "text": [
      "['Pregnancies', 'Glucose', 'BMI']\n"
     ]
    }
   ],
   "source": [
    "import itertools\n",
    "\n",
    "combinations = []\n",
    "\n",
    "for i in range(1, 9):\n",
    "    combs_at_i = list(itertools.combinations(features, i))\n",
    "    combinations.extend(combs_at_i)\n",
    "\n",
    "print(combinations)\n",
    "\n",
    "accuracy = 0\n",
    "best_X = 0\n",
    "\n",
    "for feature_set in combinations:\n",
    "    X = df[list(feature_set)]\n",
    "    y = df.Outcome\n",
    "    X_train, X_test, y_train, y_test = train_test_split(X, y, test_size=0.25, random_state=11)\n",
    "\n",
    "    lr_iterated = LogisticRegression(random_state=1, max_iter=400)\n",
    "\n",
    "    lr_iterated.fit(X_train, y_train)\n",
    "    y_pred = lr_iterated.predict(X_test)\n",
    "\n",
    "    output_report = classification_report(y_test, y_pred, target_names=target_names, output_dict=True)\n",
    "\n",
    "    acc = output_report['accuracy']\n",
    "    if acc > accuracy:\n",
    "        accuracy = acc\n",
    "        best_X = list(feature_set)\n",
    "\n",
    "print(best_X)"
   ]
  }
 ],
 "metadata": {
  "kernelspec": {
   "display_name": "Python 3",
   "language": "python",
   "name": "python3"
  },
  "language_info": {
   "codemirror_mode": {
    "name": "ipython",
    "version": 3
   },
   "file_extension": ".py",
   "mimetype": "text/x-python",
   "name": "python",
   "nbconvert_exporter": "python",
   "pygments_lexer": "ipython3",
   "version": "3.10.13"
  }
 },
 "nbformat": 4,
 "nbformat_minor": 2
}
