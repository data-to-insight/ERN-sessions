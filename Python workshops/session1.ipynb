{
 "cells": [
  {
   "cell_type": "code",
   "execution_count": 38,
   "metadata": {},
   "outputs": [],
   "source": [
    "num_1 = 5 # integer - int\n",
    "num_2 = 5.0 # float - float\n",
    "\n",
    "num_3 = \"5\" # string - str\n",
    "\n"
   ]
  },
  {
   "cell_type": "code",
   "execution_count": 39,
   "metadata": {},
   "outputs": [
    {
     "name": "stdout",
     "output_type": "stream",
     "text": [
      "50.0\n"
     ]
    }
   ],
   "source": [
    "''' \n",
    "/ - divide\n",
    "* - times\n",
    "type() - checks the type of data\n",
    "print() - prints the data\n",
    "'''\n",
    "\n",
    "x = 5.0\n",
    "y = 10 \n",
    "\n",
    "z = y * x\n",
    "\n",
    "print(z)"
   ]
  },
  {
   "cell_type": "code",
   "execution_count": 40,
   "metadata": {},
   "outputs": [
    {
     "name": "stdout",
     "output_type": "stream",
     "text": [
      "6.0\n"
     ]
    }
   ],
   "source": [
    "x = x + 1\n",
    "print(x)"
   ]
  },
  {
   "cell_type": "code",
   "execution_count": 44,
   "metadata": {},
   "outputs": [
    {
     "name": "stdout",
     "output_type": "stream",
     "text": [
      "56\n",
      "77.708472601283\n"
     ]
    }
   ],
   "source": [
    "# In this cell, initialise two numeric variables and find their product \n",
    "# using the * operator for multiplication and assign this to a new variable.\n",
    "# Print the new variable\n",
    "\n",
    "i = 7\n",
    "j = 8\n",
    "k = i * j\n",
    "print(k)\n",
    "\n",
    "# The radius of a circle is 2, assume that Pi is 3.14. Assign both of these \n",
    "# to suitably named variables and find the area of the circle.\n",
    "# We can find the area of a circle by finding the product of Pi with the radius squared.\n",
    "# You probably don't know how to square a number in Python yet, so use Google to work it out!\n",
    "\n",
    "radius = 2\n",
    "pi = 3.14\n",
    "# **\n",
    "area = (radius ** 2) * pi\n",
    "\n",
    "print(area)"
   ]
  },
  {
   "cell_type": "code",
   "execution_count": 60,
   "metadata": {},
   "outputs": [
    {
     "name": "stdout",
     "output_type": "stream",
     "text": [
      "My name is Will, and I like Trail Running.\n",
      "My name is Will, and I like Trail Running.\n"
     ]
    }
   ],
   "source": [
    "name = \"Will\"\n",
    "hobby = \"Trail Running\"\n",
    "\n",
    "phrase_1 = \"My name is \" + name + \", and I like \" + hobby + \".\"\n",
    "\n",
    "print(phrase_1)\n",
    "\n",
    "phrase_2 = f\"My name is {name}, and I like {hobby}.\"\n",
    "print(phrase_2)"
   ]
  },
  {
   "cell_type": "code",
   "execution_count": 62,
   "metadata": {},
   "outputs": [
    {
     "name": "stdout",
     "output_type": "stream",
     "text": [
      "Andrew is a Data Manager.\n"
     ]
    }
   ],
   "source": [
    "# In this cell, initialise two appropriately named variables, one for your name and one for your job title.\n",
    "# Next, combine them in an f string, assigned to a different, appropriately named variable.\n",
    "# Finally, print the f string.\n",
    "\n",
    "name = \"Andrew\"\n",
    "job = \"Data Manager\"\n",
    "\n",
    "name_job = f\"{name} is a {job}.\"\n",
    "print(name_job)\n",
    "\n",
    "# Make a variable for a string and one for a number, \n",
    "# Try and add them (not inside an f string) and see what happens"
   ]
  },
  {
   "cell_type": "code",
   "execution_count": 80,
   "metadata": {},
   "outputs": [
    {
     "name": "stdout",
     "output_type": "stream",
     "text": [
      "987654321\n"
     ]
    }
   ],
   "source": [
    "num_string = \"123456789\"\n",
    "\n",
    "# sub_string = num_string[1]\n",
    "\n",
    "# start is INCLUSIVE\n",
    "# stop is EXCLUSIVE\n",
    "sub_string = num_string[-1::-1]\n",
    "\n",
    "print(sub_string)"
   ]
  },
  {
   "cell_type": "code",
   "execution_count": 1,
   "metadata": {},
   "outputs": [
    {
     "name": "stdout",
     "output_type": "stream",
     "text": [
      "CLAs\n"
     ]
    }
   ],
   "source": [
    "filename = \"CLAs.csv\"\n",
    "\n",
    "filename = filename[:-4]\n",
    "\n",
    "print(filename)"
   ]
  }
 ],
 "metadata": {
  "kernelspec": {
   "display_name": "Python 3 (ipykernel)",
   "language": "python",
   "name": "python3"
  },
  "language_info": {
   "codemirror_mode": {
    "name": "ipython",
    "version": 3
   },
   "file_extension": ".py",
   "mimetype": "text/x-python",
   "name": "python",
   "nbconvert_exporter": "python",
   "pygments_lexer": "ipython3",
   "version": "3.10.13"
  }
 },
 "nbformat": 4,
 "nbformat_minor": 2
}
