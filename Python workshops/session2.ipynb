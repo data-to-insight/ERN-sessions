{
 "cells": [
  {
   "cell_type": "code",
   "execution_count": 26,
   "metadata": {},
   "outputs": [
    {
     "name": "stdout",
     "output_type": "stream",
     "text": [
      "My name is will!\n"
     ]
    }
   ],
   "source": [
    "phrase = \"My name is will!\"\n",
    "print(phrase)"
   ]
  },
  {
   "cell_type": "code",
   "execution_count": 31,
   "metadata": {},
   "outputs": [
    {
     "name": "stdout",
     "output_type": "stream",
     "text": [
      "!lliw si eman yM\n",
      "name is will!\n",
      "My name is \n"
     ]
    }
   ],
   "source": [
    "# [ start : stop : step]\n",
    "sub_string_1 = phrase[-1::-1]\n",
    "print(sub_string_1)\n",
    "\n",
    "sub_string_2 = phrase[3:]\n",
    "print(sub_string_2)\n",
    "\n",
    "sub_string_3 = phrase[:-5]\n",
    "print(sub_string_3)\n"
   ]
  },
  {
   "cell_type": "code",
   "execution_count": 33,
   "metadata": {},
   "outputs": [
    {
     "name": "stdout",
     "output_type": "stream",
     "text": [
      "<class 'list'>\n"
     ]
    }
   ],
   "source": [
    "list_1 = []\n",
    "print(type(list_1))"
   ]
  },
  {
   "cell_type": "code",
   "execution_count": 49,
   "metadata": {},
   "outputs": [
    {
     "name": "stdout",
     "output_type": "stream",
     "text": [
      "['red', 'blue', 'green', 'teal']\n",
      "['red', 'blue', 'green', 'teal', 'puple']\n",
      "teal\n",
      "['red', 'blue', 'green', 'teal', 'puple', ['turquoise', 'teal'], 'turquoise', 'teal']\n",
      "['red', 'blue', 'green', 'puple', ['turquoise', 'teal'], 'turquoise', 'teal']\n",
      "['red', 'blue', 'green', 'puple', ['turquoise', 'teal'], 'turquoise']\n",
      "['burger', 'pizza', 'pasta', 'pasty', 'chocolate', 'cabbage', 'sausages']\n"
     ]
    }
   ],
   "source": [
    "colour = \"teal\"\n",
    "\n",
    "colours = [\"red\", \"blue\", \"green\", colour]\n",
    "print(colours)\n",
    "\n",
    "colours.append('puple')\n",
    "print(colours)\n",
    "\n",
    "extra_colours = ['turquoise', \"teal\"]\n",
    "colours.append(extra_colours)\n",
    "print(colours[-1][1])\n",
    "\n",
    "colours.extend(extra_colours)\n",
    "print(colours)\n",
    "\n",
    "colours.remove('teal')\n",
    "print(colours)\n",
    "colours.remove('teal')\n",
    "print(colours)\n",
    "\n",
    "# In this cell, make a list of a few foods and print it.\n",
    "food_list = [\"burger\", \"pizza\", \"pasta\"]\n",
    "\n",
    "# Then extend the list with another food and print it.\n",
    "food_list.append(\"pasty\")\n",
    "\n",
    "# Next, make another list of foods, and use the extend method to \n",
    "# add those extra foods as individual elements of the list, and print it.\n",
    "more_foods = [\"chocolate\", \"crackers\"]\n",
    "food_list.extend(more_foods)\n",
    "food_list.extend([\"cabbage\", \"sausages\"])\n",
    "\n",
    "\n",
    "# Finally, remove and element from the list and print the final list.\n",
    "# Remember to always use a suitable name for your lists!\n",
    "food_list.remove(\"crackers\")\n",
    "print(food_list)"
   ]
  },
  {
   "cell_type": "code",
   "execution_count": 55,
   "metadata": {},
   "outputs": [
    {
     "name": "stdout",
     "output_type": "stream",
     "text": [
      "[2, 3, 4, 5, 6, 6, 8, 9]\n",
      "[9, 8, 6, 6, 5, 4, 3, 2]\n",
      "[2, 3, 4, 5, 6, 6, 8, 9]\n",
      "['sausages', 'pizza', 'pasty', 'pasta', 'chocolate', 'cabbage', 'burger']\n",
      "['burger', 'cabbage', 'chocolate', 'pasta', 'pasty', 'pizza', 'sausages']\n"
     ]
    }
   ],
   "source": [
    "number_list = [3, 6, 4, 5, 2, 8, 9, 6]\n",
    "\n",
    "number_list.sort()\n",
    "print(number_list)\n",
    "\n",
    "number_list.sort(reverse=True)\n",
    "print(number_list)\n",
    "\n",
    "sorted_list = sorted(number_list)\n",
    "print(sorted_list)\n",
    "\n",
    "food_list.sort(reverse=True)\n",
    "print(food_list)\n",
    "\n",
    "sorted_foods = sorted(food_list)\n",
    "print(sorted_foods)"
   ]
  },
  {
   "cell_type": "code",
   "execution_count": 59,
   "metadata": {},
   "outputs": [
    {
     "name": "stdout",
     "output_type": "stream",
     "text": [
      "[1, 1, 3, 4, 6, 6, 8]\n"
     ]
    }
   ],
   "source": [
    "numbers = [1, 4, 6, 8, 1, 3, 6]\n",
    "numbers.sort()\n",
    "print(numbers)"
   ]
  },
  {
   "cell_type": "code",
   "execution_count": 60,
   "metadata": {},
   "outputs": [
    {
     "name": "stdout",
     "output_type": "stream",
     "text": [
      "['burger', 'cabbage', 'chocolate', 'pasta', 'pasty', 'pizza', 'sausages']\n",
      "['burger', 'cabbage', 'chocolate', 'pasta', 'pasty', 'pizza', 'sausages']\n",
      "['sausages', 'pizza', 'pasty', 'pasta', 'chocolate', 'cabbage', 'burger']\n"
     ]
    }
   ],
   "source": [
    "# sort your final list of foods using the .sort() method and the sorted() function, printing both, also try reversing it!\n",
    "foods_list = [ 'pasta',\n",
    "               'pasty', \n",
    "               'pizza', \n",
    "               'sausages', \n",
    "               'burger', \n",
    "               'cabbage', \n",
    "               'chocolate']\n",
    "sorted_food = sorted(foods_list,\n",
    "                     reverse=False)\n",
    "foods_list.sort()\n",
    "print(sorted_food)\n",
    "print(foods_list)\n",
    "\n",
    "foods_list.sort(reverse=True)\n",
    "print(food_list)\n",
    "\n"
   ]
  },
  {
   "cell_type": "code",
   "execution_count": 64,
   "metadata": {},
   "outputs": [
    {
     "data": {
      "text/plain": [
       "{'Will': 'purple',\n",
       " 'Andy': ['teal', 'red'],\n",
       " 'Naiomi': {'monday': 'blue', 'sunday': 'orange', 'other days': 'white'}}"
      ]
     },
     "execution_count": 64,
     "metadata": {},
     "output_type": "execute_result"
    }
   ],
   "source": [
    "favourite_colours = {\"Will\":\"purple\",\n",
    "                     \"Andy\":[\"teal\", \"red\"],\n",
    "                     \"Naiomi\":{\"monday\":\"blue\", \"sunday\":\"orange\", \"other days\":\"white\"}\n",
    "                     }\n",
    "\n",
    "favourite_colours"
   ]
  },
  {
   "cell_type": "code",
   "execution_count": 78,
   "metadata": {},
   "outputs": [
    {
     "name": "stdout",
     "output_type": "stream",
     "text": [
      "['The Pub', 'The Chippy', 'Fine Dining']\n",
      "dict_items([('The Pub', ['sausages', 'pizza', 'pasty', 'pasta', 'chocolate', 'cabbage', 'burger']), ('The Chippy', ['Fish', 'Chips', 'Battered Mars Bars']), ('Fine Dining', {'Week days': 'standard menu', 'Fridays and Weekends': 'Tasting Menu'})])\n",
      "dict_values([['sausages', 'pizza', 'pasty', 'pasta', 'chocolate', 'cabbage', 'burger'], ['Fish', 'Chips', 'Battered Mars Bars'], {'Week days': 'standard menu', 'Fridays and Weekends': 'Tasting Menu'}])\n"
     ]
    }
   ],
   "source": [
    "# make a dictionary of restaurants with keys being the name and values being the foods,\n",
    "# make sure at least one vlaue is a list of foods, and another is a dicitonary of days and foods\n",
    "\n",
    "food_dict = {\"The Pub\":food_list,\n",
    "             \"The Chippy\":[\"Fish\", \"Chips\", \"Battered Mars Bars\"],\n",
    "             \"Fine Dining\":{\"Week days\":\"standard menu\",\n",
    "                            \"Fridays and Weekends\":\"Tasting Menu\"}}\n",
    "food_dict_keys = list(food_dict)\n",
    "print(food_dict_keys)\n",
    "\n",
    "print(food_dict.items())\n",
    "print(food_dict.keys())\n",
    "print(food_dict.values())"
   ]
  },
  {
   "cell_type": "code",
   "execution_count": 91,
   "metadata": {},
   "outputs": [
    {
     "name": "stdout",
     "output_type": "stream",
     "text": [
      "False\n"
     ]
    }
   ],
   "source": [
    "favourite_colours = {\"Will\":\"purple\",\n",
    "                     \"Andy\":[\"teal\", \"red\"],\n",
    "                     \"Naiomi\":{\"monday\":\"blue\", \"sunday\":\"orange\", \"other days\":\"white\"}\n",
    "                     }\n",
    "\n",
    "# print(favourite_colours.items())\n",
    "# print(favourite_colours.keys())\n",
    "# print(favourite_colours.values())\n",
    "\n",
    "\n",
    "wills_colours = favourite_colours['Will']\n",
    "# print(wills_colours)\n",
    "\n",
    "favourite_colours['Annie'] = [\"Gold\", \"Silver\"]\n",
    "favourite_colours[\"Will\"] = \"Black\"\n",
    "\n",
    "# print(favourite_colours)\n",
    "\n",
    "print(\"Mo\" in favourite_colours)"
   ]
  },
  {
   "cell_type": "code",
   "execution_count": 94,
   "metadata": {},
   "outputs": [
    {
     "name": "stdout",
     "output_type": "stream",
     "text": [
      "['sausages', 'pizza', 'pasty', 'pasta', 'chocolate', 'cabbage', 'burger']\n",
      "{'The Pub': ['sausages', 'pizza', 'pasty', 'pasta', 'chocolate', 'cabbage', 'burger'], 'The Chippy': ['Fish', 'Chips', 'Battered Mars Bars'], 'Fine Dining': {'Week days': 'standard menu', 'Fridays and Weekends': 'Tasting Menu'}, 'mcdonalds': 'Burger'}\n",
      "True\n"
     ]
    }
   ],
   "source": [
    "food_dict = {\"The Pub\":food_list,\n",
    "             \"The Chippy\":[\"Fish\", \"Chips\", \"Battered Mars Bars\"],\n",
    "             \"Fine Dining\":{\"Week days\":\"standard menu\",\n",
    "                            \"Fridays and Weekends\":\"Tasting Menu\"}}\n",
    "# Using the key, print the values of one of the restaurants in your dicitonary.\n",
    "# Add a new key:value pair to your dictionary, as above.\n",
    "# Check whether 'mcdonalds' is a key in your dictionary, printing the answer.\n",
    "print(food_dict['The Pub'])\n",
    "\n",
    "food_dict['mcdonalds'] = \"Burger\"\n",
    "print(food_dict)\n",
    "\n",
    "print('mcdonalds' in food_dict)\n"
   ]
  }
 ],
 "metadata": {
  "kernelspec": {
   "display_name": "Python 3",
   "language": "python",
   "name": "python3"
  },
  "language_info": {
   "codemirror_mode": {
    "name": "ipython",
    "version": 3
   },
   "file_extension": ".py",
   "mimetype": "text/x-python",
   "name": "python",
   "nbconvert_exporter": "python",
   "pygments_lexer": "ipython3",
   "version": "3.10.13"
  }
 },
 "nbformat": 4,
 "nbformat_minor": 2
}
