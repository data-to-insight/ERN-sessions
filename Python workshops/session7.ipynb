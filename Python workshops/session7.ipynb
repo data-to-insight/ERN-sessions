{
 "cells": [
  {
   "cell_type": "code",
   "execution_count": 15,
   "metadata": {},
   "outputs": [
    {
     "name": "stdout",
     "output_type": "stream",
     "text": [
      "[1, 2, 3, 4, 5, 6, 7, 8, 9, 10]\n",
      "2\n",
      "4\n",
      "6\n",
      "8\n",
      "10\n",
      "12\n",
      "14\n",
      "16\n",
      "18\n",
      "20\n",
      "20\n"
     ]
    }
   ],
   "source": [
    "numbers = list(range(1,11))\n",
    "\n",
    "print(numbers)\n",
    "# thing we want to loop over is called the iterable\n",
    "# the elemtn we get is the iterator\n",
    "\n",
    "for num in numbers:\n",
    "    x = num + num\n",
    "    print(x)\n",
    "\n",
    "print(x)\n",
    "\n",
    "# first iterable in the list 1-10 is 1 - we're referring to it as i\n",
    "# so if i print i in the first loop - i print 1\n",
    "\n",
    "# second iterable in the list 1-10 is 2 - we're referring to it as i\n",
    "# so if I print i in the second loop - I print 2\n",
    "\n"
   ]
  },
  {
   "cell_type": "code",
   "execution_count": 19,
   "metadata": {},
   "outputs": [
    {
     "name": "stdout",
     "output_type": "stream",
     "text": [
      "Hi, I'm will!\n",
      "Hello, my name is Annie.\n",
      "Hello, my name is Andy.\n",
      "Hello, my name is Naiomi.\n",
      "Woof!\n"
     ]
    }
   ],
   "source": [
    "# make a list of 5 names as strings\n",
    "names_list = ['Will', 'Annie', 'Andy', 'Naiomi', 'Scout']\n",
    "\n",
    "# loop over that list of names and using an f string have it print out\n",
    "# somethign like \"Hello, my name is NAME\"\n",
    "for name in names_list:\n",
    "    if name == 'Scout':\n",
    "        print('Woof!')\n",
    "    elif name == 'Will':\n",
    "        print(\"Hi, I'm will!\")   \n",
    "    else:\n",
    "        phrase = f'Hello, my name is {name}.'\n",
    "        print(phrase)\n",
    "\n",
    "        \n"
   ]
  },
  {
   "cell_type": "code",
   "execution_count": 27,
   "metadata": {},
   "outputs": [
    {
     "data": {
      "text/plain": [
       "{0: 'Will', 1: 'Annie', 2: 'Andy', 3: 'Naiomi', 4: 'Scout'}"
      ]
     },
     "execution_count": 27,
     "metadata": {},
     "output_type": "execute_result"
    }
   ],
   "source": [
    "dict_1 = {'key1':1,\n",
    "          'key2':2}\n",
    "\n",
    "names_dict = {}\n",
    "\n",
    "for index, name in enumerate(names_list):\n",
    "    names_dict[index] = name\n",
    "\n",
    "names_dict\n",
    "\n",
    "for k, v in dict_1.items():\n",
    "    print(v, k)\n",
    "\n"
   ]
  },
  {
   "cell_type": "code",
   "execution_count": 34,
   "metadata": {},
   "outputs": [
    {
     "name": "stdout",
     "output_type": "stream",
     "text": [
      "Hi, I'm Will, and I'm a Data manager.\n",
      "Hi, I'm Annie, and I'm Retired.\n",
      "Hi, I'm Andy, and I'm Retired.\n",
      "Hi, I'm Naiomi, and I'm a Policy Writer.\n",
      "Hi, I'm Scout, and I'm a Moral Support.\n"
     ]
    }
   ],
   "source": [
    "# make a dictionry of 5 names and job titles\n",
    "# use k,v loop to print something like \"My name is NAME and I am a JOB TITLE\"\n",
    "\n",
    "name_job = {'Will':'Data manager',\n",
    "            'Annie':'Retired',\n",
    "            'Andy':'Retired',\n",
    "            'Naiomi':'Policy Writer',\n",
    "            'Scout':'Moral Support'}\n",
    "\n",
    "# print(name_job.keys())\n",
    "# print(name_job.values())\n",
    "# print(name_job.items())\n",
    "\n",
    "for k, v in name_job.items():\n",
    "    if (k == 'Annie') | (k == 'Andy'):\n",
    "        print(f\"Hi, I'm {k}, and I'm {v}.\")\n",
    "    else:\n",
    "        print(f\"Hi, I'm {k}, and I'm a {v}.\")"
   ]
  },
  {
   "cell_type": "code",
   "execution_count": 40,
   "metadata": {},
   "outputs": [
    {
     "data": {
      "text/plain": [
       "['2 times 1 equals 2',\n",
       " '2 times 3 equals 6',\n",
       " '2 times 5 equals 10',\n",
       " '2 times 7 equals 14',\n",
       " '2 times 9 equals 18',\n",
       " '2 times 11 equals 22',\n",
       " '4 times 1 equals 4',\n",
       " '4 times 3 equals 12',\n",
       " '4 times 5 equals 20',\n",
       " '4 times 7 equals 28',\n",
       " '4 times 9 equals 36',\n",
       " '4 times 11 equals 44',\n",
       " '6 times 1 equals 6',\n",
       " '6 times 3 equals 18',\n",
       " '6 times 5 equals 30',\n",
       " '6 times 7 equals 42',\n",
       " '6 times 9 equals 54',\n",
       " '6 times 11 equals 66',\n",
       " '8 times 1 equals 8',\n",
       " '8 times 3 equals 24',\n",
       " '8 times 5 equals 40',\n",
       " '8 times 7 equals 56',\n",
       " '8 times 9 equals 72',\n",
       " '8 times 11 equals 88',\n",
       " '10 times 1 equals 10',\n",
       " '10 times 3 equals 30',\n",
       " '10 times 5 equals 50',\n",
       " '10 times 7 equals 70',\n",
       " '10 times 9 equals 90',\n",
       " '10 times 11 equals 110',\n",
       " '12 times 1 equals 12',\n",
       " '12 times 3 equals 36',\n",
       " '12 times 5 equals 60',\n",
       " '12 times 7 equals 84',\n",
       " '12 times 9 equals 108',\n",
       " '12 times 11 equals 132']"
      ]
     },
     "execution_count": 40,
     "metadata": {},
     "output_type": "execute_result"
    }
   ],
   "source": [
    "evens = list(range(2,13,2))\n",
    "odds = list(range(1,13,2))\n",
    "\n",
    "multiply_list = []\n",
    "\n",
    "for even in evens:\n",
    "    for odd in odds:\n",
    "        num = even * odd\n",
    "        multiply_list.append(f\"{even} times {odd} equals {num}\")\n",
    "\n",
    "multiply_list\n",
    "\n"
   ]
  },
  {
   "cell_type": "code",
   "execution_count": 41,
   "metadata": {},
   "outputs": [
    {
     "name": "stdout",
     "output_type": "stream",
     "text": [
      "['butter and ham', 'butter and cheese', 'butter and sardines', 'jam and ham', 'jam and cheese', 'jam and sardines', 'peanut butter and ham', 'peanut butter and cheese', 'peanut butter and sardines']\n"
     ]
    }
   ],
   "source": [
    "# using these two lists of sandwich ingredients, find (using for loops) all of the spread/topping combinations\n",
    "# append them to a new list of all the combos\n",
    "spreads = ['butter', 'jam', 'peanut butter']\n",
    "toppings = ['ham', 'cheese', 'sardines']\n",
    "\n",
    "combos = []\n",
    "\n",
    "for i in spreads:\n",
    "    for j in toppings:\n",
    "        combination = f'{i} and {j}'\n",
    "        combos.append(combination)\n",
    "\n",
    "print(combos)"
   ]
  },
  {
   "cell_type": "code",
   "execution_count": 47,
   "metadata": {},
   "outputs": [
    {
     "data": {
      "text/plain": [
       "{'Will': 'Is a Data manager.',\n",
       " 'Annie': 'Is a Retired.',\n",
       " 'Andy': 'Is a Retired.',\n",
       " 'Naiomi': 'Is a Policy Writer.',\n",
       " 'Scout': 'Is a Moral Support.'}"
      ]
     },
     "execution_count": 47,
     "metadata": {},
     "output_type": "execute_result"
    }
   ],
   "source": [
    "name_job\n",
    "\n",
    "for k,v in name_job.items():\n",
    "    phrase = f\"Is a {v}.\"\n",
    "    name_job[k] = phrase\n",
    "\n",
    "name_job"
   ]
  },
  {
   "cell_type": "code",
   "execution_count": 55,
   "metadata": {},
   "outputs": [
    {
     "name": "stdout",
     "output_type": "stream",
     "text": [
      "diviible by 3\n"
     ]
    }
   ],
   "source": [
    "# if - checks and does thing if true\n",
    "# elif - if above ifs/elifs aren't true, tried and does thing\n",
    "# else does if nothign above was true\n",
    "\n",
    "number = 60\n",
    "\n",
    "if (number % 10 == 0):\n",
    "    print('Divisible by 10!')\n",
    "elif (number % 3 == 0):\n",
    "    print(\"diviible by 3\")\n",
    "else:\n",
    "    print('not divisible by 10')\n",
    "\n",
    "# fizzbang\n",
    "# take all the numbers form 1-100,\n",
    "# print them, BUT if the number is divisible by 3, print fizz,\n",
    "# if it's divisible by 5 print bang\n",
    "# BUT if it's divisible by 3 & 5 print fizzbang\n"
   ]
  },
  {
   "cell_type": "code",
   "execution_count": 62,
   "metadata": {},
   "outputs": [
    {
     "name": "stdout",
     "output_type": "stream",
     "text": [
      "1\n",
      "2\n",
      "fizz\n",
      "4\n",
      "bang\n",
      "fizz\n",
      "7\n",
      "8\n",
      "fizz\n",
      "bang\n",
      "11\n",
      "fizz\n",
      "13\n",
      "14\n",
      "fizzbang\n",
      "16\n",
      "17\n",
      "fizz\n",
      "19\n",
      "bang\n",
      "fizz\n",
      "22\n",
      "23\n",
      "fizz\n",
      "bang\n",
      "26\n",
      "fizz\n",
      "28\n",
      "29\n",
      "fizzbang\n",
      "31\n",
      "32\n",
      "fizz\n",
      "34\n",
      "bang\n",
      "fizz\n",
      "37\n",
      "38\n",
      "fizz\n",
      "bang\n",
      "41\n",
      "fizz\n",
      "43\n",
      "44\n",
      "fizzbang\n",
      "46\n",
      "47\n",
      "fizz\n",
      "49\n",
      "bang\n",
      "fizz\n",
      "52\n",
      "53\n",
      "fizz\n",
      "bang\n",
      "56\n",
      "fizz\n",
      "58\n",
      "59\n",
      "fizzbang\n",
      "61\n",
      "62\n",
      "fizz\n",
      "64\n",
      "bang\n",
      "fizz\n",
      "67\n",
      "68\n",
      "fizz\n",
      "bang\n",
      "71\n",
      "fizz\n",
      "73\n",
      "74\n",
      "fizzbang\n",
      "76\n",
      "77\n",
      "fizz\n",
      "79\n",
      "bang\n",
      "fizz\n",
      "82\n",
      "83\n",
      "fizz\n",
      "bang\n",
      "86\n",
      "fizz\n",
      "88\n",
      "89\n",
      "fizzbang\n",
      "91\n",
      "92\n",
      "fizz\n",
      "94\n",
      "bang\n",
      "fizz\n",
      "97\n",
      "98\n",
      "fizz\n",
      "bang\n"
     ]
    }
   ],
   "source": [
    "# fizzbang\n",
    "# take all the numbers form 1-100,\n",
    "onehundred = list(range(1,101))\n",
    "\n",
    "for num in onehundred:\n",
    "    if (num % 3 == 0) & (num % 5 == 0):\n",
    "        print('fizzbang')\n",
    "    elif (num % 3 == 0):\n",
    "        print('fizz')\n",
    "    elif (num % 5 == 0):\n",
    "        print('bang')\n",
    "    else:    \n",
    "        print(num)\n",
    "\n",
    "# print them, BUT if the number is divisible by 3, print fizz,\n",
    "# if it's divisible by 5 print bang\n",
    "# BUT if it's divisible by 3 & 5 print fizzbang"
   ]
  }
 ],
 "metadata": {
  "kernelspec": {
   "display_name": "Python 3",
   "language": "python",
   "name": "python3"
  },
  "language_info": {
   "codemirror_mode": {
    "name": "ipython",
    "version": 3
   },
   "file_extension": ".py",
   "mimetype": "text/x-python",
   "name": "python",
   "nbconvert_exporter": "python",
   "pygments_lexer": "ipython3",
   "version": "3.10.13"
  }
 },
 "nbformat": 4,
 "nbformat_minor": 2
}
