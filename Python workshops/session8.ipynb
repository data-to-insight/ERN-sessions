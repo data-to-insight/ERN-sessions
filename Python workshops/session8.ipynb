{
 "cells": [
  {
   "cell_type": "code",
   "execution_count": 8,
   "metadata": {},
   "outputs": [
    {
     "name": "stdout",
     "output_type": "stream",
     "text": [
      "Hi\n"
     ]
    }
   ],
   "source": [
    "def fn(param_1):\n",
    "    x = 1\n",
    "    print(param_1)\n",
    "\n",
    "fn('Hi')\n",
    "\n",
    "\n"
   ]
  },
  {
   "cell_type": "code",
   "execution_count": 16,
   "metadata": {},
   "outputs": [
    {
     "name": "stdout",
     "output_type": "stream",
     "text": [
      "22\n",
      "13\n",
      "The sum of 22 and 13 is 35.\n"
     ]
    }
   ],
   "source": [
    "def fxy(x, y=9):\n",
    "    print(x)\n",
    "    print(y)\n",
    "    print(f'The sum of {x} and {y} is {x + y}.')\n",
    "\n",
    "fxy(y=13, x=22)\n"
   ]
  },
  {
   "cell_type": "code",
   "execution_count": 25,
   "metadata": {},
   "outputs": [
    {
     "name": "stdout",
     "output_type": "stream",
     "text": [
      "2.0\n"
     ]
    }
   ],
   "source": [
    "# Now it's your go. Write a function, with an appropriate name\n",
    "# that divides one number by the other. Bonus points if you can make the function \n",
    "# always divide the largest of the two numbers by the smallest.\n",
    "# Get the function to print the answer\n",
    "\n",
    "def div_xy(x, y):\n",
    "    if x >= y:\n",
    "        z = x / y\n",
    "    else:\n",
    "        z = y / x\n",
    "    return z\n",
    "\n",
    "\n",
    "answer = div_xy(y=10, x=5)\n",
    "\n",
    "print(answer)"
   ]
  },
  {
   "cell_type": "code",
   "execution_count": 30,
   "metadata": {},
   "outputs": [
    {
     "name": "stdout",
     "output_type": "stream",
     "text": [
      "2100\n"
     ]
    }
   ],
   "source": [
    "def sum_prod(num1, num2):\n",
    "    sum_12 = num1 + num2\n",
    "    prod_12 = num1 * num2 \n",
    "\n",
    "    return sum_12, prod_12\n",
    "\n",
    "sum_30_70, prod_30_70 = sum_prod(30, 70)\n",
    "\n",
    "print(prod_30_70)\n"
   ]
  },
  {
   "cell_type": "code",
   "execution_count": 32,
   "metadata": {},
   "outputs": [
    {
     "name": "stdout",
     "output_type": "stream",
     "text": [
      "2100\n"
     ]
    }
   ],
   "source": [
    "def sum_prod(num1, num2):\n",
    "    sum_12 = num1 + num2\n",
    "    prod_12 = num1 * num2 \n",
    "\n",
    "    return sum_12, prod_12\n",
    "\n",
    "answer = sum_prod(30, 70)\n",
    "\n",
    "print(answer[1])"
   ]
  },
  {
   "cell_type": "code",
   "execution_count": 35,
   "metadata": {},
   "outputs": [
    {
     "name": "stdout",
     "output_type": "stream",
     "text": [
      "2.0\n",
      "5\n"
     ]
    }
   ],
   "source": [
    "# write a function that returns x / y and x - y, \n",
    "# always dividing the biggest by the smallest number \n",
    "#  and always taking the smallest fromt he biggest\n",
    "\n",
    "def minus_div(x, y):\n",
    "    if x >= y:\n",
    "        big = x\n",
    "        small = y\n",
    "    else:\n",
    "        big = y\n",
    "        small = x\n",
    "    return big / small, big - small\n",
    "\n",
    "x_div_y, x_minus_y = minus_div(5, 10)\n",
    "\n",
    "print(x_div_y)\n",
    "print(x_minus_y)\n"
   ]
  },
  {
   "cell_type": "code",
   "execution_count": 42,
   "metadata": {},
   "outputs": [
    {
     "name": "stdout",
     "output_type": "stream",
     "text": [
      "(9, 3125)\n"
     ]
    }
   ],
   "source": [
    "def sq(x):\n",
    "    return x**2\n",
    "\n",
    "def x_power_x(x):\n",
    "    return x**x\n",
    "\n",
    "def big_maths(x, y=None):\n",
    "    if y == None:\n",
    "        y = x\n",
    "    return sq(x), x_power_x(y)\n",
    "\n",
    "print(big_maths(3, 5))\n"
   ]
  },
  {
   "cell_type": "code",
   "execution_count": 44,
   "metadata": {},
   "outputs": [
    {
     "name": "stdout",
     "output_type": "stream",
     "text": [
      "(81, 3.0)\n"
     ]
    }
   ],
   "source": [
    "# In this cell, first, import the 'math' module.\n",
    "# Next, write a function that squares a number (hint: you can simply uses x*x), \n",
    "# Now write a function that uses math.sqrt() to find the square root of a number \n",
    "# (hint: https://docs.python.org/3/library/math.html#math.sqrt)\n",
    "# Then, write a funciton that performs both of these functions and returns both answers,\n",
    "# Finally, call the function getting two variables as your answer, and print them.\n",
    "\n",
    "import math \n",
    "\n",
    "def sq(x):\n",
    "    return x**2\n",
    "\n",
    "def root_fn(x):\n",
    "    return math.sqrt(x)\n",
    "\n",
    "def root_sqr_x(x):\n",
    "    return sq(x), root_fn(x)\n",
    "\n",
    "print(root_sqr_x(9))\n"
   ]
  },
  {
   "cell_type": "code",
   "execution_count": 45,
   "metadata": {},
   "outputs": [],
   "source": [
    "import pandas as pd"
   ]
  },
  {
   "cell_type": "code",
   "execution_count": 49,
   "metadata": {},
   "outputs": [
    {
     "data": {
      "text/html": [
       "<div>\n",
       "<style scoped>\n",
       "    .dataframe tbody tr th:only-of-type {\n",
       "        vertical-align: middle;\n",
       "    }\n",
       "\n",
       "    .dataframe tbody tr th {\n",
       "        vertical-align: top;\n",
       "    }\n",
       "\n",
       "    .dataframe thead th {\n",
       "        text-align: right;\n",
       "    }\n",
       "</style>\n",
       "<table border=\"1\" class=\"dataframe\">\n",
       "  <thead>\n",
       "    <tr style=\"text-align: right;\">\n",
       "      <th></th>\n",
       "      <th>Unnamed: 0</th>\n",
       "      <th>LAchildID</th>\n",
       "      <th>Ethnicity</th>\n",
       "      <th>background</th>\n",
       "    </tr>\n",
       "  </thead>\n",
       "  <tbody>\n",
       "    <tr>\n",
       "      <th>0</th>\n",
       "      <td>0</td>\n",
       "      <td>RND000215205141</td>\n",
       "      <td>WIRT</td>\n",
       "      <td>White or Mixed White</td>\n",
       "    </tr>\n",
       "    <tr>\n",
       "      <th>1</th>\n",
       "      <td>1</td>\n",
       "      <td>RND000824303014</td>\n",
       "      <td>WROM</td>\n",
       "      <td>White or Mixed White</td>\n",
       "    </tr>\n",
       "    <tr>\n",
       "      <th>2</th>\n",
       "      <td>2</td>\n",
       "      <td>RND000750143123</td>\n",
       "      <td>AOTH</td>\n",
       "      <td>Not white</td>\n",
       "    </tr>\n",
       "    <tr>\n",
       "      <th>3</th>\n",
       "      <td>3</td>\n",
       "      <td>RND000909164501</td>\n",
       "      <td>MWBC</td>\n",
       "      <td>White or Mixed White</td>\n",
       "    </tr>\n",
       "    <tr>\n",
       "      <th>4</th>\n",
       "      <td>4</td>\n",
       "      <td>RND000382171815</td>\n",
       "      <td>APKN</td>\n",
       "      <td>Not white</td>\n",
       "    </tr>\n",
       "    <tr>\n",
       "      <th>...</th>\n",
       "      <td>...</td>\n",
       "      <td>...</td>\n",
       "      <td>...</td>\n",
       "      <td>...</td>\n",
       "    </tr>\n",
       "    <tr>\n",
       "      <th>327</th>\n",
       "      <td>327</td>\n",
       "      <td>RND000112711501</td>\n",
       "      <td>WOTH</td>\n",
       "      <td>White or Mixed White</td>\n",
       "    </tr>\n",
       "    <tr>\n",
       "      <th>328</th>\n",
       "      <td>328</td>\n",
       "      <td>RND000513120794</td>\n",
       "      <td>WROM</td>\n",
       "      <td>White or Mixed White</td>\n",
       "    </tr>\n",
       "    <tr>\n",
       "      <th>329</th>\n",
       "      <td>329</td>\n",
       "      <td>RND000541643134</td>\n",
       "      <td>BCRB</td>\n",
       "      <td>Not white</td>\n",
       "    </tr>\n",
       "    <tr>\n",
       "      <th>330</th>\n",
       "      <td>330</td>\n",
       "      <td>RND000404939452</td>\n",
       "      <td>AIND</td>\n",
       "      <td>Not white</td>\n",
       "    </tr>\n",
       "    <tr>\n",
       "      <th>331</th>\n",
       "      <td>331</td>\n",
       "      <td>RND000589802835</td>\n",
       "      <td>WBRI</td>\n",
       "      <td>White or Mixed White</td>\n",
       "    </tr>\n",
       "  </tbody>\n",
       "</table>\n",
       "<p>332 rows × 4 columns</p>\n",
       "</div>"
      ],
      "text/plain": [
       "     Unnamed: 0        LAchildID Ethnicity            background\n",
       "0             0  RND000215205141      WIRT  White or Mixed White\n",
       "1             1  RND000824303014      WROM  White or Mixed White\n",
       "2             2  RND000750143123      AOTH             Not white\n",
       "3             3  RND000909164501      MWBC  White or Mixed White\n",
       "4             4  RND000382171815      APKN             Not white\n",
       "..          ...              ...       ...                   ...\n",
       "327         327  RND000112711501      WOTH  White or Mixed White\n",
       "328         328  RND000513120794      WROM  White or Mixed White\n",
       "329         329  RND000541643134      BCRB             Not white\n",
       "330         330  RND000404939452      AIND             Not white\n",
       "331         331  RND000589802835      WBRI  White or Mixed White\n",
       "\n",
       "[332 rows x 4 columns]"
      ]
     },
     "execution_count": 49,
     "metadata": {},
     "output_type": "execute_result"
    }
   ],
   "source": [
    "df = pd.read_csv('https://raw.githubusercontent.com/data-to-insight/ERN-sessions/main/data/ChildCharacteristics.csv')\n",
    "\n",
    "def ethnic_check(ethnicity_code):\n",
    "    if 'W' in ethnicity_code:\n",
    "        return 'White or Mixed White'\n",
    "    else:\n",
    "        return 'Not white'\n",
    "\n",
    "df['background'] = df['Ethnicity'].apply(ethnic_check)\n",
    "\n",
    "df\n",
    "\n",
    "'''\n",
    "'https://raw.githubusercontent.com/data-to-insight/ERN-sessions/main/data/ChildIdentifiers.csv'\n",
    "write a function that calculates ages based on the data, and returns a new column in age range buckets\n",
    "0-5, 6-11, 12-17, 18+\n",
    "\n",
    "convert that to a datetime\n",
    "find the difference between the datetime and today\n",
    "if else statements to put that difference in time in a bucket\n",
    "return as a string the appropriate buckets to a nerw column\n",
    "\n",
    "'''\n"
   ]
  },
  {
   "cell_type": "code",
   "execution_count": 98,
   "metadata": {},
   "outputs": [
    {
     "data": {
      "text/html": [
       "<div>\n",
       "<style scoped>\n",
       "    .dataframe tbody tr th:only-of-type {\n",
       "        vertical-align: middle;\n",
       "    }\n",
       "\n",
       "    .dataframe tbody tr th {\n",
       "        vertical-align: top;\n",
       "    }\n",
       "\n",
       "    .dataframe thead th {\n",
       "        text-align: right;\n",
       "    }\n",
       "</style>\n",
       "<table border=\"1\" class=\"dataframe\">\n",
       "  <thead>\n",
       "    <tr style=\"text-align: right;\">\n",
       "      <th></th>\n",
       "      <th>PersonBirthDate</th>\n",
       "      <th>Age Bucket</th>\n",
       "    </tr>\n",
       "  </thead>\n",
       "  <tbody>\n",
       "    <tr>\n",
       "      <th>0</th>\n",
       "      <td>2019-12-06</td>\n",
       "      <td>0-5 years</td>\n",
       "    </tr>\n",
       "    <tr>\n",
       "      <th>1</th>\n",
       "      <td>2011-04-27</td>\n",
       "      <td>12-17 years</td>\n",
       "    </tr>\n",
       "    <tr>\n",
       "      <th>2</th>\n",
       "      <td>2017-06-06</td>\n",
       "      <td>6-11 years</td>\n",
       "    </tr>\n",
       "    <tr>\n",
       "      <th>3</th>\n",
       "      <td>2014-10-03</td>\n",
       "      <td>6-11 years</td>\n",
       "    </tr>\n",
       "    <tr>\n",
       "      <th>4</th>\n",
       "      <td>2019-09-25</td>\n",
       "      <td>0-5 years</td>\n",
       "    </tr>\n",
       "    <tr>\n",
       "      <th>...</th>\n",
       "      <td>...</td>\n",
       "      <td>...</td>\n",
       "    </tr>\n",
       "    <tr>\n",
       "      <th>327</th>\n",
       "      <td>2010-07-07</td>\n",
       "      <td>12-17 years</td>\n",
       "    </tr>\n",
       "    <tr>\n",
       "      <th>328</th>\n",
       "      <td>2018-08-14</td>\n",
       "      <td>0-5 years</td>\n",
       "    </tr>\n",
       "    <tr>\n",
       "      <th>329</th>\n",
       "      <td>2021-12-09</td>\n",
       "      <td>0-5 years</td>\n",
       "    </tr>\n",
       "    <tr>\n",
       "      <th>330</th>\n",
       "      <td>2013-07-23</td>\n",
       "      <td>6-11 years</td>\n",
       "    </tr>\n",
       "    <tr>\n",
       "      <th>331</th>\n",
       "      <td>2021-10-25</td>\n",
       "      <td>0-5 years</td>\n",
       "    </tr>\n",
       "  </tbody>\n",
       "</table>\n",
       "<p>332 rows × 2 columns</p>\n",
       "</div>"
      ],
      "text/plain": [
       "    PersonBirthDate   Age Bucket\n",
       "0        2019-12-06    0-5 years\n",
       "1        2011-04-27  12-17 years\n",
       "2        2017-06-06   6-11 years\n",
       "3        2014-10-03   6-11 years\n",
       "4        2019-09-25    0-5 years\n",
       "..              ...          ...\n",
       "327      2010-07-07  12-17 years\n",
       "328      2018-08-14    0-5 years\n",
       "329      2021-12-09    0-5 years\n",
       "330      2013-07-23   6-11 years\n",
       "331      2021-10-25    0-5 years\n",
       "\n",
       "[332 rows x 2 columns]"
      ]
     },
     "execution_count": 98,
     "metadata": {},
     "output_type": "execute_result"
    }
   ],
   "source": [
    "df = pd.read_csv('https://raw.githubusercontent.com/data-to-insight/ERN-sessions/main/data/ChildIdentifiers.csv')\n",
    "\n",
    "\n",
    "def bucket_maker(date_code):\n",
    "    bday = pd.to_datetime(date_code, format=\"%Y-%m-%d\")\n",
    "    today = pd.to_datetime('today')\n",
    "\n",
    "    if bday + pd.DateOffset(years=6) > today:\n",
    "        return '0-5 years'\n",
    "    elif bday + pd.DateOffset(years=12) > today:\n",
    "        return '6-11 years'\n",
    "    elif bday + pd.DateOffset(years=18) > today:\n",
    "        return '12-17 years'\n",
    "    else:\n",
    "        return '18+'\n",
    "    \n",
    "\n",
    "\n",
    "df['Age Bucket'] = df['PersonBirthDate'].apply(bucket_maker)\n",
    "\n",
    "df[['PersonBirthDate', 'Age Bucket']]"
   ]
  }
 ],
 "metadata": {
  "kernelspec": {
   "display_name": "Python 3",
   "language": "python",
   "name": "python3"
  },
  "language_info": {
   "codemirror_mode": {
    "name": "ipython",
    "version": 3
   },
   "file_extension": ".py",
   "mimetype": "text/x-python",
   "name": "python",
   "nbconvert_exporter": "python",
   "pygments_lexer": "ipython3",
   "version": "3.10.13"
  }
 },
 "nbformat": 4,
 "nbformat_minor": 2
}
