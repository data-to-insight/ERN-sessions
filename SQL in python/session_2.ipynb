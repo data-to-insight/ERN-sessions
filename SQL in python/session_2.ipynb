{
 "cells": [
  {
   "cell_type": "code",
   "execution_count": 2,
   "metadata": {},
   "outputs": [
    {
     "data": {
      "text/plain": [
       "['address',\n",
       " 'address_status',\n",
       " 'author',\n",
       " 'book',\n",
       " 'book_author',\n",
       " 'book_language',\n",
       " 'country',\n",
       " 'cust_order',\n",
       " 'customer',\n",
       " 'customer_address',\n",
       " 'order_history',\n",
       " 'order_line',\n",
       " 'order_status',\n",
       " 'publisher',\n",
       " 'shipping_method']"
      ]
     },
     "execution_count": 2,
     "metadata": {},
     "output_type": "execute_result"
    }
   ],
   "source": [
    "import pandas as pd\n",
    "\n",
    "from sqlalchemy import (create_engine, \n",
    "                        inspect, \n",
    "                        text, \n",
    "                        select, \n",
    "                        MetaData, \n",
    "                        Table, \n",
    "                        and_,\n",
    "                        or_,\n",
    "                        desc,\n",
    "                        asc,\n",
    "                        func,\n",
    "                        case,\n",
    "                        cast,\n",
    "                        Float,\n",
    "                        )\n",
    "\n",
    "\n",
    "chinook_engine = create_engine(\"sqlite+pysqlite:////workspaces/ERN-sessions/SQL in python/chinook.db\")\n",
    "\n",
    "gravity_engine = create_engine(\"sqlite+pysqlite://///workspaces/ERN-sessions/SQL in python/gravity.db\")\n",
    "\n",
    "inspect(gravity_engine).get_table_names()"
   ]
  },
  {
   "cell_type": "code",
   "execution_count": 3,
   "metadata": {},
   "outputs": [
    {
     "data": {
      "text/plain": [
       "['TrackId',\n",
       " 'Name',\n",
       " 'AlbumId',\n",
       " 'MediaTypeId',\n",
       " 'GenreId',\n",
       " 'Composer',\n",
       " 'Milliseconds',\n",
       " 'Bytes',\n",
       " 'UnitPrice']"
      ]
     },
     "execution_count": 3,
     "metadata": {},
     "output_type": "execute_result"
    }
   ],
   "source": [
    "chinook_metadata = MetaData() \n",
    "\n",
    "tracks = Table('tracks', chinook_metadata, autoload_with=chinook_engine)\n",
    "#repr(tracks)\n",
    "\n",
    "albums = Table('albums', chinook_metadata, autoload_with=chinook_engine)\n",
    "artists = Table('artists', chinook_metadata, autoload_with=chinook_engine)\n",
    "tracks.c.keys()"
   ]
  },
  {
   "cell_type": "code",
   "execution_count": 32,
   "metadata": {},
   "outputs": [
    {
     "data": {
      "text/plain": [
       "['book_id',\n",
       " 'title',\n",
       " 'isbn13',\n",
       " 'language_id',\n",
       " 'num_pages',\n",
       " 'publication_date',\n",
       " 'publisher_id']"
      ]
     },
     "execution_count": 32,
     "metadata": {},
     "output_type": "execute_result"
    }
   ],
   "source": [
    "gravity_metadata = MetaData() \n",
    "\n",
    "books = Table('book', gravity_metadata, autoload_with=gravity_engine)\n",
    "# books.c.keys()\n",
    "\n",
    "authors = Table('author', gravity_metadata, autoload_with=gravity_engine)\n",
    "book_authors = Table('book_author', gravity_metadata, autoload_with=gravity_engine)\n",
    "books.c.keys()"
   ]
  },
  {
   "cell_type": "code",
   "execution_count": 5,
   "metadata": {},
   "outputs": [
    {
     "data": {
      "text/html": [
       "<div>\n",
       "<style scoped>\n",
       "    .dataframe tbody tr th:only-of-type {\n",
       "        vertical-align: middle;\n",
       "    }\n",
       "\n",
       "    .dataframe tbody tr th {\n",
       "        vertical-align: top;\n",
       "    }\n",
       "\n",
       "    .dataframe thead th {\n",
       "        text-align: right;\n",
       "    }\n",
       "</style>\n",
       "<table border=\"1\" class=\"dataframe\">\n",
       "  <thead>\n",
       "    <tr style=\"text-align: right;\">\n",
       "      <th></th>\n",
       "      <th>Name</th>\n",
       "      <th>Bytes per millisecond</th>\n",
       "    </tr>\n",
       "  </thead>\n",
       "  <tbody>\n",
       "    <tr>\n",
       "      <th>0</th>\n",
       "      <td>For Those About To Rock (We Salute You)</td>\n",
       "      <td>32.4984478600</td>\n",
       "    </tr>\n",
       "    <tr>\n",
       "      <th>1</th>\n",
       "      <td>Balls to the Wall</td>\n",
       "      <td>16.0859172938</td>\n",
       "    </tr>\n",
       "    <tr>\n",
       "      <th>2</th>\n",
       "      <td>Fast As a Shark</td>\n",
       "      <td>17.3055732615</td>\n",
       "    </tr>\n",
       "    <tr>\n",
       "      <th>3</th>\n",
       "      <td>Restless and Wild</td>\n",
       "      <td>17.1861210628</td>\n",
       "    </tr>\n",
       "    <tr>\n",
       "      <th>4</th>\n",
       "      <td>Princess of the Dawn</td>\n",
       "      <td>16.7560452615</td>\n",
       "    </tr>\n",
       "    <tr>\n",
       "      <th>5</th>\n",
       "      <td>Put The Finger On You</td>\n",
       "      <td>32.6431280450</td>\n",
       "    </tr>\n",
       "    <tr>\n",
       "      <th>6</th>\n",
       "      <td>Let's Get It Up</td>\n",
       "      <td>32.6451997640</td>\n",
       "    </tr>\n",
       "    <tr>\n",
       "      <th>7</th>\n",
       "      <td>Inject The Venom</td>\n",
       "      <td>32.5035810163</td>\n",
       "    </tr>\n",
       "    <tr>\n",
       "      <th>8</th>\n",
       "      <td>Snowballed</td>\n",
       "      <td>32.4931512245</td>\n",
       "    </tr>\n",
       "    <tr>\n",
       "      <th>9</th>\n",
       "      <td>Evil Walks</td>\n",
       "      <td>32.6806187547</td>\n",
       "    </tr>\n",
       "  </tbody>\n",
       "</table>\n",
       "</div>"
      ],
      "text/plain": [
       "                                      Name Bytes per millisecond\n",
       "0  For Those About To Rock (We Salute You)         32.4984478600\n",
       "1                        Balls to the Wall         16.0859172938\n",
       "2                          Fast As a Shark         17.3055732615\n",
       "3                        Restless and Wild         17.1861210628\n",
       "4                     Princess of the Dawn         16.7560452615\n",
       "5                    Put The Finger On You         32.6431280450\n",
       "6                          Let's Get It Up         32.6451997640\n",
       "7                         Inject The Venom         32.5035810163\n",
       "8                               Snowballed         32.4931512245\n",
       "9                               Evil Walks         32.6806187547"
      ]
     },
     "execution_count": 5,
     "metadata": {},
     "output_type": "execute_result"
    }
   ],
   "source": [
    "# Calculations can be done relatively simply. \n",
    "# We can use case statements to use conditions to apply conditions to our selects.\n",
    "\n",
    "with chinook_engine.connect() as con:\n",
    "    stmt = select(tracks.columns.Name, (tracks.columns.Bytes / tracks.columns.Milliseconds).label(\n",
    "    'Bytes per millisecond'))\n",
    "    result_proxy = con.execute(stmt) # only return top 5 results\n",
    "    results = result_proxy.fetchmany(size=10) \n",
    "result_df = pd.DataFrame(results)\n",
    "\n",
    "result_df"
   ]
  },
  {
   "cell_type": "code",
   "execution_count": 6,
   "metadata": {},
   "outputs": [
    {
     "data": {
      "text/html": [
       "<div>\n",
       "<style scoped>\n",
       "    .dataframe tbody tr th:only-of-type {\n",
       "        vertical-align: middle;\n",
       "    }\n",
       "\n",
       "    .dataframe tbody tr th {\n",
       "        vertical-align: top;\n",
       "    }\n",
       "\n",
       "    .dataframe thead th {\n",
       "        text-align: right;\n",
       "    }\n",
       "</style>\n",
       "<table border=\"1\" class=\"dataframe\">\n",
       "  <thead>\n",
       "    <tr style=\"text-align: right;\">\n",
       "      <th></th>\n",
       "      <th>Name</th>\n",
       "      <th>Cost per millisecond</th>\n",
       "    </tr>\n",
       "  </thead>\n",
       "  <tbody>\n",
       "    <tr>\n",
       "      <th>0</th>\n",
       "      <td>É Uma Partida De Futebol</td>\n",
       "      <td>0.0009243697</td>\n",
       "    </tr>\n",
       "    <tr>\n",
       "      <th>1</th>\n",
       "      <td>Now Sports</td>\n",
       "      <td>0.0002027027</td>\n",
       "    </tr>\n",
       "    <tr>\n",
       "      <th>2</th>\n",
       "      <td>A Statistic</td>\n",
       "      <td>0.0001553429</td>\n",
       "    </tr>\n",
       "    <tr>\n",
       "      <th>3</th>\n",
       "      <td>Oprah</td>\n",
       "      <td>0.0001492087</td>\n",
       "    </tr>\n",
       "    <tr>\n",
       "      <th>4</th>\n",
       "      <td>Commercial 1</td>\n",
       "      <td>0.0001246694</td>\n",
       "    </tr>\n",
       "    <tr>\n",
       "      <th>5</th>\n",
       "      <td>The Real Problem</td>\n",
       "      <td>0.0000849785</td>\n",
       "    </tr>\n",
       "    <tr>\n",
       "      <th>6</th>\n",
       "      <td>Commercial 2</td>\n",
       "      <td>0.0000466739</td>\n",
       "    </tr>\n",
       "    <tr>\n",
       "      <th>7</th>\n",
       "      <td>Bossa</td>\n",
       "      <td>0.0000340815</td>\n",
       "    </tr>\n",
       "    <tr>\n",
       "      <th>8</th>\n",
       "      <td>Casinha Feliz</td>\n",
       "      <td>0.0000306625</td>\n",
       "    </tr>\n",
       "    <tr>\n",
       "      <th>9</th>\n",
       "      <td>Mateus Enter</td>\n",
       "      <td>0.0000298652</td>\n",
       "    </tr>\n",
       "  </tbody>\n",
       "</table>\n",
       "</div>"
      ],
      "text/plain": [
       "                       Name Cost per millisecond\n",
       "0  É Uma Partida De Futebol         0.0009243697\n",
       "1                Now Sports         0.0002027027\n",
       "2               A Statistic         0.0001553429\n",
       "3                     Oprah         0.0001492087\n",
       "4              Commercial 1         0.0001246694\n",
       "5          The Real Problem         0.0000849785\n",
       "6              Commercial 2         0.0000466739\n",
       "7                     Bossa         0.0000340815\n",
       "8             Casinha Feliz         0.0000306625\n",
       "9              Mateus Enter         0.0000298652"
      ]
     },
     "execution_count": 6,
     "metadata": {},
     "output_type": "execute_result"
    }
   ],
   "source": [
    "# Lets calculate how expensive each song is per unit time\n",
    "# can you extend it to get the 5 most expensive songs? \n",
    "# you'll need to finish your statement with a .order_by()\n",
    "# you also can't pass your new label there, so instead pass the column calculation\n",
    "# remmeber you can use .asc() and .desc() \n",
    "\n",
    "with chinook_engine.connect() as con:\n",
    "    stmt = select(tracks.columns.Name,\n",
    "                   (tracks.columns.UnitPrice / tracks.columns.Milliseconds).label(\n",
    "    'Cost per millisecond')).order_by(\n",
    "        (tracks.columns.UnitPrice / tracks.columns.Milliseconds).desc())\n",
    "    result_proxy = con.execute(stmt) # only return top 5 results\n",
    "    results = result_proxy.fetchmany(size=10) \n",
    "result_df = pd.DataFrame(results)\n",
    "\n",
    "result_df"
   ]
  },
  {
   "cell_type": "code",
   "execution_count": 7,
   "metadata": {},
   "outputs": [
    {
     "name": "stdout",
     "output_type": "stream",
     "text": [
      "5.7286500000\n"
     ]
    }
   ],
   "source": [
    "# We can use case to tell SQL to do something when something is the case, \n",
    "# it takes the form case(when this is true, do this)\n",
    "# If we warp that in a function, we can perform a function, but only\n",
    "# times where something is the case\n",
    "\n",
    "# We can also use cast to change the type of a returned variable \n",
    "with chinook_engine.connect() as con:\n",
    "    album_1 = func.sum(case((tracks.columns.TrackId == 1, tracks.columns.Milliseconds),\n",
    "                           else_=0))\n",
    "    stmt = select(album_1 / (1000 * 60)) # / 60,000 to get in minutes\n",
    "    result = con.execute(stmt).scalar()\n",
    "\n",
    "print(result) # length of album 1"
   ]
  },
  {
   "cell_type": "code",
   "execution_count": 8,
   "metadata": {},
   "outputs": [
    {
     "name": "stdout",
     "output_type": "stream",
     "text": [
      "1378778040\n",
      "0.0249292482\n"
     ]
    }
   ],
   "source": [
    "# Find the total length of the entire itunes library\n",
    "\n",
    "with chinook_engine.connect() as con:\n",
    "    total_length = func.sum(tracks.columns.Milliseconds) # cast(func.sum(tracks.columns.Milliseconds), Float) # total length of all tracks\n",
    "    stmt = select (total_length) \n",
    "    result = con.execute(stmt).scalar()\n",
    "print(result)\n",
    "\n",
    "# As an extension, find the length of album 1 as a percentage of the length of the entire library\n",
    "with chinook_engine.connect() as con:\n",
    "    album_1 = func.sum(case((tracks.columns.TrackId == 1, tracks.columns.Milliseconds),\n",
    "                           else_=0))\n",
    "    total_length = func.sum(tracks.columns.Milliseconds)\n",
    "    stmt = select((album_1 / total_length )*100) #\n",
    "    result = con.execute(stmt).scalar()\n",
    "print(result)"
   ]
  },
  {
   "cell_type": "code",
   "execution_count": 9,
   "metadata": {},
   "outputs": [
    {
     "name": "stdout",
     "output_type": "stream",
     "text": [
      "    Name                                   Name_1\n",
      "0  AC/DC  For Those About To Rock (We Salute You)\n",
      "1  AC/DC                        Balls to the Wall\n",
      "2  AC/DC                          Fast As a Shark\n",
      "3  AC/DC                        Restless and Wild\n",
      "4  AC/DC                     Princess of the Dawn\n",
      "5  AC/DC                    Put The Finger On You\n",
      "6  AC/DC                          Let's Get It Up\n",
      "7  AC/DC                         Inject The Venom\n",
      "8  AC/DC                               Snowballed\n",
      "9  AC/DC                               Evil Walks\n",
      "   TrackId                                     Name  AlbumId  MediaTypeId  \\\n",
      "0        1  For Those About To Rock (We Salute You)        1            1   \n",
      "1        6                    Put The Finger On You        1            1   \n",
      "2        7                          Let's Get It Up        1            1   \n",
      "3        8                         Inject The Venom        1            1   \n",
      "4        9                               Snowballed        1            1   \n",
      "5       10                               Evil Walks        1            1   \n",
      "6       11                                   C.O.D.        1            1   \n",
      "7       12                       Breaking The Rules        1            1   \n",
      "8       13                 Night Of The Long Knives        1            1   \n",
      "9       14                               Spellbound        1            1   \n",
      "\n",
      "   GenreId                                   Composer  Milliseconds     Bytes  \\\n",
      "0        1  Angus Young, Malcolm Young, Brian Johnson        343719  11170334   \n",
      "1        1  Angus Young, Malcolm Young, Brian Johnson        205662   6713451   \n",
      "2        1  Angus Young, Malcolm Young, Brian Johnson        233926   7636561   \n",
      "3        1  Angus Young, Malcolm Young, Brian Johnson        210834   6852860   \n",
      "4        1  Angus Young, Malcolm Young, Brian Johnson        203102   6599424   \n",
      "5        1  Angus Young, Malcolm Young, Brian Johnson        263497   8611245   \n",
      "6        1  Angus Young, Malcolm Young, Brian Johnson        199836   6566314   \n",
      "7        1  Angus Young, Malcolm Young, Brian Johnson        263288   8596840   \n",
      "8        1  Angus Young, Malcolm Young, Brian Johnson        205688   6706347   \n",
      "9        1  Angus Young, Malcolm Young, Brian Johnson        270863   8817038   \n",
      "\n",
      "  UnitPrice  AlbumId_1                                  Title  ArtistId  \n",
      "0      0.99          1  For Those About To Rock We Salute You         1  \n",
      "1      0.99          1  For Those About To Rock We Salute You         1  \n",
      "2      0.99          1  For Those About To Rock We Salute You         1  \n",
      "3      0.99          1  For Those About To Rock We Salute You         1  \n",
      "4      0.99          1  For Those About To Rock We Salute You         1  \n",
      "5      0.99          1  For Those About To Rock We Salute You         1  \n",
      "6      0.99          1  For Those About To Rock We Salute You         1  \n",
      "7      0.99          1  For Those About To Rock We Salute You         1  \n",
      "8      0.99          1  For Those About To Rock We Salute You         1  \n",
      "9      0.99          1  For Those About To Rock We Salute You         1  \n"
     ]
    },
    {
     "name": "stderr",
     "output_type": "stream",
     "text": [
      "/tmp/ipykernel_36271/2495622894.py:4: SAWarning: SELECT statement has a cartesian product between FROM element(s) \"artists\" and FROM element \"tracks\".  Apply join condition(s) between each element to resolve.\n",
      "  result = con.execute(stmt).fetchmany(size=10)\n"
     ]
    }
   ],
   "source": [
    "# with predefined relationship\n",
    "with chinook_engine.connect() as con:\n",
    "    stmt = select(artists.columns.Name, tracks.columns.Name)\n",
    "    result = con.execute(stmt).fetchmany(size=10)\n",
    "result_df = pd.DataFrame(result)\n",
    "\n",
    "print(result_df)\n",
    "\n",
    "# If there isn't a pre-determined relationship, we can use join to specify it.\n",
    "with chinook_engine.connect() as con:\n",
    "    stmt = select(tracks.join(albums, tracks.columns.AlbumId == albums.columns.AlbumId))\n",
    "    result = con.execute(stmt).fetchmany(size=10)\n",
    "result_df = pd.DataFrame(result)\n",
    "\n",
    "print(result_df)"
   ]
  },
  {
   "cell_type": "code",
   "execution_count": 10,
   "metadata": {},
   "outputs": [
    {
     "name": "stdout",
     "output_type": "stream",
     "text": [
      "                                         title           author_name\n",
      "0  The World's First Love: Mary  Mother of God  A. Bartlett Giamatti\n",
      "1  The World's First Love: Mary  Mother of God   A. Elizabeth Delany\n",
      "2  The World's First Love: Mary  Mother of God            A. Merritt\n",
      "3  The World's First Love: Mary  Mother of God      A. Roger Merrill\n",
      "4  The World's First Love: Mary  Mother of God        A. Walton Litz\n",
      "5  The World's First Love: Mary  Mother of God         A.B. Yehoshua\n",
      "6  The World's First Love: Mary  Mother of God         A.D.P. Briggs\n",
      "7  The World's First Love: Mary  Mother of God       A.E. Cunningham\n",
      "8  The World's First Love: Mary  Mother of God         A.E. van Vogt\n",
      "9  The World's First Love: Mary  Mother of God        A.G. Pasquella\n",
      "   book_id                                              title         isbn13  \\\n",
      "0     1570                          Good Poems for Hard Times  9780143037675   \n",
      "1    10539                     Baseball: a Literary Anthology  9781931082099   \n",
      "2     8323                              Plato: Complete Works  9780872203495   \n",
      "3     7344         Thriller: Stories To Keep You Up All Night  9780778322993   \n",
      "4     5762                      The Best American Comics 2006  9780618718740   \n",
      "5     4262  Masterpieces: The Best Science Fiction of the ...  9780441011339   \n",
      "6     2217                 Modern Classics of Science Fiction  9780312088477   \n",
      "7    10340  The Flying Sorcerers: More Comic Tales of Fantasy  9781857237252   \n",
      "8     7451  The Mammoth Book of New Jules Verne Adventures...  9780786714957   \n",
      "9     9047  Everything I Needed to Know about Being a Girl...  9781416531043   \n",
      "\n",
      "   language_id  num_pages publication_date  publisher_id  book_id_1  \\\n",
      "0            1        344       2006-08-29          1476       1570   \n",
      "1            1        733       2002-03-04          1130      10539   \n",
      "2            1       1838       1997-05-01           830       8323   \n",
      "3            1        568       2006-05-30          1270       7344   \n",
      "4            1        293       2006-10-01           984       5762   \n",
      "5            1        422       2004-03-02            23       4262   \n",
      "6            1        672       1993-01-15          1878       2217   \n",
      "7            1        383       1999-02-04          1403      10340   \n",
      "8            1        498       2005-02-15          1731       7451   \n",
      "9            1        275       2007-06-05          1564       9047   \n",
      "\n",
      "   author_id  author_id_1         author_name  \n",
      "0       2823         2823    Garrison Keillor  \n",
      "1       6439         6439   Nicholas Dawidoff  \n",
      "2       7011         7011               Plato  \n",
      "3       3760         3760     James Patterson  \n",
      "4       3237         3237        Harvey Pekar  \n",
      "5       6560         6560    Orson Scott Card  \n",
      "6       2819         2819      Gardner Dozois  \n",
      "7       6857         6857       Peter Haining  \n",
      "8       6237         6237         Mike Ashley  \n",
      "9       4000         4000  Jennifer O'Connell  \n"
     ]
    },
    {
     "name": "stderr",
     "output_type": "stream",
     "text": [
      "/tmp/ipykernel_36271/3531443812.py:7: SAWarning: SELECT statement has a cartesian product between FROM element(s) \"book\" and FROM element \"author\".  Apply join condition(s) between each element to resolve.\n",
      "  result = con.execute(stmt).fetchmany(size=10)\n"
     ]
    }
   ],
   "source": [
    "# using a pre-determined relationship, make a dataframe with book title and author of each book\n",
    "# get the first 10\n",
    "\n",
    "# with predefined relationship\n",
    "with gravity_engine.connect() as con:\n",
    "    stmt = select(books.columns.title, authors.columns.author_name)\n",
    "    result = con.execute(stmt).fetchmany(size=10)\n",
    "result_df = pd.DataFrame(result)\n",
    "\n",
    "print(result_df)\n",
    "\n",
    "# Join the three tables books, book authors, and authors\n",
    "# You don't need to, but practice specifying relationships for joins\n",
    "with gravity_engine.connect() as con:\n",
    "    stmt = select(books.join(book_authors, books.columns.book_id == book_authors.columns.book_id).join(authors))\n",
    "    result = con.execute(stmt).fetchmany(size=10)\n",
    "result_df = pd.DataFrame(result)\n",
    "\n",
    "print(result_df)"
   ]
  },
  {
   "cell_type": "code",
   "execution_count": 14,
   "metadata": {},
   "outputs": [
    {
     "name": "stdout",
     "output_type": "stream",
     "text": [
      "    Name                                  Title  \\\n",
      "0  AC/DC  For Those About To Rock We Salute You   \n",
      "1  AC/DC  For Those About To Rock We Salute You   \n",
      "2  AC/DC  For Those About To Rock We Salute You   \n",
      "3  AC/DC  For Those About To Rock We Salute You   \n",
      "4  AC/DC  For Those About To Rock We Salute You   \n",
      "5  AC/DC  For Those About To Rock We Salute You   \n",
      "6  AC/DC  For Those About To Rock We Salute You   \n",
      "7  AC/DC  For Those About To Rock We Salute You   \n",
      "8  AC/DC  For Those About To Rock We Salute You   \n",
      "9  AC/DC  For Those About To Rock We Salute You   \n",
      "\n",
      "                                    Name_1  \n",
      "0  For Those About To Rock (We Salute You)  \n",
      "1                    Put The Finger On You  \n",
      "2                          Let's Get It Up  \n",
      "3                         Inject The Venom  \n",
      "4                               Snowballed  \n",
      "5                               Evil Walks  \n",
      "6                                   C.O.D.  \n",
      "7                       Breaking The Rules  \n",
      "8                 Night Of The Long Knives  \n",
      "9                               Spellbound  \n"
     ]
    }
   ],
   "source": [
    "# WIth complex joins we might get errors, so we can use select from to say,\n",
    "# with our select, where we want the columns to come from\n",
    "# we can obviously get complex with these and other things we've used too!\n",
    "\n",
    "with chinook_engine.connect() as con:\n",
    "    stmt = select(artists.columns.Name, albums.columns.Title, tracks.columns.Name)\n",
    "    stmt = stmt.select_from(artists.join(albums).join(tracks))\n",
    "    result = con.execute(stmt).fetchmany(size=10)\n",
    "result_df = pd.DataFrame(result)\n",
    "\n",
    "print(result_df)\n",
    "\n"
   ]
  },
  {
   "cell_type": "code",
   "execution_count": 12,
   "metadata": {},
   "outputs": [
    {
     "data": {
      "text/plain": [
       "author_name\n",
       "Stephen King         70\n",
       "Sandra Brown         46\n",
       "P.G. Wodehouse       45\n",
       "Mercedes Lackey      43\n",
       "Orson Scott Card     40\n",
       "                     ..\n",
       "J.P. Seaton           1\n",
       "J.M.D. Meiklejohn     1\n",
       "J.M. Synge            1\n",
       "J.M. Lelen            1\n",
       "Jack Higgins          1\n",
       "Name: count, Length: 9094, dtype: int64"
      ]
     },
     "execution_count": 12,
     "metadata": {},
     "output_type": "execute_result"
    }
   ],
   "source": [
    "# The task is to use SQLAlchemy and pandas and, any way you want, find out: \n",
    "# The name of the author who has the most books in the database, and what those books are\n",
    "# A stretch task for homework is to find out how many orders have been placed which contain books by that author\n",
    "# for the stretch task, email me your answers.\n",
    "\n",
    "\n",
    "with gravity_engine.connect() as con:\n",
    "    stmt = select(authors.columns.author_name, books.columns.title).select_from(\n",
    "        book_authors.join(books, book_authors.columns.book_id == books.columns.book_id)).join(authors, book_authors.columns.author_id == authors.columns.author_id)\n",
    "    results = con.execute(stmt).fetchall()\n",
    "\n",
    "df = pd.DataFrame(results)\n",
    "df_count = df.value_counts('author_name')\n",
    "df_count"
   ]
  },
  {
   "cell_type": "code",
   "execution_count": null,
   "metadata": {},
   "outputs": [],
   "source": []
  }
 ],
 "metadata": {
  "kernelspec": {
   "display_name": "Python 3",
   "language": "python",
   "name": "python3"
  },
  "language_info": {
   "codemirror_mode": {
    "name": "ipython",
    "version": 3
   },
   "file_extension": ".py",
   "mimetype": "text/x-python",
   "name": "python",
   "nbconvert_exporter": "python",
   "pygments_lexer": "ipython3",
   "version": "3.10.13"
  }
 },
 "nbformat": 4,
 "nbformat_minor": 2
}
