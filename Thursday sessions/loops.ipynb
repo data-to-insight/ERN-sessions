{
 "cells": [
  {
   "cell_type": "code",
   "execution_count": 7,
   "metadata": {},
   "outputs": [
    {
     "name": "stdout",
     "output_type": "stream",
     "text": [
      "2\n",
      "3\n",
      "4\n",
      "5\n",
      "6\n",
      "7\n",
      "8\n",
      "9\n",
      "10\n",
      "11\n"
     ]
    }
   ],
   "source": [
    "list_of_numbers = list(range(1,11))\n",
    "\n",
    "for number in list_of_numbers:\n",
    "    x = number + 1\n",
    "    print(x)"
   ]
  },
  {
   "cell_type": "code",
   "execution_count": 23,
   "metadata": {},
   "outputs": [
    {
     "name": "stdout",
     "output_type": "stream",
     "text": [
      "[1, 4, 9, 16, 25, 36, 49, 64, 81, 100]\n"
     ]
    }
   ],
   "source": [
    "names = ['Scout', 'Crash', 'Napkin', 'Socks']\n",
    "\n",
    "for i, name in enumerate(names):\n",
    "    names[i] = f\"My pet's name is {name}\"\n",
    "\n",
    "\n",
    "    \n",
    "numbers = list(range(1,11))\n",
    "\n",
    "for i, number in enumerate(numbers):\n",
    "    numbers[i] = number**2\n",
    "    \n",
    "print(numbers)\n"
   ]
  },
  {
   "cell_type": "code",
   "execution_count": 37,
   "metadata": {},
   "outputs": [
    {
     "name": "stdout",
     "output_type": "stream",
     "text": [
      "['Scout is a Dog']\n",
      "['Scout is a Dog', 'Crash is a Dog']\n",
      "['Scout is a Dog', 'Crash is a Dog', 'Napkin is a Cat']\n",
      "['Scout is a Dog', 'Crash is a Dog', 'Napkin is a Cat', 'Socks is a Cat']\n"
     ]
    }
   ],
   "source": [
    "pets_dictionary = {'Scout':'Dog',\n",
    "                   'Crash':'Dog',\n",
    "                   'Napkin':'Cat',\n",
    "                   'Socks':'Cat'}\n",
    "\n",
    "pets_list = []\n",
    "\n",
    "for pet_name, animal_type in pets_dictionary.items():\n",
    "    phrase = f'{pet_name} is a {animal_type}'\n",
    "    pets_list.append(phrase)\n",
    "    \n",
    "    \n",
    "    \n"
   ]
  },
  {
   "cell_type": "code",
   "execution_count": 41,
   "metadata": {},
   "outputs": [
    {
     "name": "stdout",
     "output_type": "stream",
     "text": [
      "['Nandos sells Chicken food.', 'KFC sells Chicken food.', 'CHicken Cottage sells Chicken food.', 'Pizza Hut sells Pizza food.']\n"
     ]
    }
   ],
   "source": [
    "restaurants = {'Nandos':'Chicken',\n",
    "               'KFC':'Chicken',\n",
    "               'CHicken Cottage':'Chicken',\n",
    "               'Pizza Hut':'Pizza'}\n",
    "\n",
    "rest_items = restaurants.items()\n",
    "\n",
    "rest_phrase = []\n",
    "\n",
    "for k,v in rest_items:\n",
    "    rest_phrase.append(f'{k} sells {v} food.')\n",
    "\n",
    "print(rest_phrase)\n"
   ]
  },
  {
   "cell_type": "code",
   "execution_count": 55,
   "metadata": {},
   "outputs": [
    {
     "name": "stdout",
     "output_type": "stream",
     "text": [
      "  col 1 col 2\n",
      "0   foo   odd\n",
      "1   bar  even\n",
      "2   baz   odd\n"
     ]
    }
   ],
   "source": [
    "import pandas as pd\n",
    "\n",
    "df_1 = pd.DataFrame({'col 1': ['foo', 'bar', 'baz'],\n",
    "                     'col 2': [1, 2, 3]})\n",
    "\n",
    "df_2 = pd.DataFrame({'col 1': ['Thing 1', 'Thing 2', 'Thing 3'],\n",
    "                     'col 2': ['Green eggs', 'Ham', 'Sam I am']})\n",
    "\n",
    "# df_dict = {'df_1':df_1,\n",
    "#            'df_2':df_2}\n",
    "\n",
    "# for row in df_1.index:\n",
    "#     df_1['col 2'][row] = df_1['col 2'][row]**2\n",
    "    \n",
    "\n",
    "\n",
    "\n",
    "# df_1['col 2'] = df_1['col 2']**2\n",
    "# print(df_1)   \n",
    "\n",
    "df_1['col 2'] = df_1['col 2'].apply(lambda x: 'even' if x % 2 == 0 else 'odd')\n",
    "print(df_1)\n"
   ]
  },
  {
   "cell_type": "code",
   "execution_count": 61,
   "metadata": {},
   "outputs": [
    {
     "name": "stdout",
     "output_type": "stream",
     "text": [
      "['ham and butter', 'cheese and butter', 'sardines and butter', 'ham and jam', 'cheese and jam', 'sardines and jam', 'ham and peanut butter', 'cheese and peanut butter', 'sardines and peanut butter']\n"
     ]
    }
   ],
   "source": [
    "big_list = list(range(1,101))\n",
    "evens = big_list[1::2]\n",
    "odds = big_list[::2]\n",
    "\n",
    "for i in evens:\n",
    "    for j in odds:\n",
    "        k = i * j\n",
    "\n",
    "spreads = ['butter', 'jam', 'peanut butter']\n",
    "toppings = ['ham', 'cheese', 'sardines']\n",
    "filling = []\n",
    " \n",
    "\n",
    "for spread in spreads:\n",
    "    for topping in toppings:\n",
    "        filling.append(f'{topping} and {spread}')\n",
    "\n",
    "print(filling)\n"
   ]
  },
  {
   "cell_type": "code",
   "execution_count": 71,
   "metadata": {},
   "outputs": [
    {
     "data": {
      "text/html": [
       "<div>\n",
       "<style scoped>\n",
       "    .dataframe tbody tr th:only-of-type {\n",
       "        vertical-align: middle;\n",
       "    }\n",
       "\n",
       "    .dataframe tbody tr th {\n",
       "        vertical-align: top;\n",
       "    }\n",
       "\n",
       "    .dataframe thead th {\n",
       "        text-align: right;\n",
       "    }\n",
       "</style>\n",
       "<table border=\"1\" class=\"dataframe\">\n",
       "  <thead>\n",
       "    <tr style=\"text-align: right;\">\n",
       "      <th></th>\n",
       "      <th>numbers column</th>\n",
       "      <th>even or odd</th>\n",
       "    </tr>\n",
       "  </thead>\n",
       "  <tbody>\n",
       "    <tr>\n",
       "      <th>0</th>\n",
       "      <td>1</td>\n",
       "      <td>odd</td>\n",
       "    </tr>\n",
       "    <tr>\n",
       "      <th>1</th>\n",
       "      <td>2</td>\n",
       "      <td>even</td>\n",
       "    </tr>\n",
       "    <tr>\n",
       "      <th>2</th>\n",
       "      <td>4</td>\n",
       "      <td>even</td>\n",
       "    </tr>\n",
       "    <tr>\n",
       "      <th>3</th>\n",
       "      <td>8</td>\n",
       "      <td>even</td>\n",
       "    </tr>\n",
       "    <tr>\n",
       "      <th>4</th>\n",
       "      <td>16</td>\n",
       "      <td>even</td>\n",
       "    </tr>\n",
       "    <tr>\n",
       "      <th>5</th>\n",
       "      <td>32</td>\n",
       "      <td>even</td>\n",
       "    </tr>\n",
       "    <tr>\n",
       "      <th>6</th>\n",
       "      <td>64</td>\n",
       "      <td>even</td>\n",
       "    </tr>\n",
       "    <tr>\n",
       "      <th>7</th>\n",
       "      <td>128</td>\n",
       "      <td>even</td>\n",
       "    </tr>\n",
       "    <tr>\n",
       "      <th>8</th>\n",
       "      <td>256</td>\n",
       "      <td>even</td>\n",
       "    </tr>\n",
       "    <tr>\n",
       "      <th>9</th>\n",
       "      <td>512</td>\n",
       "      <td>even</td>\n",
       "    </tr>\n",
       "  </tbody>\n",
       "</table>\n",
       "</div>"
      ],
      "text/plain": [
       "   numbers column even or odd\n",
       "0               1         odd\n",
       "1               2        even\n",
       "2               4        even\n",
       "3               8        even\n",
       "4              16        even\n",
       "5              32        even\n",
       "6              64        even\n",
       "7             128        even\n",
       "8             256        even\n",
       "9             512        even"
      ]
     },
     "execution_count": 71,
     "metadata": {},
     "output_type": "execute_result"
    }
   ],
   "source": [
    "\n",
    "\n",
    "x = 1\n",
    "number_list = []\n",
    "\n",
    "for i in list(range(1,11)):\n",
    "    number_list.append(x)\n",
    "    x = (x + number_list[i-1])\n",
    "\n",
    "df = pd.DataFrame({'numbers column':list(number_list)})\n",
    "\n",
    "even_odd = []\n",
    "for row in df.index:\n",
    "    x = df['numbers column'][row]\n",
    "    if x % 2 == 0:\n",
    "        even_odd.append('even')\n",
    "    else:\n",
    "        even_odd.append('odd')\n",
    "\n",
    "df['even or odd'] = even_odd\n",
    "\n",
    "df"
   ]
  },
  {
   "cell_type": "code",
   "execution_count": null,
   "metadata": {},
   "outputs": [],
   "source": []
  }
 ],
 "metadata": {
  "kernelspec": {
   "display_name": "Python 3",
   "language": "python",
   "name": "python3"
  },
  "language_info": {
   "codemirror_mode": {
    "name": "ipython",
    "version": 3
   },
   "file_extension": ".py",
   "mimetype": "text/x-python",
   "name": "python",
   "nbconvert_exporter": "python",
   "pygments_lexer": "ipython3",
   "version": "3.10.13"
  }
 },
 "nbformat": 4,
 "nbformat_minor": 2
}
