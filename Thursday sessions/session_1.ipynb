{
 "cells": [
  {
   "cell_type": "code",
   "execution_count": 9,
   "metadata": {},
   "outputs": [
    {
     "name": "stdout",
     "output_type": "stream",
     "text": [
      "30\n"
     ]
    }
   ],
   "source": [
    "x = 10\n",
    "y = 20\n",
    "z = x + y\n",
    "print(z)\n",
    "\n"
   ]
  },
  {
   "cell_type": "code",
   "execution_count": 20,
   "metadata": {},
   "outputs": [
    {
     "name": "stdout",
     "output_type": "stream",
     "text": [
      "Will isn't young reallyWill isn't young\n"
     ]
    }
   ],
   "source": [
    "x = \"Will isn't young really\"\n",
    "y = \"Will isn't young\"\n",
    "z = 10.0\n",
    "\n",
    "print(x + y)"
   ]
  },
  {
   "cell_type": "code",
   "execution_count": 25,
   "metadata": {},
   "outputs": [
    {
     "name": "stdout",
     "output_type": "stream",
     "text": [
      "12\n",
      "12.56\n"
     ]
    }
   ],
   "source": [
    "# In this cell, initialise two numeric variables and find their product using the \n",
    "# * operator for multiplication and assign this to a new variable.\n",
    "# Print the new variable\n",
    "\n",
    "# The radius of a circle is 2, assume that Pi is 3.14. Assign both of these to suitably named variables and find the area of the circle.\n",
    "# We can find the area of a circle by finding the product of Pi with the radius squared.\n",
    "# You probably don't know how to square a number in Python yet, so use Google to work it out!#\n",
    "\n",
    "num_1 = 2\n",
    "num_2 = 6\n",
    "prod_num_1_2 = num_1 * num_2\n",
    "print(prod_num_1_2)\n",
    "\n",
    "radius = 2\n",
    "pi = 3.14\n",
    "\n",
    "radius_squared = radius ** 2\n",
    "circle_area = radius_squared * pi\n",
    "print(circle_area)"
   ]
  },
  {
   "cell_type": "code",
   "execution_count": 34,
   "metadata": {},
   "outputs": [
    {
     "name": "stdout",
     "output_type": "stream",
     "text": [
      "My name is Will, and I like Running.\n",
      "My name is Will, and I like Running.\n"
     ]
    }
   ],
   "source": [
    "name = \"Will\"\n",
    "hobby = \"Running\"\n",
    "\n",
    "name_hobby = \"My name is \" + name + \", and I like \" + hobby + \".\"\n",
    "print(name_hobby)\n",
    "\n",
    "phrase = f\"My name is {name}, and I like {hobby}.\"\n",
    "print(phrase)"
   ]
  },
  {
   "cell_type": "code",
   "execution_count": null,
   "metadata": {},
   "outputs": [],
   "source": [
    "# In this cell, initialise two appropriately named variables, one for your name and one for your job title.\n",
    "# Next, combine them in an f string, assigned to a different, appropriately named variable.\n",
    "# Finally, print the f string."
   ]
  },
  {
   "cell_type": "code",
   "execution_count": 35,
   "metadata": {},
   "outputs": [
    {
     "name": "stdout",
     "output_type": "stream",
     "text": [
      "My name is Will, and my job title is teacher.\n"
     ]
    }
   ],
   "source": [
    "name = \"Will\"\n",
    "job_title = \"teacher\"\n",
    "longer_phrase = f\"My name is {name}, and my job title is {job_title}.\"\n",
    "print(longer_phrase)"
   ]
  },
  {
   "cell_type": "code",
   "execution_count": 39,
   "metadata": {},
   "outputs": [
    {
     "name": "stdout",
     "output_type": "stream",
     "text": [
      "5\n",
      "11\n",
      "5\n"
     ]
    }
   ],
   "source": [
    "x = 5\n",
    "print(x)\n",
    "x = 6 + x\n",
    "print(x)\n",
    "x = 5\n",
    "print(x)"
   ]
  },
  {
   "cell_type": "code",
   "execution_count": 42,
   "metadata": {},
   "outputs": [
    {
     "name": "stdout",
     "output_type": "stream",
     "text": [
      "30\n",
      "-10\n",
      "200\n",
      "0.5\n",
      "100000000000000000000\n",
      "41.0\n",
      "0.41000000000000003\n"
     ]
    }
   ],
   "source": [
    "x = 10\n",
    "y = 20\n",
    "print(x + y) # plus\n",
    "print( x - y)# minus\n",
    "print(x * y) # times\n",
    "print(x / y) # divide \n",
    "print (x ** y)# power of\n",
    "\n",
    "measure = 123\n",
    "pop = 30000\n",
    "rate = measure / pop\n",
    "rp10k = rate * 10000\n",
    "print(rp10k)\n",
    "\n",
    "pct = rate * 100\n",
    "print(pct)\n",
    "\n"
   ]
  },
  {
   "cell_type": "code",
   "execution_count": 68,
   "metadata": {},
   "outputs": [
    {
     "name": "stdout",
     "output_type": "stream",
     "text": [
      "c://data/cin\n",
      "cin_dataset_202324.csv\n",
      "cin_dataset_202324\n",
      ".csv\n",
      "c/dt/i_aae_034cv\n",
      "vsc.423202_tesatad_nic/atad//:c\n",
      "dog\n",
      "cat\n",
      "racoon\n"
     ]
    }
   ],
   "source": [
    "my_string = \"c://data/cin_dataset_202324.csv\"\n",
    "# print(my_string)\n",
    "\n",
    "# In python counting starts at 0\n",
    "# in a range, the second number is not inclusive, it's EXCLUSIVE\n",
    "new_string = my_string[:12]\n",
    "print(new_string)\n",
    "\n",
    "filename = my_string[9:]\n",
    "print(filename)\n",
    "\n",
    "short_fn = filename[:-4]\n",
    "print(short_fn)\n",
    "\n",
    "filetype = my_string[-4:]\n",
    "print(filetype)\n",
    "\n",
    "# [start:stop:step]\n",
    "weird_string = my_string[::2]\n",
    "print(weird_string)\n",
    "\n",
    "reverse = my_string[-1::-1]\n",
    "print(reverse)\n",
    "\n",
    "slice_this_phrase = \"dog cat racoon\"\n",
    "\n",
    "# use string slices to isolate each sting as animal_1, animal_2, animal_3\n",
    "animal_1 = slice_this_phrase[:3]\n",
    "print(animal_1)\n",
    "\n",
    "animal_2 = slice_this_phrase[4:7]\n",
    "print(animal_2)\n",
    "\n",
    "animal_3 = slice_this_phrase[-6:]\n",
    "print(animal_3)\n"
   ]
  },
  {
   "cell_type": "code",
   "execution_count": 70,
   "metadata": {},
   "outputs": [
    {
     "name": "stdout",
     "output_type": "stream",
     "text": [
      "<class 'list'>\n",
      "[1, 2.0, 'three', ['purple', 'red']]\n"
     ]
    }
   ],
   "source": [
    "list_1 = []\n",
    "print(type(list_1))\n",
    "\n",
    "x = 1\n",
    "y = 2.0 \n",
    "z = \"three\"\n",
    "list_1 = [\"purple\", \"red\"]\n",
    "\n",
    "list_2 = [x, y, z, list_1]\n",
    "print(list_2)"
   ]
  },
  {
   "cell_type": "code",
   "execution_count": 87,
   "metadata": {},
   "outputs": [
    {
     "name": "stdout",
     "output_type": "stream",
     "text": [
      "['red', 'blue', 'green']\n",
      "['red', 'blue', 'green', 'purple']\n"
     ]
    }
   ],
   "source": [
    "colours = ['red', 'blue', 'green']\n",
    "print(colours)\n",
    "\n",
    "new_list = colours.append('purple')\n",
    "print(colours)\n",
    "\n",
    "# new_list\n",
    "# print(colours)"
   ]
  },
  {
   "cell_type": "code",
   "execution_count": 94,
   "metadata": {},
   "outputs": [
    {
     "name": "stdout",
     "output_type": "stream",
     "text": [
      "['orange', 'turquoise']\n",
      "['red', 'blue', 'green', ['orange', 'turquoise']]\n",
      "['blue', 'green', ['orange', 'turquoise'], 'teal', 'white', 'red']\n",
      "['teal', 'white']\n"
     ]
    }
   ],
   "source": [
    "colours = ['red', 'blue', 'green']\n",
    "colours.append(['orange', 'turquoise'])\n",
    "print(colours[3])\n",
    "print(colours)\n",
    "\n",
    "more_colours = ['teal', 'white', 'red']\n",
    "colours.extend(more_colours)\n",
    "colours.remove('red')\n",
    "print(colours)\n",
    "print(colours[3:5])"
   ]
  },
  {
   "cell_type": "code",
   "execution_count": null,
   "metadata": {},
   "outputs": [],
   "source": [
    "# In this cell, make a list of a few foods and print it.\n",
    "# Then append the list with another food and print it.\n",
    "# Next, make another list of foods, and use the extend method to add those extra foods \n",
    "# as individual elements of the list, and print it.\n",
    "# Finally, remove and element from the list and print the final list.\n",
    "# Remember to always use a suitable name for your lists!"
   ]
  },
  {
   "cell_type": "code",
   "execution_count": 4,
   "metadata": {},
   "outputs": [
    {
     "name": "stdout",
     "output_type": "stream",
     "text": [
      "element_2\n"
     ]
    }
   ],
   "source": [
    "num_1 = 1\n",
    "num_2 = 1.0\n",
    "my_name = \"Will\"\n",
    "num_1 = float(1)\n",
    "# print(num_1)\n",
    "\n",
    "list_1 = [\"element_1\", \"element_2\", num_1, 1]\n",
    "\n",
    "thing_1 = list_1[1]\n",
    "print(thing_1)"
   ]
  },
  {
   "cell_type": "code",
   "execution_count": 12,
   "metadata": {},
   "outputs": [
    {
     "name": "stdout",
     "output_type": "stream",
     "text": [
      "[1, 3, 5, 7, 9]\n"
     ]
    }
   ],
   "source": [
    "list_2 = list(range(11))\n",
    "# [start:stop:step]\n",
    "list_slice = list_2[0::2]\n",
    "# print(list_2)\n",
    "# print(list_slice)\n",
    "list_slice = list_2[1::2]\n",
    "print(list_slice)"
   ]
  },
  {
   "cell_type": "code",
   "execution_count": 24,
   "metadata": {},
   "outputs": [
    {
     "name": "stdout",
     "output_type": "stream",
     "text": [
      "teal\n"
     ]
    }
   ],
   "source": [
    "dict_1 = {'Person 1':\"Will\", \n",
    "          \"Person 2\":\"Basset\",\n",
    "          \"Person 3\": \"Lowke\"}\n",
    "\n",
    "dict_2 = {'Will':'teal',\n",
    "          'Andy':['Purple', 'Green', 'Taupe'],\n",
    "          'Naiomi':{'Monday':'Red',\n",
    "                    'Sunday': 'Orange',\n",
    "                    'Others':'Black'}}\n",
    "\n",
    "print(dict_2)\n",
    "print(list(dict_2))\n",
    "print(dict_2.keys())\n",
    "print(dict_2.values())\n",
    "print(dict_2.items())\n",
    "\n",
    "wills_colour = dict_2['Will']\n",
    "print(wills_colour)"
   ]
  },
  {
   "cell_type": "code",
   "execution_count": 32,
   "metadata": {},
   "outputs": [
    {
     "name": "stdout",
     "output_type": "stream",
     "text": [
      "True\n",
      "False\n"
     ]
    }
   ],
   "source": [
    "# In this cell, make a dicitonary of some restaurants and the foods they sell, \n",
    "# print the items, keys, and values, have at least one have the value as a list.\n",
    "\n",
    "restaurants  = {'McDonalds':'Burger',\n",
    "                'KFC':'Chicken wings'}\n",
    "\n",
    "# print(restaurants['McDonalds'])\n",
    "\n",
    "restaurants['Pizza Place'] = ['Pizza', 'Pasta']\n",
    "\n",
    "restaurants['McDonalds'] = 'Hamburger'\n",
    "\n",
    "print(\"McDonalds\" in restaurants)\n",
    "print(\"French food\" in restaurants)"
   ]
  },
  {
   "cell_type": "code",
   "execution_count": 29,
   "metadata": {},
   "outputs": [
    {
     "name": "stdout",
     "output_type": "stream",
     "text": [
      "{'thing 1': 1}\n"
     ]
    }
   ],
   "source": [
    "empty_dict = {}\n",
    "empty_dict['thing 1'] = 1\n",
    "print(empty_dict)"
   ]
  },
  {
   "cell_type": "code",
   "execution_count": 37,
   "metadata": {},
   "outputs": [
    {
     "name": "stdout",
     "output_type": "stream",
     "text": [
      "[1, 3, 6, 2, 6, 4, 7, 8, 3, 6]\n",
      "[1, 2, 3, 3, 4, 6, 6, 6, 7, 8]\n",
      "[8, 7, 6, 6, 6, 4, 3, 3, 2, 1]\n",
      "[8, 7, 6, 6, 6, 4, 3, 3, 2, 1]\n"
     ]
    }
   ],
   "source": [
    "num_list = [1, 3, 6, 2, 6, 4, 7, 8, 3, 6]\n",
    "print(num_list)\n",
    "\n",
    "num_list.sort()\n",
    "print(num_list)\n",
    "num_list.reverse()\n",
    "print(num_list)\n",
    "\n",
    "num_list = [1, 3, 6, 2, 6, 4, 7, 8, 3, 6]\n",
    "num_list.sort(reverse=True)\n",
    "print(num_list)"
   ]
  },
  {
   "cell_type": "code",
   "execution_count": 39,
   "metadata": {},
   "outputs": [
    {
     "name": "stdout",
     "output_type": "stream",
     "text": [
      "       CHILD  SEX         DOB ETHNIC            UPN  MOTHER MC_DOB\n",
      "0     566910    2  27/03/2008   WROM  D051910639385     NaN    NaN\n",
      "1     384923    2  09/09/2011   REFU  L034811502612     NaN    NaN\n",
      "2     709901    1  14/02/2013   ABAN  Y021751958510     NaN    NaN\n",
      "3     550084    2  04/05/2008   AOTH  R095578985099     NaN    NaN\n",
      "4     710229    2  15/04/2002   REFU  Z095096287583     NaN    NaN\n",
      "...      ...  ...         ...    ...            ...     ...    ...\n",
      "2670  152113    1  06/06/2003   WBRI  K096794376750     NaN    NaN\n",
      "2671  481370    2  12/02/2008   BAFR  C014150452081     NaN    NaN\n",
      "2672  791577    1  28/05/2011   WBRI  Q009369089812     NaN    NaN\n",
      "2673  238470    1  21/11/2013   AIND  P095222532769     NaN    NaN\n",
      "2674  437361    1  15/12/2012   WROM  G018001328504     NaN    NaN\n",
      "\n",
      "[2675 rows x 7 columns]\n"
     ]
    }
   ],
   "source": [
    "import pandas as pd \n",
    "\n",
    "filepath = 'https://raw.githubusercontent.com/data-to-insight/csc-validator-be-903/main/tests/fake_data/header.csv'\n",
    "\n",
    "header_903 = pd.read_csv(filepath)\n",
    "print(header_903)"
   ]
  },
  {
   "cell_type": "code",
   "execution_count": 51,
   "metadata": {},
   "outputs": [
    {
     "name": "stdout",
     "output_type": "stream",
     "text": [
      "[1, 2, 3]\n",
      "0    foo\n",
      "1    bar\n",
      "2    baz\n",
      "Name: Column 2, dtype: object\n",
      "   Column 1 Column 3\n",
      "0         1        A\n",
      "1         2        B\n",
      "2         3        C\n"
     ]
    }
   ],
   "source": [
    "dict_of_list = {'Column 1':[1, 2, 3],\n",
    "                'Column 2':['foo', 'bar', 'baz'],\n",
    "                'Column 3':['A', 'B', 'C']}\n",
    "\n",
    "# print(dict_of_list)\n",
    "\n",
    "df_1 = pd.DataFrame(dict_of_list)\n",
    "print(df_1['Column 1'].to_list())\n",
    "print(df_1['Column 2'])\n",
    "print(df_1[['Column 1', 'Column 3']])"
   ]
  },
  {
   "cell_type": "code",
   "execution_count": 56,
   "metadata": {},
   "outputs": [
    {
     "name": "stdout",
     "output_type": "stream",
     "text": [
      "   col 1 col 2 col 3\n",
      "0      1   foo     A\n",
      "1      2   bar     B\n",
      "2      3   baz     C\n",
      "                  Name  Salary             Job Title\n",
      "0    Will Levack-Payne      10               Teacher\n",
      "1    Andy Levack-Payne       5               Retired\n",
      "2   Annie Levack-Payne       9               Teacher\n",
      "3  Naiomi Levack-Payne     100  Something in the NHS\n"
     ]
    }
   ],
   "source": [
    "import pandas as pd \n",
    "list_of_dicts = [{'col 1':1,\n",
    "                  'col 2':'foo',\n",
    "                  'col 3':'A'},\n",
    "                  {'col 1':2,\n",
    "                  'col 2':'bar',\n",
    "                  'col 3':'B'},\n",
    "                  {'col 1':3,\n",
    "                  'col 2':'baz',\n",
    "                  'col 3':'C'}]\n",
    "\n",
    "df_2 = pd.DataFrame(list_of_dicts)\n",
    "print(df_2)\n",
    "\n",
    "# Make sure you have pandas imported as pd.\n",
    "# Using dictionaries and the pd.DataFrame method (remember the capitals) make a dataframe of a \n",
    "# few employees at an imaginary company with the columns: name, salary, and job title.\n",
    "# Name the dataframe something sensible.\n",
    "# For a later exercise, ensure every employess has a first and last name seperated by a space.\n",
    "# Print it!\n",
    "\n",
    "staff_df = pd.DataFrame(\n",
    "            [{'Name':'Will Levack-Payne',\n",
    "            'Salary':10,\n",
    "            'Job Title':'Teacher'},\n",
    "            {'Name':'Andy Levack-Payne',\n",
    "            'Salary':5,\n",
    "            'Job Title':'Retired'},\n",
    "            {'Name':'Annie Levack-Payne',\n",
    "            'Salary':9,\n",
    "            'Job Title':'Teacher'},\n",
    "            {'Name':'Naiomi Levack-Payne',\n",
    "            'Salary':100,\n",
    "            'Job Title':'Something in the NHS'},\n",
    "            ])\n",
    "print(staff_df)"
   ]
  },
  {
   "cell_type": "code",
   "execution_count": 58,
   "metadata": {},
   "outputs": [
    {
     "name": "stdout",
     "output_type": "stream",
     "text": [
      "<class 'pandas.core.frame.DataFrame'>\n",
      "RangeIndex: 2675 entries, 0 to 2674\n",
      "Data columns (total 7 columns):\n",
      " #   Column  Non-Null Count  Dtype  \n",
      "---  ------  --------------  -----  \n",
      " 0   CHILD   2675 non-null   int64  \n",
      " 1   SEX     2675 non-null   int64  \n",
      " 2   DOB     2675 non-null   object \n",
      " 3   ETHNIC  2675 non-null   object \n",
      " 4   UPN     2675 non-null   object \n",
      " 5   MOTHER  1 non-null      float64\n",
      " 6   MC_DOB  1 non-null      object \n",
      "dtypes: float64(1), int64(2), object(4)\n",
      "memory usage: 146.4+ KB\n",
      "None\n",
      "CHILD       int64\n",
      "SEX         int64\n",
      "DOB        object\n",
      "ETHNIC     object\n",
      "UPN        object\n",
      "MOTHER    float64\n",
      "MC_DOB     object\n",
      "dtype: object\n"
     ]
    }
   ],
   "source": [
    "print(header_903.info())\n",
    "print(header_903.dtypes)\n",
    "\n"
   ]
  },
  {
   "cell_type": "code",
   "execution_count": 61,
   "metadata": {},
   "outputs": [
    {
     "name": "stdout",
     "output_type": "stream",
     "text": [
      "    CHILD  SEX         DOB ETHNIC            UPN  MOTHER MC_DOB\n",
      "0  566910    2  27/03/2008   WROM  D051910639385     NaN    NaN\n",
      "1  384923    2  09/09/2011   REFU  L034811502612     NaN    NaN\n",
      "2  709901    1  14/02/2013   ABAN  Y021751958510     NaN    NaN\n",
      "3  550084    2  04/05/2008   AOTH  R095578985099     NaN    NaN\n",
      "4  710229    2  15/04/2002   REFU  Z095096287583     NaN    NaN\n",
      "       CHILD  SEX         DOB ETHNIC            UPN  MOTHER MC_DOB\n",
      "2665  199656    1  08/07/2009   WOTH  G006043737339     NaN    NaN\n",
      "2666  587124    1  14/10/2006   AOTH  X013739746473     NaN    NaN\n",
      "2667  558581    1  05/07/2001   MWBC  S048947751783     NaN    NaN\n",
      "2668  937984    2  08/05/2008   WROM  B072095547455     NaN    NaN\n",
      "2669  942735    2  27/10/2010   BCRB  V010957149459     NaN    NaN\n",
      "2670  152113    1  06/06/2003   WBRI  K096794376750     NaN    NaN\n",
      "2671  481370    2  12/02/2008   BAFR  C014150452081     NaN    NaN\n",
      "2672  791577    1  28/05/2011   WBRI  Q009369089812     NaN    NaN\n",
      "2673  238470    1  21/11/2013   AIND  P095222532769     NaN    NaN\n",
      "2674  437361    1  15/12/2012   WROM  G018001328504     NaN    NaN\n"
     ]
    }
   ],
   "source": [
    "print(header_903.head())\n",
    "print(header_903.tail(10))"
   ]
  },
  {
   "cell_type": "code",
   "execution_count": 67,
   "metadata": {},
   "outputs": [
    {
     "name": "stdout",
     "output_type": "stream",
     "text": [
      "124\n",
      "The mean salary is 31.0, the min salary is 5\n"
     ]
    }
   ],
   "source": [
    "# print(header_903['MOTHER'].unique())\n",
    "\n",
    "salary_sum = staff_df['Salary'].sum()\n",
    "print(salary_sum)\n",
    "\n",
    "salary_mean = staff_df['Salary'].mean()\n",
    "salary_min = staff_df['Salary'].min() #alsoa  .max()\n",
    "print(f'The mean salary is {salary_mean}, the min salary is {salary_min}')"
   ]
  }
 ],
 "metadata": {
  "kernelspec": {
   "display_name": "Python 3",
   "language": "python",
   "name": "python3"
  },
  "language_info": {
   "codemirror_mode": {
    "name": "ipython",
    "version": 3
   },
   "file_extension": ".py",
   "mimetype": "text/x-python",
   "name": "python",
   "nbconvert_exporter": "python",
   "pygments_lexer": "ipython3",
   "version": "3.10.13"
  }
 },
 "nbformat": 4,
 "nbformat_minor": 2
}
