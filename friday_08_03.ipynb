{
 "cells": [
  {
   "cell_type": "code",
   "execution_count": 9,
   "metadata": {},
   "outputs": [
    {
     "name": "stdout",
     "output_type": "stream",
     "text": [
      "1\n",
      "2\n",
      "3\n",
      "4\n",
      "5\n",
      "6\n",
      "7\n",
      "8\n",
      "9\n",
      "10\n"
     ]
    }
   ],
   "source": [
    "import time\n",
    "\n",
    "numbers = list(range(1, 11))\n",
    "\n",
    "for number in numbers:\n",
    "    print(number)\n",
    "    # time.sleep(1)\n"
   ]
  },
  {
   "cell_type": "code",
   "execution_count": 11,
   "metadata": {},
   "outputs": [
    {
     "name": "stdout",
     "output_type": "stream",
     "text": [
      "a\n",
      "b\n",
      "c\n",
      "d\n",
      "e\n"
     ]
    }
   ],
   "source": [
    "alphabet = ['a', 'b', 'c', 'd', 'e']\n",
    "\n",
    "for letter in alphabet:\n",
    "    print(letter)"
   ]
  },
  {
   "cell_type": "code",
   "execution_count": 14,
   "metadata": {},
   "outputs": [
    {
     "name": "stdout",
     "output_type": "stream",
     "text": [
      "a\n",
      "b\n",
      "c\n",
      "d\n",
      "e\n",
      "f\n",
      "g\n",
      "h\n",
      "i\n",
      "j\n",
      "k\n"
     ]
    }
   ],
   "source": [
    "word = 'abcdefghijk'\n",
    "\n",
    "for character in word:\n",
    "    print(character)\n",
    "    time.sleep(0.5)"
   ]
  },
  {
   "cell_type": "code",
   "execution_count": 27,
   "metadata": {},
   "outputs": [
    {
     "name": "stdout",
     "output_type": "stream",
     "text": [
      "['1a', '1b', '1c', '2a', '2b', '2c', '3a', '3b', '3c', '4a', '4b', '4c', '5a', '5b', '5c']\n",
      "butter\n",
      "['butter & ham', 'butter & cheese', 'butter & sardines']\n",
      "jam\n",
      "['butter & ham', 'butter & cheese', 'butter & sardines', 'jam & ham', 'jam & cheese', 'jam & sardines']\n",
      "peanut butter\n",
      "['butter & ham', 'butter & cheese', 'butter & sardines', 'jam & ham', 'jam & cheese', 'jam & sardines', 'peanut butter & ham', 'peanut butter & cheese', 'peanut butter & sardines']\n"
     ]
    }
   ],
   "source": [
    "numbers = [1, 2, 3, 4, 5]\n",
    "letters = ['a', 'b', 'c']\n",
    "\n",
    "letter_numbers = []\n",
    "\n",
    "for number in numbers:\n",
    "    for letter in letters:\n",
    "        letter_numbers.append(f'{number}{letter}')\n",
    "\n",
    "print(letter_numbers)\n",
    "\n",
    "spreads = ['butter', 'jam', 'peanut butter']\n",
    "toppings = ['ham', 'cheese', 'sardines']\n",
    "sandwich_fillings = []\n",
    "\n",
    "for spread in spreads:\n",
    "    print(spread)\n",
    "    for topping in toppings:\n",
    "        sandwich_fillings.append(f'{spread} & {topping}')\n",
    "    print(sandwich_fillings)\n",
    "\n"
   ]
  },
  {
   "cell_type": "code",
   "execution_count": 37,
   "metadata": {},
   "outputs": [
    {
     "name": "stdout",
     "output_type": "stream",
     "text": [
      "dict_items([('key 1', 1), ('key 2', 2), ('key 3', 3)])\n",
      "the key is key 1, the vlaue is 1\n",
      "the key is key 2, the vlaue is 2\n",
      "the key is key 3, the vlaue is 3\n"
     ]
    }
   ],
   "source": [
    "dict_1 = {'key 1':1,\n",
    "          'key 2':2,\n",
    "          'key 3':3}\n",
    "\n",
    "print(dict_1.items())\n",
    "\n",
    "for key, value in dict_1.items():\n",
    "    print(f'the key is {key}, the value is {value}')\n",
    "    \n"
   ]
  },
  {
   "cell_type": "code",
   "execution_count": 47,
   "metadata": {},
   "outputs": [
    {
     "name": "stdout",
     "output_type": "stream",
     "text": [
      " the number is: 1, the letter is a\n",
      " the number is: 2, the letter is b\n",
      " the number is: 3, the letter is c\n"
     ]
    }
   ],
   "source": [
    "numbers = [1, 2, 3]\n",
    "letters = ['a', 'b', 'c']\n",
    "animals = ['cat', 'dog', 'rat']\n",
    "\n",
    "zipped_stuff = zip(numbers, letters, animals)\n",
    "#print(list(zipped_stuff))\n",
    "\n",
    "for num, let, an in zipped_stuff:\n",
    "    print(f' the number is: {num}, the letter is {let}')"
   ]
  },
  {
   "cell_type": "code",
   "execution_count": 53,
   "metadata": {},
   "outputs": [
    {
     "data": {
      "text/html": [
       "<div>\n",
       "<style scoped>\n",
       "    .dataframe tbody tr th:only-of-type {\n",
       "        vertical-align: middle;\n",
       "    }\n",
       "\n",
       "    .dataframe tbody tr th {\n",
       "        vertical-align: top;\n",
       "    }\n",
       "\n",
       "    .dataframe thead th {\n",
       "        text-align: right;\n",
       "    }\n",
       "</style>\n",
       "<table border=\"1\" class=\"dataframe\">\n",
       "  <thead>\n",
       "    <tr style=\"text-align: right;\">\n",
       "      <th></th>\n",
       "      <th>Numbers</th>\n",
       "      <th>Letters</th>\n",
       "      <th>Animals</th>\n",
       "      <th>Even or Odd</th>\n",
       "    </tr>\n",
       "  </thead>\n",
       "  <tbody>\n",
       "    <tr>\n",
       "      <th>0</th>\n",
       "      <td>1</td>\n",
       "      <td>a</td>\n",
       "      <td>cat</td>\n",
       "      <td>odd</td>\n",
       "    </tr>\n",
       "    <tr>\n",
       "      <th>1</th>\n",
       "      <td>2</td>\n",
       "      <td>b</td>\n",
       "      <td>dog</td>\n",
       "      <td>even</td>\n",
       "    </tr>\n",
       "    <tr>\n",
       "      <th>2</th>\n",
       "      <td>3</td>\n",
       "      <td>c</td>\n",
       "      <td>rat</td>\n",
       "      <td>odd</td>\n",
       "    </tr>\n",
       "  </tbody>\n",
       "</table>\n",
       "</div>"
      ],
      "text/plain": [
       "   Numbers Letters Animals Even or Odd\n",
       "0        1       a     cat         odd\n",
       "1        2       b     dog        even\n",
       "2        3       c     rat         odd"
      ]
     },
     "execution_count": 53,
     "metadata": {},
     "output_type": "execute_result"
    }
   ],
   "source": [
    "import pandas as pd \n",
    "\n",
    "df = pd.DataFrame({'Numbers':numbers,\n",
    "                   'Letters':letters,\n",
    "                   'Animals':animals})\n",
    "\n",
    "even_or_odd = lambda row: 'even' if row % 2 == 0 else 'odd'\n",
    "\n",
    "df['Even or Odd'] = df['Numbers'].apply(even_or_odd)\n",
    "\n",
    "df"
   ]
  },
  {
   "cell_type": "code",
   "execution_count": 60,
   "metadata": {},
   "outputs": [
    {
     "name": "stdout",
     "output_type": "stream",
     "text": [
      "pilot\n",
      "driver\n",
      "doctor\n",
      "cook\n",
      "artist\n"
     ]
    }
   ],
   "source": [
    "students2 = {'Bob':['pilot', 5],\n",
    "            'Niles':['driver', 7],\n",
    "            'Frida':['doctor', 12],\n",
    "            'Will':['cook', 4],\n",
    "            'Jeremy':['artist', 8]}\n",
    "\n",
    "\n",
    "for name, info in students2.items():\n",
    "    job_title = info[0]\n",
    "    service_years = info[1]\n",
    "    print(f'{name} has been a {job_title} for {service_years} years.')\n",
    "\n",
    "for key in students2.keys():\n",
    "    job_title = students2[key][0]\n",
    "    print(job_title)\n",
    "\n",
    "# sort_dict2 = dict(sorted(students2.items()))\n",
    "# # print(f\"My name is {z} and I have been a {x} for {y} years.\")\n",
    "# for value1, value2 in sort_dict2.values():\n",
    "# # this %s technique is in module_3.ipynb\n",
    "#         print(('My name is Henry,'),('and I have been the %s' % value1),('for %s years' % value2))\n"
   ]
  },
  {
   "cell_type": "code",
   "execution_count": 6,
   "metadata": {},
   "outputs": [],
   "source": [
    "import pandas as pd"
   ]
  },
  {
   "cell_type": "code",
   "execution_count": 12,
   "metadata": {},
   "outputs": [
    {
     "name": "stdout",
     "output_type": "stream",
     "text": [
      "{0:      Unnamed: 0        LAchildID            UPN  FormerUPN  UPNunknown  \\\n",
      "0             0  RND000215205141  A850728973744        NaN         NaN   \n",
      "1             1  RND000824303014  A141396438491        NaN         NaN   \n",
      "2             2  RND000750143123  A929946861554        NaN         NaN   \n",
      "3             3  RND000909164501  A612330267292        NaN         NaN   \n",
      "4             4  RND000382171815  A604459366806        NaN         NaN   \n",
      "..          ...              ...            ...        ...         ...   \n",
      "327         327  RND000112711501  A465246916125        NaN         NaN   \n",
      "328         328  RND000513120794  A540014111973        NaN         NaN   \n",
      "329         329  RND000541643134  A549582689058        NaN         NaN   \n",
      "330         330  RND000404939452  A889492349196        NaN         NaN   \n",
      "331         331  RND000589802835  A877624860226        NaN         NaN   \n",
      "\n",
      "    PersonBirthDate ExpectedPersonBirthDate  GenderCurrent PersonDeathDate  \n",
      "0        2019-12-06                     NaN              1             NaN  \n",
      "1        2011-04-27                     NaN              9             NaN  \n",
      "2        2017-06-06              2019-12-06              1             NaN  \n",
      "3        2014-10-03                     NaN              0             NaN  \n",
      "4        2019-09-25                     NaN              2             NaN  \n",
      "..              ...                     ...            ...             ...  \n",
      "327      2010-07-07                     NaN              2             NaN  \n",
      "328      2018-08-14                     NaN              2             NaN  \n",
      "329      2021-12-09                     NaN             51             NaN  \n",
      "330      2013-07-23                     NaN              2             NaN  \n",
      "331      2021-10-25                     NaN              9             NaN  \n",
      "\n",
      "[332 rows x 9 columns], 1:      Unnamed: 0        LAchildID Ethnicity\n",
      "0             0  RND000215205141      WIRT\n",
      "1             1  RND000824303014      WROM\n",
      "2             2  RND000750143123      AOTH\n",
      "3             3  RND000909164501      MWBC\n",
      "4             4  RND000382171815      APKN\n",
      "..          ...              ...       ...\n",
      "327         327  RND000112711501      WOTH\n",
      "328         328  RND000513120794      WROM\n",
      "329         329  RND000541643134      BCRB\n",
      "330         330  RND000404939452      AIND\n",
      "331         331  RND000589802835      WBRI\n",
      "\n",
      "[332 rows x 3 columns]}\n"
     ]
    }
   ],
   "source": [
    "csv_1 = 'https://raw.githubusercontent.com/data-to-insight/ERN-sessions/main/data/ChildIdentifiers.csv'\n",
    "csv_2 = 'https://raw.githubusercontent.com/data-to-insight/ERN-sessions/main/data/ChildCharacteristics.csv'\n",
    "filenames = [csv_1, csv_2]\n",
    "\n",
    "dfs = {}\n",
    "\n",
    "for i, v in enumerate(filenames):\n",
    "    dfs[i] = pd.read_csv(v)\n",
    "\n",
    "print(dfs)"
   ]
  },
  {
   "cell_type": "code",
   "execution_count": 8,
   "metadata": {},
   "outputs": [],
   "source": []
  },
  {
   "cell_type": "code",
   "execution_count": null,
   "metadata": {},
   "outputs": [],
   "source": []
  }
 ],
 "metadata": {
  "kernelspec": {
   "display_name": "Python 3",
   "language": "python",
   "name": "python3"
  },
  "language_info": {
   "codemirror_mode": {
    "name": "ipython",
    "version": 3
   },
   "file_extension": ".py",
   "mimetype": "text/x-python",
   "name": "python",
   "nbconvert_exporter": "python",
   "pygments_lexer": "ipython3",
   "version": "3.10.13"
  }
 },
 "nbformat": 4,
 "nbformat_minor": 2
}
