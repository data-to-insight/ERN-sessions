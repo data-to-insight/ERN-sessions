{
 "cells": [
  {
   "cell_type": "markdown",
   "metadata": {},
   "source": [
    "## Narcissistic numbers\n",
    "\n",
    "A narcissistic number (named after the Narcissus of Greek myth, a handsome hunter who fell in love with his own reflection) is one such that if you take each digit of the number, raise them separately to the power of how many digits there are and then add these together, you return to your original number. For instance 9^4 + 4^4 + 7^4 + 4^4 = 9474 (where ^ is to the power of) is a narcissistic number as each of the digits that make it up (9, 4, 7, 4) to the power of the number of digits making it up (4) added together makes 9474. Use this knowledge to write a loop which returns the first 20 narcissitic numbers as a list, and stops looping when it gets 20 entries.\n",
    "\n",
    "As always, there's a 'learn to google' extension to the assignment. Place your narcisitic numbers loop inside another loop that changes the length of the list found to create lists with the first 10, 20, and 30 narcisitic numbers. As well as this, work out a way to time how long each version of the loop takes to make each list and assign the answers to variables so you can print something like 'finding the first <n> narcissistic numbers in a for loop takes <x> seconds' for 10, 20, and 30."
   ]
  },
  {
   "cell_type": "code",
   "execution_count": 2,
   "metadata": {},
   "outputs": [
    {
     "name": "stdout",
     "output_type": "stream",
     "text": [
      "[1, 2, 3, 4, 5, 6, 7, 8, 9, 153, 370, 371, 407, 1634, 8208, 9474, 54748, 92727, 93084, 548834, 1741725]\n",
      "Finding the first 20 narc. numbers takes 7 seconds.\n"
     ]
    }
   ],
   "source": [
    "\n",
    "import numpy as np\n",
    "\n",
    "\n",
    "def narc_checker(number):\n",
    "    '''Takes a number and converts it to a string so its length can be checked and\n",
    "    used as the power numbers are raised to. Converting a number to a string\n",
    "    allows the characters of the number to be iterrated over in a loop.\n",
    "\n",
    "    A value of 0 is initialised and each time a character of the number is raised\n",
    "    to the power of the length of the number, it's added to that value. Once this \n",
    "    is done for the whole number, it's checked against the value of the original \n",
    "    number, and if they're the same, it's added to the narc. list. \n",
    "    \n",
    "    '''\n",
    "    num_string = str(number)\n",
    "    length_number = len(num_string)\n",
    "\n",
    "    values_sum = 0\n",
    "\n",
    "    # Iterating over characters (digits) in the number\n",
    "    for i in str(number):\n",
    "        i = int(i)\n",
    "        values_sum += i**length_number\n",
    "\n",
    "    if values_sum == number:\n",
    "        narc_numbers.append(number)\n",
    "\n",
    "# Variable we can change to change the list length we are looking for\n",
    "numbers_to_find = 20\n",
    "\n",
    "# Initialising an empty list fo add narc. numbers to, and setting an intial\n",
    "# value to test\n",
    "narc_numbers = []\n",
    "i = 0\n",
    "\n",
    "# Low tech solution to doing timings in Python, there are better packages\n",
    "# that tell you what bits take the most time and use the most memory, but\n",
    "# lets keep ity simple for now.\n",
    "start = np.datetime64('now')\n",
    "while len(narc_numbers) <= numbers_to_find:\n",
    "    i += 1\n",
    "    narc_checker(i)\n",
    "end = np.datetime64('now')\n",
    "\n",
    "runtime = end - start\n",
    "\n",
    "print(narc_numbers)\n",
    "print(f'Finding the first {numbers_to_find} narc. numbers takes {runtime}.')"
   ]
  }
 ],
 "metadata": {
  "kernelspec": {
   "display_name": "Python 3 (ipykernel)",
   "language": "python",
   "name": "python3"
  },
  "language_info": {
   "codemirror_mode": {
    "name": "ipython",
    "version": 3
   },
   "file_extension": ".py",
   "mimetype": "text/x-python",
   "name": "python",
   "nbconvert_exporter": "python",
   "pygments_lexer": "ipython3",
   "version": "3.10.13"
  }
 },
 "nbformat": 4,
 "nbformat_minor": 2
}
