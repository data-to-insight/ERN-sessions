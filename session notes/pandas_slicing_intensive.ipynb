{
 "cells": [
  {
   "cell_type": "code",
   "execution_count": 10,
   "metadata": {},
   "outputs": [
    {
     "name": "stdout",
     "output_type": "stream",
     "text": [
      "dict_keys(['ad1', 'episodes', 'header', 'missing', 'oc2', 'oc3', 'placed_for_adoption', 'previous_permenance', 'reviews', 'uasc'])\n"
     ]
    }
   ],
   "source": [
    "import pandas as pd\n",
    "#pip install openpyxl\n",
    "\n",
    "dfs = pd.read_excel('https://github.com/data-to-insight/ERN-sessions/raw/main/data/903_xlsx.xlsx', sheet_name=None)\n",
    "\n",
    "print(dfs.keys())\n",
    "\n",
    "\n",
    "\n"
   ]
  },
  {
   "cell_type": "code",
   "execution_count": null,
   "metadata": {},
   "outputs": [],
   "source": [
    "# .notna()\n",
    "# 102 - date of birth is not a valid date\n",
    "dfs['header']['DOB'] = pd.to_datetime(dfs['header']['DOB'], format=\"%Y-%m-%d\", errors='coerce')\n",
    "\n",
    "invalid_dob = dfs['header']['DOB'].notna()\n",
    "\n",
    "invalid_rows = dfs['header'][invalid_dob]\n",
    "\n",
    "invalid_rows\n",
    "\n",
    "# 105 - Date of Local Authority's (LA) decision that a child should be placed for adoption is not a valid date.\""
   ]
  },
  {
   "cell_type": "code",
   "execution_count": 9,
   "metadata": {},
   "outputs": [
    {
     "data": {
      "text/html": [
       "<div>\n",
       "<style scoped>\n",
       "    .dataframe tbody tr th:only-of-type {\n",
       "        vertical-align: middle;\n",
       "    }\n",
       "\n",
       "    .dataframe tbody tr th {\n",
       "        vertical-align: top;\n",
       "    }\n",
       "\n",
       "    .dataframe thead th {\n",
       "        text-align: right;\n",
       "    }\n",
       "</style>\n",
       "<table border=\"1\" class=\"dataframe\">\n",
       "  <thead>\n",
       "    <tr style=\"text-align: right;\">\n",
       "      <th></th>\n",
       "      <th>CHILD</th>\n",
       "      <th>SEX</th>\n",
       "      <th>DOB</th>\n",
       "      <th>ETHNIC</th>\n",
       "      <th>UPN</th>\n",
       "      <th>MOTHER</th>\n",
       "      <th>MC_DOB</th>\n",
       "    </tr>\n",
       "  </thead>\n",
       "  <tbody>\n",
       "  </tbody>\n",
       "</table>\n",
       "</div>"
      ],
      "text/plain": [
       "Empty DataFrame\n",
       "Columns: [CHILD, SEX, DOB, ETHNIC, UPN, MOTHER, MC_DOB]\n",
       "Index: []"
      ]
     },
     "execution_count": 9,
     "metadata": {},
     "output_type": "execute_result"
    }
   ],
   "source": [
    "# .isin()\n",
    "# 103 - The ethnicity code is either not valid or has not been entered.\n",
    "header = dfs['header']\n",
    "\n",
    "codes = [\n",
    "        \"WBRI\",\n",
    "        \"WIRI\",\n",
    "        \"WOTH\",\n",
    "        \"WIRT\",\n",
    "        \"WROM\",\n",
    "        \"MWBC\",\n",
    "        \"MWBA\",\n",
    "        \"MWAS\",\n",
    "        \"MOTH\",\n",
    "        \"AIND\",\n",
    "        \"APKN\",\n",
    "        \"ABAN\",\n",
    "        \"AOTH\",\n",
    "        \"BCRB\",\n",
    "        \"BAFR\",\n",
    "        \"BOTH\",\n",
    "        \"CHNE\",\n",
    "        \"OOTH\",\n",
    "        \"REFU\",\n",
    "        \"NOBT\",\n",
    "    ]\n",
    "\n",
    "valid_rows = header['ETHNIC'].isin(codes)\n",
    "\n",
    "invalid_rows = header[~valid_rows]\n",
    "\n",
    "invalid_rows\n",
    "\n",
    "# 104 - Data entry to record the status of former carer(s) of an adopted child is invalid.\n",
    "code_list = [\"0\", \"1\"]\n"
   ]
  },
  {
   "cell_type": "code",
   "execution_count": 15,
   "metadata": {},
   "outputs": [
    {
     "data": {
      "text/html": [
       "<div>\n",
       "<style scoped>\n",
       "    .dataframe tbody tr th:only-of-type {\n",
       "        vertical-align: middle;\n",
       "    }\n",
       "\n",
       "    .dataframe tbody tr th {\n",
       "        vertical-align: top;\n",
       "    }\n",
       "\n",
       "    .dataframe thead th {\n",
       "        text-align: right;\n",
       "    }\n",
       "</style>\n",
       "<table border=\"1\" class=\"dataframe\">\n",
       "  <thead>\n",
       "    <tr style=\"text-align: right;\">\n",
       "      <th></th>\n",
       "      <th>index</th>\n",
       "      <th>CHILD</th>\n",
       "      <th>DOB</th>\n",
       "      <th>DATE_PLACED</th>\n",
       "      <th>DATE_PLACED_CEASED</th>\n",
       "      <th>REASON_PLACED_CEASED</th>\n",
       "      <th>SEX</th>\n",
       "      <th>DOB_P4A</th>\n",
       "      <th>ETHNIC</th>\n",
       "      <th>UPN</th>\n",
       "      <th>MOTHER</th>\n",
       "      <th>MC_DOB</th>\n",
       "    </tr>\n",
       "  </thead>\n",
       "  <tbody>\n",
       "  </tbody>\n",
       "</table>\n",
       "</div>"
      ],
      "text/plain": [
       "Empty DataFrame\n",
       "Columns: [index, CHILD, DOB, DATE_PLACED, DATE_PLACED_CEASED, REASON_PLACED_CEASED, SEX, DOB_P4A, ETHNIC, UPN, MOTHER, MC_DOB]\n",
       "Index: []"
      ]
     },
     "execution_count": 15,
     "metadata": {},
     "output_type": "execute_result"
    }
   ],
   "source": [
    "# 184 - Date of decision that a child should be placed for adoption is before the child was born.\n",
    "\n",
    "header = dfs['header']\n",
    "pfa = dfs['placed_for_adoption']\n",
    "\n",
    "df = pd.merge(pfa.reset_index(), header, how='left', on='CHILD', suffixes=[None, \"_P4A\"])\n",
    "\n",
    "df[\"DATE_PLACED\"] = pd.to_datetime(\n",
    "            df[\"DATE_PLACED\"], format=\"%d/%m/%Y\", errors=\"coerce\"\n",
    "        )\n",
    "df[\"DOB\"] = pd.to_datetime(\n",
    "    df[\"DOB\"], format=\"%d/%m/%Y\", errors=\"coerce\"\n",
    ")\n",
    "\n",
    "mask = (df[\"DATE_PLACED\"] >= df[\"DOB\"]) | df[\n",
    "            \"DATE_PLACED\"\n",
    "        ].isna()\n",
    "\n",
    "validation_error = df[~mask]\n",
    "\n",
    "validation_error\n",
    "\n",
    "\n",
    "# 302 - First episode starts before child was born."
   ]
  },
  {
   "cell_type": "code",
   "execution_count": 23,
   "metadata": {},
   "outputs": [
    {
     "data": {
      "text/html": [
       "<div>\n",
       "<style scoped>\n",
       "    .dataframe tbody tr th:only-of-type {\n",
       "        vertical-align: middle;\n",
       "    }\n",
       "\n",
       "    .dataframe tbody tr th {\n",
       "        vertical-align: top;\n",
       "    }\n",
       "\n",
       "    .dataframe thead th {\n",
       "        text-align: right;\n",
       "    }\n",
       "</style>\n",
       "<table border=\"1\" class=\"dataframe\">\n",
       "  <thead>\n",
       "    <tr style=\"text-align: right;\">\n",
       "      <th></th>\n",
       "      <th>CHILD</th>\n",
       "      <th>DOB</th>\n",
       "      <th>SDQ_SCORE</th>\n",
       "      <th>SDQ_REASON</th>\n",
       "      <th>CONVICTED</th>\n",
       "      <th>HEALTH_CHECK</th>\n",
       "      <th>IMMUNISATIONS</th>\n",
       "      <th>TEETH_CHECK</th>\n",
       "      <th>HEALTH_ASSESSMENT</th>\n",
       "      <th>SUBSTANCE_MISUSE</th>\n",
       "      <th>INTERVENTION_RECEIVED</th>\n",
       "      <th>INTERVENTION_OFFERED</th>\n",
       "      <th>4th_bday</th>\n",
       "    </tr>\n",
       "  </thead>\n",
       "  <tbody>\n",
       "  </tbody>\n",
       "</table>\n",
       "</div>"
      ],
      "text/plain": [
       "Empty DataFrame\n",
       "Columns: [CHILD, DOB, SDQ_SCORE, SDQ_REASON, CONVICTED, HEALTH_CHECK, IMMUNISATIONS, TEETH_CHECK, HEALTH_ASSESSMENT, SUBSTANCE_MISUSE, INTERVENTION_RECEIVED, INTERVENTION_OFFERED, 4th_bday]\n",
       "Index: []"
      ]
     },
     "execution_count": 23,
     "metadata": {},
     "output_type": "execute_result"
    }
   ],
   "source": [
    "# 188 - Child is aged under 4 years at the end of the year but a Strengths and Difficulties (SDQ) score or a reason for no SDQ score has been completed\n",
    "oc2 = dfs['oc2']\n",
    "collection_end = pd.to_datetime('30/04/2020', dayfirst=True)\n",
    "\n",
    "oc2['DOB'] = pd.to_datetime(oc2['DOB'], format=\"%d/%m/%Y\", errors=\"coerce\")\n",
    "\n",
    "oc2[\"4th_bday\"] = oc2[\"DOB\"] + pd.DateOffset(years=4)\n",
    "error_mask = (oc2[\"4th_bday\"] > collection_end) & (\n",
    "    oc2[\"SDQ_SCORE\"].notna() | oc2[\"SDQ_REASON\"].notna())\n",
    "\n",
    "errors = oc2[error_mask]\n",
    "errors\n",
    "\n",
    "# 189 - Child is aged 17 years or over at the beginning of the year, but an Strengths and Difficulties (SDQ) score or a reason for no Strengths and Difficulties (SDQ) score has been completed."
   ]
  },
  {
   "cell_type": "code",
   "execution_count": null,
   "metadata": {},
   "outputs": [],
   "source": [
    "# 202 - The gender code conflicts with the gender already recorded for this child.\n",
    "# 203 - Date of birth disagrees with the date of birth already recorded for this child."
   ]
  },
  {
   "cell_type": "code",
   "execution_count": null,
   "metadata": {},
   "outputs": [],
   "source": [
    "# 218 - \"Ofsted Unique reference number (URN) is required.\"\n",
    "# CHILD id is needed "
   ]
  }
 ],
 "metadata": {
  "kernelspec": {
   "display_name": "Python 3",
   "language": "python",
   "name": "python3"
  },
  "language_info": {
   "codemirror_mode": {
    "name": "ipython",
    "version": 3
   },
   "file_extension": ".py",
   "mimetype": "text/x-python",
   "name": "python",
   "nbconvert_exporter": "python",
   "pygments_lexer": "ipython3",
   "version": "3.10.13"
  }
 },
 "nbformat": 4,
 "nbformat_minor": 2
}
