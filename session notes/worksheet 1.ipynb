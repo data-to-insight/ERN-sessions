{
 "cells": [
  {
   "cell_type": "markdown",
   "metadata": {},
   "source": [
    "# Session 1\n",
    "In Python, lots of things are done using variables. We can store data in variables in many ways, including individual items of data, lists of data, dictionaries, and dataframes. We can also store more complicated things like classes and operations, we won't worry about the complex things now though. Let's first of all look at how variables can store individual items of data, and some of the quirks of that."
   ]
  },
  {
   "cell_type": "code",
   "execution_count": 1,
   "metadata": {},
   "outputs": [
    {
     "name": "stdout",
     "output_type": "stream",
     "text": [
      "15\n",
      "2.0\n",
      "<class 'float'>\n",
      "<class 'int'>\n"
     ]
    }
   ],
   "source": [
    "x = 5\n",
    "y = 10\n",
    "z = x + y\n",
    "print(z) # print is a function that, for our simple purposes, will show you in the terminal (or on the page in Jupyter) the data stored in a variable\n",
    "j = y / x\n",
    "print(j)\n",
    "print(type(j)) # printing the type of a variable tells us what data is stored in it, floats are numbers with decimals\n",
    "j = int(j)\n",
    "print((type(j))) # we can also convert j to an integer, and check its worked by printing its new type"
   ]
  },
  {
   "cell_type": "code",
   "execution_count": 2,
   "metadata": {},
   "outputs": [],
   "source": [
    "# In this cell, initialise two numeric variables and find their product using the * operator for multiplication and assign this to a new variable.\n",
    "# Print the new variable\n",
    "\n",
    "# The radius of a circle is 2, assume that Pi is 3.14. Assign both of these to suitably named variables and find the area of the circle.\n",
    "# We can find the area of a circle by finding the product of Pi with the radius squared.\n",
    "# You probably don't know how to square a number in Python yet, so use Google to work it out!"
   ]
  },
  {
   "cell_type": "code",
   "execution_count": 3,
   "metadata": {},
   "outputs": [
    {
     "name": "stdout",
     "output_type": "stream",
     "text": [
      "<class 'str'>\n",
      "WillRunning\n",
      "My name is Will, and I like Running.\n"
     ]
    }
   ],
   "source": [
    "name = 'Will' # This is a string, we use a string to tell Python the data stored should be text, not code or numbers. As will be seen, strings act differently to floats/ints\n",
    "print(type(name))\n",
    "hobby = 'Running'\n",
    "long_string = name + hobby # Notice this variable is names using snake case\n",
    "print(long_string) # As we can see, addition of strings concats those strings\n",
    "# The below is an 'f string' which allows us to insert variables INSIDE a string\n",
    "phrase = f'My name is {name}, and I like {hobby}.' \n",
    "# String behaviour and f strings can be useful when we want to join up variables of strings, really useful when making dynamic titles for visualisations\n",
    "print(phrase)"
   ]
  },
  {
   "cell_type": "code",
   "execution_count": 4,
   "metadata": {},
   "outputs": [],
   "source": [
    "# In this cell, initialise two appropriately named variables, one for your name and one for your job title.\n",
    "# Next, combine them in an f string, assigned to a different, appropriately named variable.\n",
    "# Finally, print the f string.\n",
    "\n",
    "#Make a variable for a string and one for a number, Try and add them (not inside an f string) and see what happens"
   ]
  },
  {
   "cell_type": "code",
   "execution_count": 5,
   "metadata": {},
   "outputs": [
    {
     "name": "stdout",
     "output_type": "stream",
     "text": [
      "y name is\n",
      "heres_a_file\n"
     ]
    }
   ],
   "source": [
    "string_slice = phrase[1:10] # strings are interesting as we can easily select certain parts of them by selecting a range in square brackets\n",
    "# When using square brackets to slice a range, the number to the left is INCLUSIVE, the number to the right is EXCLUSIVE\n",
    "# You'll notice this new string starts at y, why? In most instances, most things in Pythonc ount from 0 as the first index location.\n",
    "print(string_slice)\n",
    "filename = 'heres_a_file.csv'\n",
    "shortened_name = filename[:-4] # We can also start the count from the end of the string, here -4 means I want my last character to be 4 from the end.\n",
    "# When we don't put a number on one side of the colon, it means 'take everything this side of the range', so string[4:] would mean take everything\n",
    "# after the 4th character\n",
    "print(shortened_name)"
   ]
  },
  {
   "cell_type": "code",
   "execution_count": 6,
   "metadata": {},
   "outputs": [],
   "source": [
    "# In this cell I've initialised a variable 'slice_this_phrase'. \n",
    "# On the next three lines, print the words dog, cat, and racoon seprately using a slice from the beginning, a slice giving a range in the middle, and a slice from the end.\n",
    "# This means one slice will involve [:n], one will involve [n1:n2], and one will involve [-n:].\n",
    "\n",
    "slice_this_phrase = 'dog cat racoon'"
   ]
  },
  {
   "cell_type": "markdown",
   "metadata": {},
   "source": [
    "Lets have a look at lists now. We can initialise a list by using square brackets and assigning them to a variable. We seperate elements of a list with commas. We can put pretty much whatever we want in a list: ints, strings, dictionaries, other lists, a whole range of things. A full list of list methods can be found here: https://docs.python.org/3/tutorial/datastructures.html"
   ]
  },
  {
   "cell_type": "code",
   "execution_count": 7,
   "metadata": {},
   "outputs": [
    {
     "name": "stdout",
     "output_type": "stream",
     "text": [
      "<class 'list'>\n",
      "['red', 'blue', 'green']\n",
      "['red', 'blue', 'green', 'purple']\n",
      "['red', 'blue', 'green', 'purple', ['turquoise', 'teal']]\n",
      "['red', 'blue', 'green', 'purple', ['turquoise', 'teal'], 'turquoise', 'teal']\n",
      "['purple', ['turquoise', 'teal'], 'turquoise', 'teal']\n",
      "['red', 'blue', 'green', 'purple', ['turquoise', 'teal'], 'turquoise']\n"
     ]
    }
   ],
   "source": [
    "list_1 = [] # Even though there's nothing in here, it's a list, we can check by printing type(list_1)\n",
    "print(type(list_1))\n",
    "\n",
    "colours_list = ['red', 'blue', 'green']\n",
    "print(colours_list)\n",
    "\n",
    "colours_list.append('purple') # The append method adds whatever is being appended to a list as one item in a list\n",
    "print(colours_list)\n",
    "\n",
    "extra_colours = ['turquoise', 'teal']\n",
    "colours_list.append(extra_colours)\n",
    "print(colours_list) # You can see here it's appended the whole list extra_colours as one item in the list\n",
    "\n",
    "# Instead, we can extend a to have each element of a list as a new element in another list with the .extend() method\n",
    "colours_list.extend(extra_colours)\n",
    "print(colours_list)\n",
    "\n",
    "print(colours_list[3:7]) # We can also access elements in a list the same way we can strings\n",
    "\n",
    "colours_list.remove('teal') # We can remove list elements using.remove\n",
    "print(colours_list)"
   ]
  },
  {
   "cell_type": "code",
   "execution_count": 8,
   "metadata": {},
   "outputs": [],
   "source": [
    "# In this cell, make a list of a few foods and print it.\n",
    "# Then extend the list with another food and print it.\n",
    "# Next, make another list of foods, and use the extend method to add those extra foods as individual elements of the list, and print it.\n",
    "# Finally, remove and element from the list and print the final list.\n",
    "# Remember to always use a suitable name for your lists!"
   ]
  },
  {
   "cell_type": "code",
   "execution_count": 9,
   "metadata": {},
   "outputs": [
    {
     "name": "stdout",
     "output_type": "stream",
     "text": [
      "[1, 2, 3, 4, 5, 6]\n",
      "[6, 5, 4, 3, 2, 1]\n",
      "[2, 3, 3, 4, 5]\n",
      "['amber', 'blue', 'green', 'red']\n"
     ]
    }
   ],
   "source": [
    "numbers_list = [2,3,4,5,1,6]\n",
    "numbers_list.sort() # we can sort lists too, here using a method\n",
    "print(numbers_list) \n",
    "numbers_list.sort(reverse=True)\n",
    "print(numbers_list) \n",
    "\n",
    "sorted_list = sorted([3,2,3,4,5]) # Here we sort a list using a function and returning it to a new variable\n",
    "print(sorted_list)\n",
    "\n",
    "colours_list = ['red', 'blue', 'green', 'amber']\n",
    "sorted_colours = sorted(colours_list, key=str.lower)\n",
    "print(sorted_colours)"
   ]
  },
  {
   "cell_type": "code",
   "execution_count": 10,
   "metadata": {},
   "outputs": [],
   "source": [
    "# In this cell, use the sorted method on your final list of foods to sort it alphabetically and print it.\n",
    "# Now use the documentation here to sort in reverse order: https://docs.python.org/3/library/functions.html#sorted"
   ]
  },
  {
   "cell_type": "markdown",
   "metadata": {},
   "source": [
    "Now lets look at dictionaries. dictionaries may initially seem a little confusing, and not overly helpful, but they are an incredibly powerful tool. Dictionaries allow us to store things in key:value pairs, where, generally, the key is a string or a number, keys must be unique within a dictionary and must be immutable objects (objects that can't be changed, like lists), and the value is... pretty much whatever we want it to be. We build a list using curly brackets {}, seperating key:value pairs with colons, and entries with commas."
   ]
  },
  {
   "cell_type": "code",
   "execution_count": 11,
   "metadata": {},
   "outputs": [
    {
     "name": "stdout",
     "output_type": "stream",
     "text": [
      "{'Will': 'teal', 'Andy': ['Purple', 'Green', 'Azure'], 'Annie': {'Mondays': 'Red', 'Sundays': 'Orange', 'Other days': 'Black'}}\n",
      "['Will', 'Andy', 'Annie']\n",
      "dict_items([('Will', 'teal'), ('Andy', ['Purple', 'Green', 'Azure']), ('Annie', {'Mondays': 'Red', 'Sundays': 'Orange', 'Other days': 'Black'})])\n",
      "dict_keys(['Will', 'Andy', 'Annie'])\n",
      "dict_values(['teal', ['Purple', 'Green', 'Azure'], {'Mondays': 'Red', 'Sundays': 'Orange', 'Other days': 'Black'}])\n"
     ]
    }
   ],
   "source": [
    "favourite_colours = {'Will':'teal',\n",
    "                     'Andy':['Purple', 'Green', 'Azure'],\n",
    "                     'Annie':{'Mondays':'Red',\n",
    "                              'Sundays':'Orange',\n",
    "                              'Other days':'Black'}}\n",
    "print(favourite_colours) # Here you can see I've stored strongs, lists, and even entire dictionaries inside strings\n",
    "print(list(favourite_colours)) # list(d) will print the keys, in order from a dictionary\n",
    "print(favourite_colours.items()) # Prints all key:value pairs\n",
    "print(favourite_colours.keys()) # Prints all keys\n",
    "print(favourite_colours.values()) # Prints all values"
   ]
  },
  {
   "cell_type": "code",
   "execution_count": 12,
   "metadata": {},
   "outputs": [],
   "source": [
    "# In this cell, make a dicitonary of some restaurants and the foods they sell, print the items, keys, and values, have at least one have the value as a list."
   ]
  },
  {
   "cell_type": "code",
   "execution_count": 13,
   "metadata": {},
   "outputs": [
    {
     "name": "stdout",
     "output_type": "stream",
     "text": [
      "teal\n",
      "{'Will': 'teal', 'Andy': ['Purple', 'Green', 'Azure'], 'Annie': {'Mondays': 'Red', 'Sundays': 'Orange', 'Other days': 'Black'}, 'Naiomi': 'Yellow'}\n",
      "False\n"
     ]
    }
   ],
   "source": [
    "print(favourite_colours['Will']) # We can access the values associated with a key by passing it between square brackets after the dictionary's name\n",
    "\n",
    "favourite_colours['Naiomi'] = 'Yellow' # We can also add/update key value pairs in a similar way\n",
    "print(favourite_colours)\n",
    "\n",
    "print('Mo' in favourite_colours) # We can check if a key is in a dict or not like so"
   ]
  },
  {
   "cell_type": "code",
   "execution_count": 14,
   "metadata": {},
   "outputs": [],
   "source": [
    "# Using the key, print the values of one of the restaurants in your dicitonary.\n",
    "# Add a new key:value pair to your dictionary, as above.\n",
    "# Check whether 'mcdonalds' is a key in your dictionary, printing the answer."
   ]
  },
  {
   "cell_type": "markdown",
   "metadata": {},
   "source": [
    "## Group work for session 1\n",
    "Make a dictionary which has the names of everyone in the group as keys, and job titles as the values, print it.\n",
    "When everyone has a working version, work out how to get all of the values from the dictionary as a single list, and sort the new list alphabetically, assigned to a suitably named variable.\n",
    "\n",
    "You have probably not used for loops before, and actually that is a topic for a later session, if you have used for loops, help guide rather than instruc the rest of your group. I would like you to use google as your main resource to work out how to use a for loop to print each set of keys/values from your dictionary on new lines, one line per loop, with the resulting form 'My name is <key> and my job is <value>'. The point of this exercise isn't the answer, the point of this exercise is learning how to use online resources to search for an answer and translate the answer from those resources into your own work."
   ]
  },
  {
   "cell_type": "markdown",
   "metadata": {},
   "source": [
    "# Session 2\n",
    "Now we'll look at dataframes which are probably going to be the most powerful ways of storing, manipulating, and using data for us. Dataframes is one of the key ways of working with tabular data in Python. To use them, we need to import the package that has them to our workspace. It's called pandas. Every time we use the package, we'd have to tell Python we want to, bu calling 'pandas' but this is a bit long to do over and over, so the accepted way is to import pandas as pd, and we can use pd as short for pandas. This will become clear as we go.\n",
    "\n",
    "Dataframes can be made in lots of ways, we can build them from scratch using things like lists and dictionaries, we can read in data from files like CSVs and Excel files, and we can even use extra packages like SQLAlchemy to query SQL databases directly into dataframes. For now, we'll build up our skills by hard coding them from scratch, first using dicitonaries. In this case, we will make a dictionary, with each key being a column, and all the values in lists being the values in that column per row."
   ]
  },
  {
   "cell_type": "code",
   "execution_count": 15,
   "metadata": {},
   "outputs": [
    {
     "name": "stdout",
     "output_type": "stream",
     "text": [
      "  here's a column  Here's another and another\n",
      "0           Val 1               4         foo\n",
      "1               2               5         bar\n",
      "2           Val 3               6         baz\n",
      "  letter word  number\n",
      "0      A  Foo       1\n",
      "1      B  Bar       2\n",
      "2      C  Baz       3\n"
     ]
    }
   ],
   "source": [
    "import pandas as pd\n",
    "\n",
    "d = {\"here's a column\":['Val 1', 2, 'Val 3'], # Notice here we made a string, but the string had an apostrophe in, to make sure the apostrophe was inside the string, we used double quotes\n",
    "     \"Here's another\":[4, 5, 6],\n",
    "     \"and another\":['foo', 'bar', 'baz']}\n",
    "\n",
    "df_1  = pd.DataFrame(d)\n",
    "print(df_1)\n",
    "\n",
    "df_2 = pd.DataFrame([  # Perhaps a more intuituve way of building a df, one dict per row\n",
    "    {'letter':'A',\n",
    "     'word':'Foo',\n",
    "     'number':1},\n",
    "     {'letter':'B',\n",
    "     'word':'Bar',\n",
    "     'number':2},\n",
    "     {'letter':'C',\n",
    "     'word':'Baz',\n",
    "     'number':3},\n",
    "])\n",
    "\n",
    "print(df_2)\n"
   ]
  },
  {
   "cell_type": "code",
   "execution_count": 16,
   "metadata": {},
   "outputs": [],
   "source": [
    "# Make sure you have Pandas imported as pd.\n",
    "# Using dictionaries and the pd.DataFrame method (remember the capitals) make a dataframe of a few employees at an imaginary company with the columns: name, salary, and job title.\n",
    "# Name the dataframe something sensible.\n",
    "# For a later exercise, ensure every employess has a first and last name seperated by a space.\n",
    "# Print it!"
   ]
  },
  {
   "cell_type": "markdown",
   "metadata": {},
   "source": [
    "We will often want to interrogate data in dfs, a good way to start is by using the .info() method, .dtypes is also useful to find out what type of data is stored in a column. .head(n)/.tail(n) will print the top/bottom n rows respectively. A full list of Pandas methods can be found here: https://pandas.pydata.org/pandas-docs/stable/user_guide/basics.html"
   ]
  },
  {
   "cell_type": "code",
   "execution_count": 17,
   "metadata": {},
   "outputs": [
    {
     "name": "stdout",
     "output_type": "stream",
     "text": [
      "<class 'pandas.core.frame.DataFrame'>\n",
      "RangeIndex: 3 entries, 0 to 2\n",
      "Data columns (total 3 columns):\n",
      " #   Column  Non-Null Count  Dtype \n",
      "---  ------  --------------  ----- \n",
      " 0   letter  3 non-null      object\n",
      " 1   word    3 non-null      object\n",
      " 2   number  3 non-null      int64 \n",
      "dtypes: int64(1), object(2)\n",
      "memory usage: 200.0+ bytes\n",
      "None\n",
      "letter    object\n",
      "word      object\n",
      "number     int64\n",
      "dtype: object\n",
      "  letter word  number\n",
      "2      C  Baz       3\n"
     ]
    }
   ],
   "source": [
    "print(df_2.info())\n",
    "print(df_2.dtypes)\n",
    "print(df_2.tail(1))"
   ]
  },
  {
   "cell_type": "code",
   "execution_count": 18,
   "metadata": {},
   "outputs": [],
   "source": [
    "# On seprate lines print the top line of your df using the head method, print the .dtypes of your dataframe, and print the info."
   ]
  },
  {
   "cell_type": "code",
   "execution_count": 19,
   "metadata": {},
   "outputs": [
    {
     "name": "stdout",
     "output_type": "stream",
     "text": [
      "letter          ABC\n",
      "word      FooBarBaz\n",
      "number            6\n",
      "dtype: object\n",
      "2.0\n",
      "0    1\n",
      "1    3\n",
      "2    6\n",
      "Name: number, dtype: int64\n",
      "[1, 3]\n"
     ]
    }
   ],
   "source": [
    "print(df_2.sum()) # See how it sums strings, exactly as we did earlier?\n",
    "print(df_2['number'].mean()) # You obviously can't take the mean of strings, so lets look at just the number column, we access using square braces\n",
    "print(df_2['number'].cumsum()) # cumalative sum is also useful\n",
    "print([df_2['number'].min(), df_2.number.max()]) # Min and max. Notice we can access a column using . notation rather than square braces if we want, though square braces is more common"
   ]
  },
  {
   "cell_type": "code",
   "execution_count": 20,
   "metadata": {},
   "outputs": [],
   "source": [
    "# Use the pandas methods from above to find and print the sum, mean, minimum, and maximum salary values from your df.\n",
    "# If it doesn't work, check you haven't input the salary values as strings instead of numbers."
   ]
  },
  {
   "cell_type": "markdown",
   "metadata": {},
   "source": [
    "This next cell introduces functions and conditionals briefly, don't worry too much about them, we'll go through them in depth in a later work sheet."
   ]
  },
  {
   "cell_type": "code",
   "execution_count": 21,
   "metadata": {},
   "outputs": [
    {
     "name": "stdout",
     "output_type": "stream",
     "text": [
      "  letter word  number  product 3\n",
      "0      A  Foo       1          3\n",
      "1      B  Bar       2          6\n",
      "2      C  Baz       3          9\n",
      "  letter word  number  product 3 multiple of 3\n",
      "0      A  Foo       1          3           Yes\n",
      "1      B  Bar       2          6           Yes\n",
      "2      C  Baz       3          9            No\n"
     ]
    }
   ],
   "source": [
    "df_2['product 3'] = df_2['number'] * 3 # we can also perform actions on columns easily, for example, multiplying each row in the number column by 3 to make a new column\n",
    "print(df_2)\n",
    "\n",
    "def multiple_of_3(x):\n",
    "    if x % 3:\n",
    "        return 'Yes'\n",
    "    else:\n",
    "        return 'No'\n",
    "    \n",
    "df_2['multiple of 3'] = df_2['number'].map(multiple_of_3) # mapping is really useful if we want to perform an action for every row that changes based on value sin rows\n",
    "print(df_2)"
   ]
  },
  {
   "cell_type": "code",
   "execution_count": 22,
   "metadata": {},
   "outputs": [],
   "source": [
    "# Everyone at your imaginary company has had a pay rise, update the salary column to reflect this by using the * operator by 1.07 and setting it equal to\n",
    "# the same column. Print the new column using the square bracket method.\n",
    "# use the .map method and the pre-written function on your dataframe to make a new column indicating whose salary is above avergage (The average uk salary is £33,402). \n",
    "\n",
    "def above_average(x):\n",
    "    if x > 33402:\n",
    "        return 'Above avergage'\n",
    "    if x == 33402:\n",
    "        return 'Average'\n",
    "    else:\n",
    "        return 'Below average'"
   ]
  },
  {
   "cell_type": "code",
   "execution_count": 23,
   "metadata": {},
   "outputs": [
    {
     "name": "stdout",
     "output_type": "stream",
     "text": [
      "  ChildId  Age first contact Gender    Birthday CP Plan?\n",
      "0     id1                  6      M  01/01/2002        Y\n",
      "1     id2                 12      m  02/02/2003        n\n",
      "2     id3                 11      F        <NA>        N\n",
      "3     id4                  1         03/03/2023       No\n",
      "4     id5                 19      F  06/01/2012      yES\n",
      "<class 'pandas.core.frame.DataFrame'>\n",
      "RangeIndex: 5 entries, 0 to 4\n",
      "Data columns (total 5 columns):\n",
      " #   Column             Non-Null Count  Dtype \n",
      "---  ------             --------------  ----- \n",
      " 0   ChildId            5 non-null      object\n",
      " 1   Age first contact  5 non-null      int64 \n",
      " 2   Gender             5 non-null      object\n",
      " 3   Birthday           4 non-null      object\n",
      " 4   CP Plan?           5 non-null      object\n",
      "dtypes: int64(1), object(4)\n",
      "memory usage: 328.0+ bytes\n",
      "None\n"
     ]
    }
   ],
   "source": [
    "# Here we're just making a larger dataframe to work from for examples going forward\n",
    "df = pd.DataFrame({'ChildId':['id1', 'id2', 'id3', 'id4', 'id5'],\n",
    "                   'Age first contact':[6,12,11,1,19],\n",
    "                   'Gender':['M','m', 'F', '', 'F' ],\n",
    "                   'Birthday':['01/01/2002', '02/02/2003', pd.NA, '03/03/2023', '06/01/2012'],\n",
    "                   'CP Plan?':['Y', 'n', 'N', 'No', 'yES'],})\n",
    "\n",
    "print(df)\n",
    "print(df.info())"
   ]
  },
  {
   "cell_type": "markdown",
   "metadata": {},
   "source": [
    "So, lets use this df to go though some key DF processes: making selections based on criteria, some basic data cleaning, and making sure data is of the right type"
   ]
  },
  {
   "cell_type": "code",
   "execution_count": 24,
   "metadata": {},
   "outputs": [
    {
     "name": "stdout",
     "output_type": "stream",
     "text": [
      "datetime64[ns]\n",
      "0   7925 days\n",
      "1   7528 days\n",
      "2         NaT\n",
      "3    194 days\n",
      "4   4121 days\n",
      "Name: Age, dtype: timedelta64[ns]\n",
      "  ChildId  Age first contact Gender   Birthday CP Plan?   Age\n",
      "0     id1                  6      M 2002-01-01        Y  22.0\n",
      "1     id2                 12      m 2003-02-02        n  21.0\n",
      "2     id3                 11      F        NaT        N   NaN\n",
      "3     id4                  1        2023-03-03       No   1.0\n",
      "4     id5                 19      F 2012-06-01      yES  11.0\n",
      "  ChildId  Age first contact Gender   Birthday CP Plan?   Age\n",
      "4     id5                 19      F 2012-06-01      yES  11.0\n"
     ]
    }
   ],
   "source": [
    "# Making sure stuff is the right type: our dates are strings, we need them to be dates!\n",
    "df['Birthday'] = pd.to_datetime(df['Birthday'])\n",
    "print(df['Birthday'].dtypes) # Now it's a datetime object, we can do a calculation to work out current ages!\n",
    "\n",
    "df['Age'] = pd.to_datetime('13/09/2023', dayfirst=True) - df['Birthday']\n",
    "print(df['Age']) # It's now a time delta object, we want age in years!\n",
    "\n",
    "\n",
    "import numpy as np\n",
    "df['Age'] = df['Age'] / pd.Timedelta('365 days')\n",
    "df['Age'] = df['Age'].round().astype('int', errors='ignore') # Round, convert to integers, ignoring the error produced by the empty value for age\n",
    "print(df)\n",
    "\n",
    "# Lets do an error check and take rows where first contact is an age older then their current age\n",
    "error_df = df[df['Age first contact'] > df['Age']]\n",
    "print(error_df) # We can see, based on our selection, child id5 has an error"
   ]
  },
  {
   "cell_type": "code",
   "execution_count": 25,
   "metadata": {},
   "outputs": [],
   "source": [
    "# Add a start date column to the dataframe of employees you made earlier, convert it to a datetime data type, and add a column for years worked.\n",
    "# Use the .mean() method on the years worked column to calculate the average time people have worked for and assign this for a variable.\n",
    "# Next, make a new dataframe, with an appropriate name, choosing only rows where the years worked value is greater than the average. \n",
    "# Tips:\n",
    "# An easy way to make a new column and add values to it is to have the dataframe column and set it equal to a list of values you want, in order.\n",
    "# For example 'df['numbers'] = [1, 2, 3, 4, 5]'. Make sure you have as many items in your list as you have rows in the dataframe.\n",
    "# Make sure you add the start dates in your list as strings, all int he same format (eg dd/mm/yyyy)."
   ]
  },
  {
   "cell_type": "markdown",
   "metadata": {},
   "source": [
    "We've converted to dates, calculated ages, and found a row with errors, lets do a little cleaning now. "
   ]
  },
  {
   "cell_type": "code",
   "execution_count": 26,
   "metadata": {},
   "outputs": [
    {
     "name": "stdout",
     "output_type": "stream",
     "text": [
      "  ChildId  Age first contact Gender   Birthday CP Plan?   Age\n",
      "0     id1                  6      m 2002-01-01        Y  22.0\n",
      "1     id2                 12      m 2003-02-02        n  21.0\n",
      "2     id3                 11      f        NaT        N   NaN\n",
      "3     id4                  1        2023-03-03       No   1.0\n",
      "4     id5                 19      f 2012-06-01      yES  11.0\n",
      "  ChildId  Age first contact Gender   Birthday CP Plan?   Age\n",
      "0     id1                  6      m 2002-01-01        y  22.0\n",
      "1     id2                 12      m 2003-02-02        n  21.0\n",
      "2     id3                 11      f        NaT        n   NaN\n",
      "3     id4                  1        2023-03-03        n   1.0\n",
      "4     id5                 19      f 2012-06-01        y  11.0\n",
      "  ChildId  Age first contact Gender   Birthday CP Plan?   Age\n",
      "0     id1                  6      m 2002-01-01        y  22.0\n",
      "1     id2                 12      m 2003-02-02        n  21.0\n",
      "2     id3                 11      f        NaT        n   NaN\n",
      "3     id4                  1        2023-03-03        n   1.0\n",
      "4     id5                 19      f 2012-06-01        y  11.0\n"
     ]
    }
   ],
   "source": [
    "# Convert all gender values to lower case\n",
    "df['Gender'] = df['Gender'].str.lower()\n",
    "print(df)\n",
    "\n",
    "# convert all cp plan? to lower... but we still need the right things in each column\n",
    "df['CP Plan?'] = df['CP Plan?'].str.lower()\n",
    "\n",
    "df['CP Plan?'] = df['CP Plan?'].apply(lambda x: 'y' if 'y' in x else 'n' if 'n' in x else pd.NA) # This has got a bit more complicated, we've used a lambda function to change value sbased on other values\n",
    "print(df)\n",
    "\n",
    "df = df.fillna(pd.NA) # .fillna() can be used to fill empty rows with whatever we want. standard would be pd.NA which pandas understands as NAs\n",
    "# Note, this hasn't worked for our empty value in gender as an empty string is still a string!\n",
    "print(df)\n",
    "\n",
    "df = df.replace(r'^\\s*$', pd.NA, regex=True) # The easiest way to fill it is replacing the regex expression for an empty string with an na\n",
    "# We can see in the table below we have a NaN, an <NA>, and an NaT, these are the Not a Number, Empty, and Not a Time NAs for each data type."
   ]
  },
  {
   "cell_type": "code",
   "execution_count": 27,
   "metadata": {},
   "outputs": [],
   "source": [
    "# In this cell use the .str.lower() method to make all the names in the employee names column lower case\n",
    "# You now need to make two new columns, one for first and one for last name. We are going to do this by learning a new skill:\n",
    "# Getting other people to write the code for us!\n",
    "# Use this stack overflow link to learn how to split columns in pandas: \n",
    "# https://stackoverflow.com/questions/38437847/pandas-split-name-column-into-first-and-last-name-if-contains-one-space"
   ]
  },
  {
   "cell_type": "code",
   "execution_count": 28,
   "metadata": {},
   "outputs": [
    {
     "name": "stdout",
     "output_type": "stream",
     "text": [
      "{'ChildId': ['id8'], 'Age': [10], 'Gender': ['m'], 'Birthday': [Timestamp('1993-05-12 00:00:00')], 'NHS Number': '666'}\n",
      "  ChildId  Age first contact Gender   Birthday CP Plan?   Age NHS Number\n",
      "0     id1                6.0      m 2002-01-01        y  22.0        NaN\n",
      "1     id2               12.0      m 2003-02-02        n  21.0        NaN\n",
      "2     id3               11.0      f        NaT        n   NaN        NaN\n",
      "3     id4                1.0   <NA> 2023-03-03        n   1.0        NaN\n",
      "4     id5               19.0      f 2012-06-01        y  11.0        NaN\n",
      "5     id8                NaN      m 1993-05-12      NaN  10.0        666\n",
      "ChildId                      object\n",
      "Age first contact           float64\n",
      "Gender                       object\n",
      "Birthday             datetime64[ns]\n",
      "CP Plan?                     object\n",
      "Age                         float64\n",
      "NHS Number                   object\n",
      "dtype: object\n"
     ]
    }
   ],
   "source": [
    "# Lets say we have another child\n",
    "new_child = {\n",
    "            'ChildId':['id8'],\n",
    "             'Age':[10],\n",
    "             'Gender':['m'],\n",
    "             'Birthday':[pd.to_datetime('05/12/1993')],\n",
    "             'NHS Number': '666',\n",
    "             }\n",
    "\n",
    "print(new_child)\n",
    "df = pd.concat([df, pd.DataFrame(new_child)], ignore_index=True)\n",
    "print(df) # this has allowed us to add a new child, and has also added a new column to include the new data\n",
    "print(df.dtypes)"
   ]
  },
  {
   "cell_type": "code",
   "execution_count": 29,
   "metadata": {},
   "outputs": [],
   "source": [
    "# In this cell, make a dataframe for a new employee, with all the same columns as before, and an extra 'employee ID' column.\n",
    "# Use the pd.concat() method to join it to your employees dataframe."
   ]
  },
  {
   "cell_type": "code",
   "execution_count": 30,
   "metadata": {},
   "outputs": [
    {
     "name": "stdout",
     "output_type": "stream",
     "text": [
      "  ChildId  Age first contact Gender   Birthday CP Plan?   Age NHS Number_x  \\\n",
      "0     id1                6.0      m 2002-01-01        y  22.0          303   \n",
      "1     id2               12.0      m 2003-02-02        n  21.0       3u5029   \n",
      "2     id3               11.0      f        NaT        n   NaN         gqw3   \n",
      "3     id4                1.0   <NA> 2023-03-03        n   1.0       avsgvb   \n",
      "4     id5               19.0      f 2012-06-01        y  11.0       varwvw   \n",
      "5     id8                NaN      m 1993-05-12      NaN  10.0          666   \n",
      "\n",
      "  NHS Number_y  \n",
      "0          303  \n",
      "1       3u5029  \n",
      "2         gqw3  \n",
      "3       avsgvb  \n",
      "4       varwvw  \n",
      "5          NaN  \n",
      "  ChildId  Age first contact Gender   Birthday CP Plan?   Age NHS Number\n",
      "0     id1                6.0      m 2002-01-01        y  22.0        303\n",
      "1     id2               12.0      m 2003-02-02        n  21.0     3u5029\n",
      "2     id3               11.0      f        NaT        n   NaN       gqw3\n",
      "3     id4                1.0   <NA> 2023-03-03        n   1.0     avsgvb\n",
      "4     id5               19.0      f 2012-06-01        y  11.0     varwvw\n",
      "5     id8                NaN      m 1993-05-12      NaN  10.0        666\n"
     ]
    }
   ],
   "source": [
    "nhs_numbers = pd.DataFrame([\n",
    "                            {'ChildId':'id1',\n",
    "                            'NHS Number': '303',},\n",
    "                            {'ChildId':'id2',\n",
    "                            'NHS Number': '3u5029',},\n",
    "                            {'ChildId':'id3',\n",
    "                            'NHS Number': 'gqw3',},\n",
    "                            {'ChildId':'id4',\n",
    "                            'NHS Number': 'avsgvb',},\n",
    "                            {'ChildId':'id5',\n",
    "                            'NHS Number': 'varwvw',},\n",
    "                            ])\n",
    "\n",
    "df = pd.merge(df, nhs_numbers, how='left', on='ChildId')\n",
    "df['NHS Number_x'] = df['NHS Number_x'].fillna(df['NHS Number_y'])\n",
    "print(df)\n",
    "df.drop('NHS Number_y', axis=1, inplace=True)\n",
    "df.rename({'NHS Number_x': 'NHS Number'}, axis=1, inplace=True)\n",
    "print(df)"
   ]
  },
  {
   "cell_type": "code",
   "execution_count": 31,
   "metadata": {},
   "outputs": [],
   "source": [
    "# Make a new dataframe of your employees names and some employee IDs, then merge it with your big dataframe, and use the drop, fillna, and rename methods to clean it up.\n",
    "# To finish off, make a new dataframe with every employee from your large employees dataframe with a column for their employee IDs, and a new column for their managers. \n",
    "# Merge this to the bigger dataframe and print it to see that merging doesn't always need any clean up!"
   ]
  },
  {
   "cell_type": "markdown",
   "metadata": {},
   "source": [
    "## Group work for session 2\n",
    "There is a csv of house price data in the UK from 1980-2023 here: https://raw.githubusercontent.com/data-to-insight/D2I-Jupyter-Notebook-Tools/main/ERN-worksheets/data/1980%202023%20average%20house%20prices.csv\n",
    "\n",
    "This is real data taken from the ONS website, but stored on GitHub for ease of accessibility.\n",
    "\n",
    "As a group, use google to work out how to read data from a url into pandas, and do so, naming the dataframe variable appropriately.\n",
    "Convert date columns to datetime type.\n",
    "Find the year with the highest and lowest house prices.\n",
    "Find the year with the largest percentage increase in house prices.\n",
    "Slice the dataframe to return only rows where the average house price is over 200,000.\n",
    "Slice the dataframe to return only rows where the average house price in that year is over the median house price for all the data.\n",
    "\n",
    "Now for the hard bit once again: work out how to plot the average house price against the time period as a line plot, using a library called seaborn.\n",
    "You will need to import seaborn as sns (just as we import pandas as pd).\n",
    "A good place to start is google, and the seaborn documentation: https://seaborn.pydata.org/generated/seaborn.lineplot.html"
   ]
  },
  {
   "cell_type": "code",
   "execution_count": null,
   "metadata": {},
   "outputs": [],
   "source": []
  }
 ],
 "metadata": {
  "kernelspec": {
   "display_name": "Python 3",
   "language": "python",
   "name": "python3"
  },
  "language_info": {
   "codemirror_mode": {
    "name": "ipython",
    "version": 3
   },
   "file_extension": ".py",
   "mimetype": "text/x-python",
   "name": "python",
   "nbconvert_exporter": "python",
   "pygments_lexer": "ipython3",
   "version": "3.10.13"
  },
  "orig_nbformat": 4
 },
 "nbformat": 4,
 "nbformat_minor": 2
}
