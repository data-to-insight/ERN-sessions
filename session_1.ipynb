{
 "cells": [
  {
   "cell_type": "code",
   "execution_count": 21,
   "metadata": {},
   "outputs": [
    {
     "name": "stdout",
     "output_type": "stream",
     "text": [
      "15\n",
      "2.0\n"
     ]
    }
   ],
   "source": [
    "x = 5\n",
    "y = 10 \n",
    "\n",
    "# add\n",
    "z = x + y\n",
    "\n",
    "#shows variable on screen\n",
    "print(z)\n",
    "\n",
    "#divide\n",
    "j = y / x\n",
    "\n",
    "print(j)\n"
   ]
  },
  {
   "cell_type": "code",
   "execution_count": 22,
   "metadata": {},
   "outputs": [
    {
     "name": "stdout",
     "output_type": "stream",
     "text": [
      "<class 'int'>\n"
     ]
    }
   ],
   "source": [
    "type_z = type(z)\n",
    "\n",
    "print(type_z)"
   ]
  },
  {
   "cell_type": "code",
   "execution_count": 23,
   "metadata": {},
   "outputs": [
    {
     "name": "stdout",
     "output_type": "stream",
     "text": [
      "5\n"
     ]
    }
   ],
   "source": [
    "print(x)"
   ]
  },
  {
   "cell_type": "code",
   "execution_count": 24,
   "metadata": {},
   "outputs": [],
   "source": [
    "x = 5"
   ]
  },
  {
   "cell_type": "code",
   "execution_count": 25,
   "metadata": {},
   "outputs": [
    {
     "name": "stdout",
     "output_type": "stream",
     "text": [
      "6\n"
     ]
    }
   ],
   "source": [
    "x = x + 1\n",
    "print(x)"
   ]
  },
  {
   "cell_type": "code",
   "execution_count": 27,
   "metadata": {},
   "outputs": [
    {
     "name": "stdout",
     "output_type": "stream",
     "text": [
      "15.0\n",
      "12.56\n"
     ]
    }
   ],
   "source": [
    "# In this cell, initialise two numeric variables and find their product \n",
    "# using the * operator for multiplication and assign this to a new variable.\n",
    "# Print the new variable\n",
    "j = 30\n",
    "k = 0.5\n",
    "\n",
    "i = j * k\n",
    "print(i)\n",
    "\n",
    "# The radius of a circle is 2, assume that Pi is 3.14. Assign both of these \n",
    "# to suitably named variables and find the area of the circle.\n",
    "# We can find the area of a circle by finding the product of Pi with the radius squared.\n",
    "# You probably don't know how to square a number in Python yet, so use Google to work it out!\n",
    "\n",
    "# ** 2 (to square a number)\n",
    "\n",
    "radius = 2\n",
    "pi = 3.14\n",
    "\n",
    "area = pi * (radius ** 2)\n",
    "\n",
    "print(area)\n"
   ]
  },
  {
   "cell_type": "code",
   "execution_count": 37,
   "metadata": {},
   "outputs": [
    {
     "name": "stdout",
     "output_type": "stream",
     "text": [
      "My name is: Will, and I like Running.\n",
      "My name is: Will, and I like Running.\n"
     ]
    }
   ],
   "source": [
    "name = \"Will\"\n",
    "hobby = \"Running\"\n",
    "\n",
    "outcome = \"My name is: \" + name + \", and I like \" + hobby + \".\"\n",
    "\n",
    "print(outcome)\n",
    "\n",
    "outcome_2 = f\"My name is: {name}, and I like {hobby}.\"\n",
    "\n",
    "print(outcome_2)"
   ]
  },
  {
   "cell_type": "code",
   "execution_count": 41,
   "metadata": {},
   "outputs": [
    {
     "name": "stdout",
     "output_type": "stream",
     "text": [
      "My name is Will, and I am a Data Manager.\n"
     ]
    }
   ],
   "source": [
    "# In this cell, initialise two appropriately named variables, one for your name and one for your job title.\n",
    "# Next, combine them in an f string, assigned to a different, appropriately named variable.\n",
    "# Finally, print the f string.\n",
    "\n",
    "name = \"Will\"\n",
    "job = \"Data Manager\"\n",
    "\n",
    "name_job = f\"My name is {name}, and I am a {job}.\"\n",
    "\n",
    "print(name_job)"
   ]
  },
  {
   "cell_type": "code",
   "execution_count": 55,
   "metadata": {},
   "outputs": [
    {
     "name": "stdout",
     "output_type": "stream",
     "text": [
      "4\n",
      "7\n",
      "4567\n",
      "13579\n",
      "987654321\n"
     ]
    }
   ],
   "source": [
    "# indexing starts at 0\n",
    "\n",
    "num_string = \"123456789\"\n",
    "\n",
    "sub_string = num_string[3]\n",
    "\n",
    "print(sub_string)\n",
    "\n",
    "# minus is from rhs\n",
    "sub_string_rhs = num_string[-3]\n",
    "\n",
    "print(sub_string_rhs)\n",
    "\n",
    "# start is INCLUSIVE, stop is EXCLUSIVE\n",
    "sub_range = num_string[3:7]\n",
    "print(sub_range)\n",
    "\n",
    "# step \n",
    "step_range = num_string[::2]\n",
    "print(step_range)\n",
    "\n",
    "reverse = num_string[-1::-1]\n",
    "print(reverse)"
   ]
  },
  {
   "cell_type": "code",
   "execution_count": 58,
   "metadata": {},
   "outputs": [
    {
     "name": "stdout",
     "output_type": "stream",
     "text": [
      "dog\n",
      "cat\n",
      "racoon\n"
     ]
    }
   ],
   "source": [
    "\n",
    "# In this cell I've initialised a variable 'slice_this_phrase'. \n",
    "# On the next three lines, print the words dog, cat, and racoon seprately \n",
    "#using a slice from the beginning, a slice giving a range in the middle, and a slice from the end.\n",
    "# This means one slice will involve [:n], one will involve [n1:n2], and one will involve [-n:].\n",
    "\n",
    "slice_this_phrase = 'dog cat racoon'\n",
    "\n",
    "print(slice_this_phrase[:3])\n",
    "print(slice_this_phrase[4:7])\n",
    "print(slice_this_phrase[-6:])"
   ]
  }
 ],
 "metadata": {
  "kernelspec": {
   "display_name": "Python 3",
   "language": "python",
   "name": "python3"
  },
  "language_info": {
   "codemirror_mode": {
    "name": "ipython",
    "version": 3
   },
   "file_extension": ".py",
   "mimetype": "text/x-python",
   "name": "python",
   "nbconvert_exporter": "python",
   "pygments_lexer": "ipython3",
   "version": "3.10.13"
  }
 },
 "nbformat": 4,
 "nbformat_minor": 2
}
