{
 "cells": [
  {
   "cell_type": "code",
   "execution_count": 10,
   "metadata": {},
   "outputs": [
    {
     "name": "stdout",
     "output_type": "stream",
     "text": [
      "11\n"
     ]
    }
   ],
   "source": [
    "num_1 = 1\n",
    "num_2 = 10.0\n",
    "sum_1_2 = num_1 + num_2\n",
    "print(sum_1_2)\n"
   ]
  },
  {
   "cell_type": "code",
   "execution_count": 31,
   "metadata": {},
   "outputs": [
    {
     "name": "stdout",
     "output_type": "stream",
     "text": [
      "10.05\n"
     ]
    }
   ],
   "source": [
    "x = \"10.0\"\n",
    "y = \"5\"\n",
    "z = x + y\n",
    "print(z)"
   ]
  },
  {
   "cell_type": "code",
   "execution_count": null,
   "metadata": {},
   "outputs": [],
   "source": [
    "# In this cell, initialise two numeric variables and find their product \n",
    "# using the * operator for multiplication and assign this to a new variable.\n",
    "# Print the new variable\n",
    "\n",
    "# The radius of a circle is 2, assume that Pi is 3.14. Assign both of these \n",
    "# to suitably named variables and find the area of the circle.\n",
    "# We can find the area of a circle by finding the product of Pi with the radius squared.\n",
    "# You probably don't know how to square a number in Python yet, so use Google to work it out!"
   ]
  },
  {
   "cell_type": "code",
   "execution_count": 29,
   "metadata": {},
   "outputs": [
    {
     "name": "stdout",
     "output_type": "stream",
     "text": [
      "30\n",
      "12.56\n"
     ]
    }
   ],
   "source": [
    "x = 3\n",
    "y = 10\n",
    "z = x * y\n",
    "print(z)\n",
    "\n",
    "r = 2\n",
    "pi = 3.14\n",
    "area = pi * r ** 2\n",
    "print(area)"
   ]
  },
  {
   "cell_type": "code",
   "execution_count": 35,
   "metadata": {},
   "outputs": [
    {
     "name": "stdout",
     "output_type": "stream",
     "text": [
      "My name is Will and I am the teacher\n",
      "My name is Will and I am the teacher.\n"
     ]
    }
   ],
   "source": [
    "name = \"Will\"\n",
    "job = \"teacher\" \n",
    "longer_string = \"My name is \" + name + \" and I am the \" + job\n",
    "print(longer_string)\n",
    "\n",
    "phrase = f\"My name is {name} and I am the {job}.\"\n",
    "print(phrase)"
   ]
  },
  {
   "cell_type": "code",
   "execution_count": null,
   "metadata": {},
   "outputs": [],
   "source": [
    "# In this cell, initialise two appropriately named variables, one for your name and one for your job title.\n",
    "# Next, combine them in an f string, assigned to a different, appropriately named variable.\n",
    "# Finally, print the f string."
   ]
  },
  {
   "cell_type": "code",
   "execution_count": 37,
   "metadata": {},
   "outputs": [
    {
     "name": "stdout",
     "output_type": "stream",
     "text": [
      "The rate of cin plans per 10k children is 129.03225806451613\n"
     ]
    }
   ],
   "source": [
    "cin_plan = 200\n",
    "total_pop = 15500\n",
    "\n",
    "rp10k = (cin_plan / total_pop) * 10000\n",
    "explanation = f\"The rate of cin plans per 10k children is {rp10k}\"\n",
    "print(explanation)"
   ]
  },
  {
   "cell_type": "code",
   "execution_count": 52,
   "metadata": {},
   "outputs": [
    {
     "name": "stdout",
     "output_type": "stream",
     "text": [
      ".csv\n",
      "The filename is: 903_header\n",
      "dog\n",
      "cat\n",
      "racoon\n"
     ]
    }
   ],
   "source": [
    "filename = \"c://desktop/data/903_header.csv\"\n",
    "#print(filename)\n",
    "\n",
    "substring = filename[10]\n",
    "#print(substring)\n",
    "# [start:stop:step]\n",
    "substring_2 = filename[10:21]\n",
    "#print(substring_2)\n",
    "\n",
    "substring_3 = filename[-4:]\n",
    "print(substring_3)\n",
    "\n",
    "substring_4 = filename[17:-4]\n",
    "long_prhase = f'The filename is: {substring_4}'\n",
    "print(long_prhase)\n",
    "\n",
    "# In this cell I've initialised a variable 'slice_this_phrase'. \n",
    "# On the next three lines, print the words dog, cat, and racoon seprately \n",
    "#using a slice from the beginning, a slice giving a range in the middle, and a slice from the end.\n",
    "# This means one slice will involve [:n], one will involve [n1:n2], and one will involve [-n:].\n",
    "\n",
    "slice_this_phrase = 'dog cat racoon'\n",
    "\n",
    "Slice_this_phrse = 'dog cat racoon'\n",
    "animal_1 = Slice_this_phrse [0:3]\n",
    "animal_2 = Slice_this_phrse [4:7]\n",
    "animal_3 =  Slice_this_phrse [8:]\n",
    "print(animal_1)\n",
    "print(animal_2)\n",
    "print(animal_3)"
   ]
  },
  {
   "cell_type": "code",
   "execution_count": 57,
   "metadata": {},
   "outputs": [
    {
     "name": "stdout",
     "output_type": "stream",
     "text": [
      "[1, 'reverse this phrase', 'The filename is: 903_header']\n",
      "<class 'list'>\n"
     ]
    }
   ],
   "source": [
    "list_1 = [1, phrase, long_prhase, \"hi\"]\n",
    "print(list_1)\n",
    "print(type(list_1))"
   ]
  },
  {
   "cell_type": "code",
   "execution_count": 65,
   "metadata": {},
   "outputs": [
    {
     "name": "stdout",
     "output_type": "stream",
     "text": [
      "['red', 'blue', 'green', 'purple']\n"
     ]
    }
   ],
   "source": [
    "colours = ['red', 'blue', 'green', 'purple']\n",
    "print(colours)"
   ]
  },
  {
   "cell_type": "code",
   "execution_count": 82,
   "metadata": {},
   "outputs": [
    {
     "name": "stdout",
     "output_type": "stream",
     "text": [
      "['teal', 'orange']\n",
      "['red', 'blue', 'green', 'purple', ['teal', 'orange'], 'brown', 'gold', 'white']\n",
      "['blue', 'green', 'purple', ['teal', 'orange'], 'brown', 'gold', 'white', 'red']\n"
     ]
    }
   ],
   "source": [
    "colours = ['red', 'blue', 'green', 'purple']\n",
    "# [start:stop:step]\n",
    "\n",
    "colours.append(['teal', 'orange'])\n",
    "print(colours[4])\n",
    "\n",
    "more_colours = [\"brown\", \"gold\", \"white\"]\n",
    "colours.extend(more_colours)\n",
    "print(colours)\n",
    "\n",
    "colours.append(\"red\")\n",
    "\n",
    "colours.remove('red')\n",
    "print(colours)\n"
   ]
  },
  {
   "cell_type": "code",
   "execution_count": 74,
   "metadata": {},
   "outputs": [
    {
     "name": "stdout",
     "output_type": "stream",
     "text": [
      "5\n"
     ]
    }
   ],
   "source": [
    "my_string = 'Will said \"some words\"'"
   ]
  },
  {
   "cell_type": "code",
   "execution_count": 11,
   "metadata": {},
   "outputs": [
    {
     "name": "stdout",
     "output_type": "stream",
     "text": [
      "[1, 2, 3, [10, 11], 3, 4, 5]\n",
      "3\n",
      "[2, [10, 11], 4]\n",
      "[0, 1, 2, 3, 4, 5, 6, 7, 8, 9, 10]\n"
     ]
    }
   ],
   "source": [
    "num_1 = 1\n",
    "num_2 = 2.0\n",
    "name = \"Will\"\n",
    "list_1 = [1, 2, 3]\n",
    "# print(type(name))\n",
    "\n",
    "list_1.append([10, 11])\n",
    "list_1.extend([3, 4, 5])\n",
    "print(list_1)\n",
    "\n",
    "list_index_individual = list_1[4]\n",
    "print(list_index_individual)\n",
    "\n",
    "list_slice = list_1[1::2]\n",
    "print(list_slice)\n",
    "\n",
    "list_2 = list(range(11))\n",
    "print(list_2)"
   ]
  },
  {
   "cell_type": "code",
   "execution_count": 18,
   "metadata": {},
   "outputs": [
    {
     "name": "stdout",
     "output_type": "stream",
     "text": [
      "<class 'int'>\n"
     ]
    }
   ],
   "source": [
    "num_2 = str(num_2)\n",
    "num_2 = float(num_2)\n",
    "num_2 = int(num_2)\n",
    "\n",
    "print(type(num_2))"
   ]
  },
  {
   "cell_type": "code",
   "execution_count": 21,
   "metadata": {},
   "outputs": [
    {
     "name": "stdout",
     "output_type": "stream",
     "text": [
      "[2, 3, 4, 5, 1, 6]\n",
      "[6, 5, 4, 3, 2, 1]\n"
     ]
    }
   ],
   "source": [
    "numbers_list = [2,3,4,5,1,6]\n",
    "print(numbers_list)\n",
    "\n",
    "numbers_list.sort(reverse=True)\n",
    "print(numbers_list)\n"
   ]
  },
  {
   "cell_type": "code",
   "execution_count": 23,
   "metadata": {},
   "outputs": [
    {
     "name": "stdout",
     "output_type": "stream",
     "text": [
      "<class 'dict'>\n"
     ]
    }
   ],
   "source": [
    "dict_1 = {'key1':'value1', \n",
    "          'key2':'value2'}\n",
    "print(dict_1)"
   ]
  },
  {
   "cell_type": "code",
   "execution_count": 26,
   "metadata": {},
   "outputs": [
    {
     "name": "stdout",
     "output_type": "stream",
     "text": [
      "Burger\n",
      "{'McDonalds': 'Burger', 'KFC': ['Chicken wing', 'Chicken Burger', 'Mash with gravy'], 'Local Hotel': {'Weekdays': 'Gastro pub food', 'Weekends': 'High tea'}, 'Kebab Shop': 'Kebabs'}\n"
     ]
    }
   ],
   "source": [
    "will = {'Name':'Will',\n",
    "        'Job title':'Teacher',\n",
    "        'Hours':'Too many',\n",
    "        'Salary':10}\n",
    "\n",
    "colours_dict = {'Will':will,\n",
    "                'Andy':['Purple', 'Blue'],\n",
    "                'Annie':14,\n",
    "                'Naiomi':{'Monday':'Red',\n",
    "                        'Sunday':'Orange',\n",
    "                        'Others':'Black'}}\n",
    "\n",
    "restaurants = {'McDonalds':'Burger',\n",
    "               'KFC':['Chicken wing', 'Chicken Burger', 'Mash with gravy'],\n",
    "               'Local Hotel':{'Weekdays':'Gastro pub food',\n",
    "                              'Weekends':'High tea'}}\n",
    "\n",
    "# In this cell, make a dicitonary of some restaurants and the foods they sell, \n",
    "\n",
    "mcdo_food = restaurants['McDonalds']\n",
    "print(mcdo_food)\n",
    "\n",
    "restaurants['Kebab Shop'] = 'Kebabs'\n",
    "\n",
    "print(restaurants)\n"
   ]
  },
  {
   "cell_type": "code",
   "execution_count": 31,
   "metadata": {},
   "outputs": [
    {
     "name": "stdout",
     "output_type": "stream",
     "text": [
      "dict_keys(['McDonalds', 'KFC', 'Local Hotel', 'Kebab Shop'])\n",
      "dict_values(['Burger', ['Chicken wing', 'Chicken Burger', 'Mash with gravy'], {'Weekdays': 'Gastro pub food', 'Weekends': 'High tea'}, 'Kebabs'])\n",
      "dict_items([('McDonalds', 'Burger'), ('KFC', ['Chicken wing', 'Chicken Burger', 'Mash with gravy']), ('Local Hotel', {'Weekdays': 'Gastro pub food', 'Weekends': 'High tea'}), ('Kebab Shop', 'Kebabs')])\n",
      "True\n"
     ]
    }
   ],
   "source": [
    "mcdo_food = restaurants['McDonalds']\n",
    "print(restaurants)\n",
    "print(mcdo_food)\n",
    "\n",
    "restaurants['Kebab Shop'] = 'Kebabs'\n",
    "\n",
    "# print(restaurants.keys())\n",
    "# print(restaurants.values())\n",
    "\n",
    "# print(restaurants.items())\n",
    "\n",
    "print('Kebab Shop' in restaurants)\n",
    "\n",
    "# Using the key, print the values of one of the restaurants in your dicitonary.\n",
    "# Add a new key:value pair to your dictionary, as above.\n",
    "# Check whether 'mcdonalds' is a key in your dictionary, printing the answer."
   ]
  },
  {
   "cell_type": "code",
   "execution_count": 1,
   "metadata": {},
   "outputs": [],
   "source": [
    "import pandas as pd\n",
    "\n",
    "filepath = 'https://raw.githubusercontent.com/data-to-insight/csc-validator-be-903/main/tests/fake_data/header.csv'\n",
    "\n",
    "header_fake = pd.read_csv(filepath) \n",
    "# read an excel file pd.read_excel(<filepath>)\n",
    "\n",
    "\n"
   ]
  },
  {
   "cell_type": "code",
   "execution_count": 5,
   "metadata": {},
   "outputs": [
    {
     "name": "stdout",
     "output_type": "stream",
     "text": [
      "<class 'pandas.core.frame.DataFrame'>\n",
      "RangeIndex: 2675 entries, 0 to 2674\n",
      "Data columns (total 7 columns):\n",
      " #   Column  Non-Null Count  Dtype  \n",
      "---  ------  --------------  -----  \n",
      " 0   CHILD   2675 non-null   int64  \n",
      " 1   SEX     2675 non-null   int64  \n",
      " 2   DOB     2675 non-null   object \n",
      " 3   ETHNIC  2675 non-null   object \n",
      " 4   UPN     2675 non-null   object \n",
      " 5   MOTHER  1 non-null      float64\n",
      " 6   MC_DOB  1 non-null      object \n",
      "dtypes: float64(1), int64(2), object(4)\n",
      "memory usage: 146.4+ KB\n",
      "None\n"
     ]
    }
   ],
   "source": [
    "# print(header_fake.head(10))\n",
    "# print(header_fake.tail(10))\n",
    "\n",
    "print(header_fake.info())"
   ]
  },
  {
   "cell_type": "code",
   "execution_count": 8,
   "metadata": {},
   "outputs": [
    {
     "name": "stdout",
     "output_type": "stream",
     "text": [
      "   col1 col2 col3\n",
      "0     1    A  foo\n",
      "1     2    B  bar\n",
      "2     3    C  baz\n",
      "   column1 column2 column3\n",
      "0        1       A     foo\n",
      "1        2       B     bar\n",
      "2        3       C     baz\n",
      "                  Name Salary        Job Title\n",
      "0    Will Levack-Payne     10          Teacher\n",
      "1   Annie Levack-Payne      8     Head Teacher\n",
      "2    Andy Levack-Payne      7  Trainee Teacher\n",
      "3  Naiomi Levack-Payne     18     Sports coach\n",
      "4            Scout Dog      0              Dog\n"
     ]
    }
   ],
   "source": [
    "# dict of list\n",
    "d_1 = {'col1':[1, 2, 3],\n",
    "       'col2':['A', 'B', 'C'],\n",
    "       'col3':['foo', 'bar', 'baz']}\n",
    "\n",
    "df_1 = pd.DataFrame(d_1)\n",
    "print(df_1)\n",
    "\n",
    "# list of dicts\n",
    "df_2 = pd.DataFrame([\n",
    "    {'column1':1,\n",
    "    'column2':'A',\n",
    "    'column3':'foo'},\n",
    "    {'column1':2,\n",
    "    'column2':'B',\n",
    "    'column3':'bar'},\n",
    "    {'column1':3,\n",
    "    'column2':'C',\n",
    "    'column3':'baz'},\n",
    "    ])\n",
    "\n",
    "print(df_2)\n",
    "\n",
    "# Make sure you have Pandas imported as pd.\n",
    "# Using dictionaries and the pd.DataFrame method (remember the capitals) make a dataframe \n",
    "# of a few employees at an imaginary company with the columns: name, salary, and job title.\n",
    "# Name the dataframe something sensible.\n",
    "# For a later exercise, ensure every employess has a first and last name seperated by a space.\n",
    "# ALso ensure that the salaries are stored as strings but with no punctuation\n",
    "# Print it!\n",
    "\n",
    "staff = pd.DataFrame([\n",
    "    {'Name':'Will Levack-Payne',\n",
    "     'Salary':'10',\n",
    "     'Job Title':'Teacher'},\n",
    "     {'Name':'Annie Levack-Payne',\n",
    "     'Salary':'8',\n",
    "     'Job Title':'Head Teacher'},\n",
    "    {'Name':'Andy Levack-Payne',\n",
    "     'Salary':'7',\n",
    "     'Job Title':'Trainee Teacher'},\n",
    "     {'Name':'Naiomi Levack-Payne',\n",
    "     'Salary':'18',\n",
    "     'Job Title':'Sports coach'},\n",
    "     {'Name':'Scout Dog',\n",
    "     'Salary':'0',\n",
    "     'Job Title':'Dog'}\n",
    "])\n",
    "\n",
    "print(staff)"
   ]
  },
  {
   "cell_type": "code",
   "execution_count": 12,
   "metadata": {},
   "outputs": [
    {
     "name": "stdout",
     "output_type": "stream",
     "text": [
      "<class 'pandas.core.frame.DataFrame'>\n",
      "RangeIndex: 5 entries, 0 to 4\n",
      "Data columns (total 3 columns):\n",
      " #   Column     Non-Null Count  Dtype \n",
      "---  ------     --------------  ----- \n",
      " 0   Name       5 non-null      object\n",
      " 1   Salary     5 non-null      object\n",
      " 2   Job Title  5 non-null      object\n",
      "dtypes: object(3)\n",
      "memory usage: 248.0+ bytes\n",
      "None\n",
      "                Name Salary Job Title\n",
      "0  Will Levack-Payne     10   Teacher\n",
      "0    10\n",
      "1     8\n",
      "2     7\n",
      "3    18\n",
      "4     0\n",
      "Name: Salary, dtype: object\n",
      "                  Name        Job Title\n",
      "0    Will Levack-Payne          Teacher\n",
      "1   Annie Levack-Payne     Head Teacher\n",
      "2    Andy Levack-Payne  Trainee Teacher\n",
      "3  Naiomi Levack-Payne     Sports coach\n",
      "4            Scout Dog              Dog\n"
     ]
    }
   ],
   "source": [
    "print(staff.info())\n",
    "\n",
    "print(staff.head(1))\n",
    "\n",
    "\n",
    "\n"
   ]
  },
  {
   "cell_type": "code",
   "execution_count": 15,
   "metadata": {},
   "outputs": [
    {
     "name": "stdout",
     "output_type": "stream",
     "text": [
      "int64\n",
      "The mean salary is: 8.6.\n",
      "The total of salaries is: 43\n",
      "The max and min salaries respectively are 18, 0.\n"
     ]
    }
   ],
   "source": [
    "print(staff['Salary'])\n",
    "print(staff[['Name', 'Job Title']])\n",
    "\n",
    "staff['Salary'] = staff['Salary'].astype('int')\n",
    "print(staff['Salary'].dtypes)\n",
    "\n",
    "mean_salary = staff['Salary'].mean()\n",
    "sum_salary = staff['Salary'].sum()\n",
    "max_salary = staff['Salary'].max()\n",
    "min_salary = staff['Salary'].min()\n",
    "\n",
    "print(f'The mean salary is: {mean_salary}.')\n",
    "print(f\"The total of salaries is: {sum_salary}\")\n",
    "print(f'The max and min salaries respectively are {max_salary}, {min_salary}.')"
   ]
  }
 ],
 "metadata": {
  "kernelspec": {
   "display_name": "Python 3",
   "language": "python",
   "name": "python3"
  },
  "language_info": {
   "codemirror_mode": {
    "name": "ipython",
    "version": 3
   },
   "file_extension": ".py",
   "mimetype": "text/x-python",
   "name": "python",
   "nbconvert_exporter": "python",
   "pygments_lexer": "ipython3",
   "version": "3.10.13"
  }
 },
 "nbformat": 4,
 "nbformat_minor": 2
}
