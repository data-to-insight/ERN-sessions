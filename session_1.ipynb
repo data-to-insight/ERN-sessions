{
 "cells": [
  {
   "cell_type": "code",
   "execution_count": 10,
   "metadata": {},
   "outputs": [
    {
     "name": "stdout",
     "output_type": "stream",
     "text": [
      "11\n"
     ]
    }
   ],
   "source": [
    "num_1 = 1\n",
    "num_2 = 10.0\n",
    "sum_1_2 = num_1 + num_2\n",
    "print(sum_1_2)\n"
   ]
  },
  {
   "cell_type": "code",
   "execution_count": 31,
   "metadata": {},
   "outputs": [
    {
     "name": "stdout",
     "output_type": "stream",
     "text": [
      "10.05\n"
     ]
    }
   ],
   "source": [
    "x = \"10.0\"\n",
    "y = \"5\"\n",
    "z = x + y\n",
    "print(z)"
   ]
  },
  {
   "cell_type": "code",
   "execution_count": null,
   "metadata": {},
   "outputs": [],
   "source": [
    "# In this cell, initialise two numeric variables and find their product \n",
    "# using the * operator for multiplication and assign this to a new variable.\n",
    "# Print the new variable\n",
    "\n",
    "# The radius of a circle is 2, assume that Pi is 3.14. Assign both of these \n",
    "# to suitably named variables and find the area of the circle.\n",
    "# We can find the area of a circle by finding the product of Pi with the radius squared.\n",
    "# You probably don't know how to square a number in Python yet, so use Google to work it out!"
   ]
  },
  {
   "cell_type": "code",
   "execution_count": 29,
   "metadata": {},
   "outputs": [
    {
     "name": "stdout",
     "output_type": "stream",
     "text": [
      "30\n",
      "12.56\n"
     ]
    }
   ],
   "source": [
    "x = 3\n",
    "y = 10\n",
    "z = x * y\n",
    "print(z)\n",
    "\n",
    "r = 2\n",
    "pi = 3.14\n",
    "area = pi * r ** 2\n",
    "print(area)"
   ]
  },
  {
   "cell_type": "code",
   "execution_count": 35,
   "metadata": {},
   "outputs": [
    {
     "name": "stdout",
     "output_type": "stream",
     "text": [
      "My name is Will and I am the teacher\n",
      "My name is Will and I am the teacher.\n"
     ]
    }
   ],
   "source": [
    "name = \"Will\"\n",
    "job = \"teacher\" \n",
    "longer_string = \"My name is \" + name + \" and I am the \" + job\n",
    "print(longer_string)\n",
    "\n",
    "phrase = f\"My name is {name} and I am the {job}.\"\n",
    "print(phrase)"
   ]
  },
  {
   "cell_type": "code",
   "execution_count": null,
   "metadata": {},
   "outputs": [],
   "source": [
    "# In this cell, initialise two appropriately named variables, one for your name and one for your job title.\n",
    "# Next, combine them in an f string, assigned to a different, appropriately named variable.\n",
    "# Finally, print the f string."
   ]
  },
  {
   "cell_type": "code",
   "execution_count": 37,
   "metadata": {},
   "outputs": [
    {
     "name": "stdout",
     "output_type": "stream",
     "text": [
      "The rate of cin plans per 10k children is 129.03225806451613\n"
     ]
    }
   ],
   "source": [
    "cin_plan = 200\n",
    "total_pop = 15500\n",
    "\n",
    "rp10k = (cin_plan / total_pop) * 10000\n",
    "explanation = f\"The rate of cin plans per 10k children is {rp10k}\"\n",
    "print(explanation)"
   ]
  },
  {
   "cell_type": "code",
   "execution_count": 52,
   "metadata": {},
   "outputs": [
    {
     "name": "stdout",
     "output_type": "stream",
     "text": [
      ".csv\n",
      "The filename is: 903_header\n",
      "dog\n",
      "cat\n",
      "racoon\n"
     ]
    }
   ],
   "source": [
    "filename = \"c://desktop/data/903_header.csv\"\n",
    "#print(filename)\n",
    "\n",
    "substring = filename[10]\n",
    "#print(substring)\n",
    "# [start:stop:step]\n",
    "substring_2 = filename[10:21]\n",
    "#print(substring_2)\n",
    "\n",
    "substring_3 = filename[-4:]\n",
    "print(substring_3)\n",
    "\n",
    "substring_4 = filename[17:-4]\n",
    "long_prhase = f'The filename is: {substring_4}'\n",
    "print(long_prhase)\n",
    "\n",
    "# In this cell I've initialised a variable 'slice_this_phrase'. \n",
    "# On the next three lines, print the words dog, cat, and racoon seprately \n",
    "#using a slice from the beginning, a slice giving a range in the middle, and a slice from the end.\n",
    "# This means one slice will involve [:n], one will involve [n1:n2], and one will involve [-n:].\n",
    "\n",
    "slice_this_phrase = 'dog cat racoon'\n",
    "\n",
    "Slice_this_phrse = 'dog cat racoon'\n",
    "animal_1 = Slice_this_phrse [0:3]\n",
    "animal_2 = Slice_this_phrse [4:7]\n",
    "animal_3 =  Slice_this_phrse [8:]\n",
    "print(animal_1)\n",
    "print(animal_2)\n",
    "print(animal_3)"
   ]
  },
  {
   "cell_type": "code",
   "execution_count": 57,
   "metadata": {},
   "outputs": [
    {
     "name": "stdout",
     "output_type": "stream",
     "text": [
      "[1, 'reverse this phrase', 'The filename is: 903_header']\n",
      "<class 'list'>\n"
     ]
    }
   ],
   "source": [
    "list_1 = [1, phrase, long_prhase, \"hi\"]\n",
    "print(list_1)\n",
    "print(type(list_1))"
   ]
  },
  {
   "cell_type": "code",
   "execution_count": 65,
   "metadata": {},
   "outputs": [
    {
     "name": "stdout",
     "output_type": "stream",
     "text": [
      "['red', 'blue', 'green', 'purple']\n"
     ]
    }
   ],
   "source": [
    "colours = ['red', 'blue', 'green', 'purple']\n",
    "print(colours)"
   ]
  },
  {
   "cell_type": "code",
   "execution_count": 82,
   "metadata": {},
   "outputs": [
    {
     "name": "stdout",
     "output_type": "stream",
     "text": [
      "['teal', 'orange']\n",
      "['red', 'blue', 'green', 'purple', ['teal', 'orange'], 'brown', 'gold', 'white']\n",
      "['blue', 'green', 'purple', ['teal', 'orange'], 'brown', 'gold', 'white', 'red']\n"
     ]
    }
   ],
   "source": [
    "colours = ['red', 'blue', 'green', 'purple']\n",
    "# [start:stop:step]\n",
    "\n",
    "colours.append(['teal', 'orange'])\n",
    "print(colours[4])\n",
    "\n",
    "more_colours = [\"brown\", \"gold\", \"white\"]\n",
    "colours.extend(more_colours)\n",
    "print(colours)\n",
    "\n",
    "colours.append(\"red\")\n",
    "\n",
    "colours.remove('red')\n",
    "print(colours)\n"
   ]
  },
  {
   "cell_type": "code",
   "execution_count": 74,
   "metadata": {},
   "outputs": [
    {
     "name": "stdout",
     "output_type": "stream",
     "text": [
      "5\n"
     ]
    }
   ],
   "source": [
    "my_string = 'Will said \"some words\"'"
   ]
  }
 ],
 "metadata": {
  "kernelspec": {
   "display_name": "Python 3",
   "language": "python",
   "name": "python3"
  },
  "language_info": {
   "codemirror_mode": {
    "name": "ipython",
    "version": 3
   },
   "file_extension": ".py",
   "mimetype": "text/x-python",
   "name": "python",
   "nbconvert_exporter": "python",
   "pygments_lexer": "ipython3",
   "version": "3.10.13"
  }
 },
 "nbformat": 4,
 "nbformat_minor": 2
}
