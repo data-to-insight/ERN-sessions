{
 "cells": [
  {
   "cell_type": "code",
   "execution_count": 7,
   "metadata": {},
   "outputs": [
    {
     "name": "stdout",
     "output_type": "stream",
     "text": [
      "3\n",
      "<class 'int'>\n",
      "I have a number: 3.\n",
      "h\n",
      "have a number:\n",
      "Ihv  ubr .\n",
      ".3 :rebmun a evah I\n"
     ]
    }
   ],
   "source": [
    "num_1 = 3 # int\n",
    "num_2 = \"5\" # str\n",
    "num_3 = 4.0 # floats\n",
    "\n",
    "# str()\n",
    "# int()\n",
    "# float()\n",
    "\n",
    "type_num_1 = type(num_1)\n",
    "print(num_1)\n",
    "print(type_num_1)\n",
    "\n",
    "#formatted string\n",
    "string_1 = f'I have a number: {num_1}.'\n",
    "\n",
    "#normal concatenated string\n",
    "string_2 = 'I have a number: ' + str(num_1) + '.'\n",
    "\n",
    "print(string_1)\n",
    "\n",
    "substring_1 = string_1[2]\n",
    "print(substring_1)\n",
    "\n",
    "# [ start : stop : step ]\n",
    "substring_2 = string_1[2:-3]\n",
    "print(substring_2)\n",
    "\n",
    "substring_3 = string_1[::2]\n",
    "print(substring_3)\n",
    "\n",
    "reverse_string = string_1[-1::-1]\n",
    "print(reverse_string)"
   ]
  },
  {
   "cell_type": "code",
   "execution_count": 31,
   "metadata": {},
   "outputs": [
    {
     "name": "stdout",
     "output_type": "stream",
     "text": [
      "<class 'list'>\n",
      "green\n",
      "['red', 'blue', 'green', 'purple']\n",
      "['red', 'blue', 'green', 'purple', ['turquiose', 'teal']]\n",
      "['red', 'blue', 'green', 'purple', ['turquiose', 'teal'], 'turquiose', 'teal']\n",
      "['red', 'blue', 'green', 'purple', ['turquiose', 'teal'], 'turquiose', 'teal', 'g', 'r', 'e', 'y']\n",
      "['red', 'blue', 'green', 'purple', ['turquiose', 'teal'], 'turquiose', 'teal', 'g', 'r', 'e', 'y', 'purple', 'purple', 'purple']\n",
      "['red', 'blue', 'green', ['turquiose', 'teal'], 'turquiose', 'teal', 'g', 'r', 'e', 'y', 'purple', 'purple', 'purple']\n",
      "['burger', 'pizza', 'chips', 'sausages', 'noodles']\n"
     ]
    }
   ],
   "source": [
    "list_1 = []\n",
    "print(type(list_1))\n",
    "\n",
    "colours = [\"red\", \"blue\", \"green\"]\n",
    "print(colours[-1])\n",
    "\n",
    "colours.append(\"purple\")\n",
    "print(colours)\n",
    "\n",
    "extra_colours = [\"turquiose\", \"teal\"]\n",
    "colours.append(extra_colours)\n",
    "print(colours)\n",
    "\n",
    "colours.extend(extra_colours)\n",
    "print(colours)\n",
    "\n",
    "colours.extend(\"grey\")\n",
    "print(colours)\n",
    "\n",
    "colours.extend([\"purple\", \"purple\", \"purple\"])\n",
    "print(colours)\n",
    "\n",
    "colours.remove(\"purple\")\n",
    "print(colours)\n",
    "\n",
    "# In this cell, make a list of a few foods and print it.\n",
    "food = [\"burger\", \"pizza\", \"chips\"]\n",
    "# Then append the list with another food and print it.\n",
    "food.append(\"sausages\")\n",
    "# Next, make another list of foods, and use the extend method to \n",
    "# add those extra foods as individual elements of the list, and print it.\n",
    "food.extend([\"noodles\", \"pasty\"])\n",
    "# Finally, remove and element from the list and print the final list.\n",
    "# Remember to always use a suitable name for your lists!\n",
    "food.remove(\"pasty\")\n",
    "\n",
    "print(food)\n"
   ]
  },
  {
   "cell_type": "code",
   "execution_count": 37,
   "metadata": {},
   "outputs": [
    {
     "name": "stdout",
     "output_type": "stream",
     "text": [
      "[2, 5, 7, 3, 1, 6, 4, 9]\n",
      "[1, 2, 3, 4, 5, 6, 7, 9]\n",
      "[9, 7, 6, 5, 4, 3, 2, 1]\n",
      "[1, 2, 3, 4, 5, 6, 7, 9]\n",
      "['burger', 'chips', 'noodles', 'pizza', 'sausages']\n"
     ]
    }
   ],
   "source": [
    "numbers = [2, 5, 7, 3, 1, 6, 4, 9]\n",
    "print(numbers)\n",
    "\n",
    "numbers.sort()\n",
    "print(numbers)\n",
    "\n",
    "numbers.sort(reverse=True)\n",
    "print(numbers)\n",
    "\n",
    "sorted_numbers = sorted(numbers)\n",
    "print(sorted_numbers)\n",
    "\n",
    "food.sort()\n",
    "print(food)"
   ]
  },
  {
   "cell_type": "code",
   "execution_count": 48,
   "metadata": {},
   "outputs": [
    {
     "ename": "SyntaxError",
     "evalue": "invalid syntax. Perhaps you forgot a comma? (228124596.py, line 15)",
     "output_type": "error",
     "traceback": [
      "\u001b[0;36m  Cell \u001b[0;32mIn[48], line 15\u001b[0;36m\u001b[0m\n\u001b[0;31m    \"Age\":63\u001b[0m\n\u001b[0m          ^\u001b[0m\n\u001b[0;31mSyntaxError\u001b[0m\u001b[0;31m:\u001b[0m invalid syntax. Perhaps you forgot a comma?\n"
     ]
    }
   ],
   "source": [
    "# dict_1 = {key:value , key:value}\n",
    "will = {\"Name\":\"Will\", \n",
    "        \"Age\":30, \n",
    "        \"Pets\":\"1\", \n",
    "        \"Food\":food,\n",
    "        \"Sport\":\"Running\",\n",
    "        \"Colours\":colours}\n",
    "print(will)\n",
    "\n",
    "print(will[\"Sport\"])\n",
    "print(will[\"Food\"])\n",
    "\n",
    "# Make a similar dictionary for yourself with keys such as name, food etc, print out some values using the keys\n",
    "andy_dict = {\"Name\":\"Andy\",\n",
    "             \"Age\":63,\n",
    "             \"Sport\":\"Running\"}"
   ]
  },
  {
   "cell_type": "code",
   "execution_count": 72,
   "metadata": {},
   "outputs": [
    {
     "name": "stdout",
     "output_type": "stream",
     "text": [
      "Purple\n",
      "purple\n",
      "dict_keys(['Will', 'Andy', 'Annie'])\n",
      "dict_values(['Purple', ['Purple', 'Teal'], {'Monday': 'Red', 'Rest of the week': ['red', 'blue', 'green', ['turquiose', 'teal'], 'turquiose', 'teal', 'g', 'r', 'e', 'y', 'purple', 'purple', 'purple']}])\n",
      "dict_items([('Will', 'Purple'), ('Andy', ['Purple', 'Teal']), ('Annie', {'Monday': 'Red', 'Rest of the week': ['red', 'blue', 'green', ['turquiose', 'teal'], 'turquiose', 'teal', 'g', 'r', 'e', 'y', 'purple', 'purple', 'purple']})])\n",
      "{'Will': 'Purple', 'Andy': ['Purple', 'Teal'], 'Annie': {'Monday': 'Red', 'Rest of the week': ['red', 'blue', 'green', ['turquiose', 'teal'], 'turquiose', 'teal', 'g', 'r', 'e', 'y', 'purple', 'purple', 'purple']}, 'Naiomi': 'Yellow'}\n",
      "{'Will': 'Purple', 'Andy': ['Purple', 'Teal'], 'Annie': 'Gold', 'Naiomi': 'Yellow'}\n",
      "False\n",
      "['gmail', 'com']\n"
     ]
    }
   ],
   "source": [
    "fav_cols = {\"Will\":\"Purple\",\n",
    "            \"Andy\":[\"Purple\", \"Teal\"],\n",
    "            \"Annie\":{\"Monday\":\"Red\",\n",
    "                     \"Rest of the week\":colours}\n",
    "            }\n",
    "\n",
    "print(fav_cols[\"Andy\"][0])\n",
    "\n",
    "print(fav_cols[\"Annie\"][\"Rest of the week\"][-1])\n",
    "\n",
    "print(fav_cols.keys())\n",
    "\n",
    "print(fav_cols.values())\n",
    "\n",
    "print(fav_cols.items())\n",
    "\n",
    "fav_cols[\"Naiomi\"] = \"Yellow\"\n",
    "print(fav_cols)\n",
    "\n",
    "fav_cols[\"Annie\"] = \"Gold\"\n",
    "print(fav_cols)\n",
    "\n",
    "print(\"annie\" in fav_cols)\n",
    "\n",
    "\n",
    "\n",
    "email = \"william@gmail.com\"\n",
    "name = email.split('@')\n",
    "print(name)\n",
    "print(name[0])\n",
    "\n",
    "name = email.partition(\"@\")\n",
    "print(name)\n",
    "\n",
    "name = email.split('@')\n",
    "email_adress = name[1].split(\".\")\n",
    "print(email_adress)"
   ]
  },
  {
   "cell_type": "code",
   "execution_count": 74,
   "metadata": {},
   "outputs": [
    {
     "name": "stdout",
     "output_type": "stream",
     "text": [
      "dict_keys(['Will', 'Andy', 'Annie'])\n",
      "dict_values(['Data Manager', 'Retired', {'Mondays': 'Teacher', 'Rest of the week': 'Retired'}])\n",
      "dict_items([('Will', 'Data Manager'), ('Andy', 'Retired'), ('Annie', {'Mondays': 'Teacher', 'Rest of the week': 'Retired'})])\n",
      "{'Will': 'Python Person', 'Andy': 'Retired', 'Annie': {'Mondays': 'Teacher', 'Rest of the week': 'Retired'}, 'Naiomi': 'Policy Writer'}\n"
     ]
    }
   ],
   "source": [
    "# MAke a dict of names and job titles, have about 3 entries\n",
    "jobs = {\"Will\":\"Data Manager\",\n",
    "        \"Andy\":\"Retired\",\n",
    "        \"Annie\":{\"Mondays\":\"Teacher\",\n",
    "                 \"Rest of the week\":\"Retired\"}}\n",
    "# Make sure one person has multiple jobs using a dict as their value\n",
    "# print the .keys, .values(), and .items()\n",
    "print(jobs.keys())\n",
    "print(jobs.values())\n",
    "print(jobs.items())\n",
    "\n",
    "annie_keys = jobs['Annie'].keys()\n",
    "\n",
    "# add an entry using the name[] syntax\n",
    "jobs['Naiomi'] = \"Policy Writer\"\n",
    "# overwrite an entry using the same syntax\n",
    "jobs['Will'] = \"Python Person\"\n",
    "\n",
    "print(jobs)"
   ]
  }
 ],
 "metadata": {
  "kernelspec": {
   "display_name": "Python 3",
   "language": "python",
   "name": "python3"
  },
  "language_info": {
   "codemirror_mode": {
    "name": "ipython",
    "version": 3
   },
   "file_extension": ".py",
   "mimetype": "text/x-python",
   "name": "python",
   "nbconvert_exporter": "python",
   "pygments_lexer": "ipython3",
   "version": "3.10.13"
  }
 },
 "nbformat": 4,
 "nbformat_minor": 2
}
