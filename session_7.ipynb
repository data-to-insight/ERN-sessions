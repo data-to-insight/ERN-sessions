{
 "cells": [
  {
   "cell_type": "code",
   "execution_count": 21,
   "metadata": {},
   "outputs": [
    {
     "name": "stdout",
     "output_type": "stream",
     "text": [
      "2\n",
      "4\n",
      "6\n",
      "8\n",
      "10\n",
      "12\n",
      "14\n",
      "16\n",
      "18\n",
      "[1, 2, 3, 4, 5, 6, 7, 8, 9]\n"
     ]
    }
   ],
   "source": [
    "numbers = list(range(1,10))\n",
    "\n",
    "# numbers\n",
    "\n",
    "for number in numbers:\n",
    "    number = number + number\n",
    "    print(number)\n",
    "    \n",
    "print(numbers)\n",
    "\n",
    "# for number in numbers:\n",
    "#     print('number is less than 10')\n",
    "\n",
    "# num = 1\n",
    "\n",
    "# while num < 10:\n",
    "#     print('number is less than 10')\n",
    "#     num += 1\n",
    "\n",
    "\n",
    "\n"
   ]
  },
  {
   "cell_type": "code",
   "execution_count": 25,
   "metadata": {},
   "outputs": [
    {
     "name": "stdout",
     "output_type": "stream",
     "text": [
      "Hello, my name is Will.\n",
      "Hello, my name is Annie.\n",
      "Hello, my name is Andy.\n",
      "Hello, my name is Naiomi.\n",
      "Woof!\n"
     ]
    }
   ],
   "source": [
    "# make a list of 5 names as strings\n",
    "names_list = ['Will', 'Annie', 'Andy', 'Naiomi', 'Scout']\n",
    "\n",
    "# loop over that list of names and using an f string have it print out\n",
    "# somethign like \"Hello, my name is NAME\"\n",
    "for name in names_list:\n",
    "    if name == 'Scout':\n",
    "        print('Woof!')\n",
    "    else:\n",
    "        phrase = f'Hello, my name is {name}.'\n",
    "        print(phrase)\n",
    "\n",
    "# phrase\n"
   ]
  },
  {
   "cell_type": "code",
   "execution_count": 40,
   "metadata": {},
   "outputs": [
    {
     "name": "stdout",
     "output_type": "stream",
     "text": [
      "{'key1': 2, 'key2': 3}\n"
     ]
    }
   ],
   "source": [
    "names_dict = {}\n",
    "\n",
    "# for index, name in enumerate(names_list):\n",
    "#     # names_dict = {}\n",
    "#     names_dict[index] = name\n",
    "\n",
    "# print(names_dict)\n",
    "\n",
    "dict_1 = {'key1':1,\n",
    "          'key2':2}\n",
    "\n",
    "# dict_1.keys()\n",
    "\n",
    "# dict_1.values()\n",
    "\n",
    "# dict_1.items()\n",
    "\n",
    "for key, value in dict_1.items():\n",
    "    value += 1\n",
    "    dict_1[key] = value \n",
    "\n",
    "print(dict_1)\n",
    "\n"
   ]
  },
  {
   "cell_type": "code",
   "execution_count": 44,
   "metadata": {},
   "outputs": [
    {
     "data": {
      "text/plain": [
       "{'Will': 'My name is Will, and I am a Data manager',\n",
       " 'Annie': 'My name is Annie, and I am Retired',\n",
       " 'Andy': 'My name is Andy, and I am Retired',\n",
       " 'Naiomi': 'My name is Naiomi, and I am a Policy Writer',\n",
       " 'Scout': 'My name is Scout, and I am a Moral Support'}"
      ]
     },
     "execution_count": 44,
     "metadata": {},
     "output_type": "execute_result"
    }
   ],
   "source": [
    "# make a dictionry of 5 names and job titles\n",
    "# use k,v loop to print something like \"My name is NAME and I am a JOB TITLE\"\n",
    "# make a new dicitonary of names as they keys and the new f strings as the values\n",
    "\n",
    "name_job = {'Will':'Data manager',\n",
    "            'Annie':'Retired',\n",
    "            'Andy':'Retired',\n",
    "            'Naiomi':'Policy Writer',\n",
    "            'Scout':'Moral Support'}\n",
    "\n",
    "name_phrase = {}\n",
    "\n",
    "for k, v in name_job.items():\n",
    "    if (k == 'Annie') | (k == 'Andy'):\n",
    "        phrase = f'My name is {k}, and I am {v}'\n",
    "    else:\n",
    "        phrase = f'My name is {k}, and I am a {v}'\n",
    "    name_phrase[k] = phrase\n",
    "\n",
    "name_phrase\n"
   ]
  },
  {
   "cell_type": "code",
   "execution_count": 54,
   "metadata": {},
   "outputs": [
    {
     "name": "stdout",
     "output_type": "stream",
     "text": [
      "the current i is 2\n",
      "the current i is 4\n",
      "the current i is 6\n",
      "the current i is 8\n",
      "the current i is 10\n",
      "the current i is 12\n",
      "[2, 6, 10, 14, 18, 22, 4, 12, 20, 28, 36, 44, 6, 18, 30, 42, 54, 66, 8, 24, 40, 56, 72, 88, 10, 30, 50, 70, 90, 110, 12, 36, 60, 84, 108, 132]\n"
     ]
    },
    {
     "data": {
      "text/plain": [
       "['butter and ham',\n",
       " 'butter and cheese',\n",
       " 'butter and sardines',\n",
       " 'jam and ham',\n",
       " 'jam and cheese',\n",
       " 'jam and sardines',\n",
       " 'peanut butter and ham',\n",
       " 'peanut butter and cheese',\n",
       " 'peanut butter and sardines']"
      ]
     },
     "execution_count": 54,
     "metadata": {},
     "output_type": "execute_result"
    }
   ],
   "source": [
    "evens = list(range(2,13,2))\n",
    "odds = list(range(1,13,2))\n",
    "\n",
    "multiply_list = []\n",
    "\n",
    "for i in evens:\n",
    "    print(f'the current i is {i}')\n",
    "    for j in odds:\n",
    "        multiply_list.append(i*j)\n",
    "    \n",
    "print(multiply_list)\n",
    "\n",
    "# using these two lists of sandwich ingredients, find (using for loops) all of the spread/topping combinations\n",
    "# append them to a new list of all the combos\n",
    "spreads = ['butter', 'jam', 'peanut butter']\n",
    "toppings = ['ham', 'cheese', 'sardines']\n",
    "\n",
    "combos = []\n",
    "\n",
    "for spread in spreads:\n",
    "    for topping in toppings:\n",
    "        combo = f'{spread} and {topping}'\n",
    "        combos.append(combo)\n",
    "\n",
    "combos\n"
   ]
  },
  {
   "cell_type": "code",
   "execution_count": 63,
   "metadata": {},
   "outputs": [
    {
     "name": "stdout",
     "output_type": "stream",
     "text": [
      "59 is not divisible by 3 or 5\n"
     ]
    }
   ],
   "source": [
    "number = 59\n",
    "\n",
    "if (number % 3 == 0):\n",
    "    print(f'{number} is divisible by 3')\n",
    "elif (number % 5 == 0):\n",
    "    print(f'{number} is divisible by 5')\n",
    "else:\n",
    "    print(f'{number} is not divisible by 3 or 5')\n",
    "\n"
   ]
  },
  {
   "cell_type": "code",
   "execution_count": 70,
   "metadata": {},
   "outputs": [
    {
     "ename": "TypeError",
     "evalue": "unsupported operand type(s) for %: 'list' and 'int'",
     "output_type": "error",
     "traceback": [
      "\u001b[0;31m---------------------------------------------------------------------------\u001b[0m",
      "\u001b[0;31mTypeError\u001b[0m                                 Traceback (most recent call last)",
      "Cell \u001b[0;32mIn[70], line 10\u001b[0m\n\u001b[1;32m      7\u001b[0m numbers \u001b[38;5;241m=\u001b[39m \u001b[38;5;28mlist\u001b[39m(\u001b[38;5;28mrange\u001b[39m(\u001b[38;5;241m1\u001b[39m,\u001b[38;5;241m101\u001b[39m))\n\u001b[1;32m      9\u001b[0m \u001b[38;5;28;01mfor\u001b[39;00m number \u001b[38;5;129;01min\u001b[39;00m numbers:\n\u001b[0;32m---> 10\u001b[0m     \u001b[38;5;28;01mif\u001b[39;00m (\u001b[43mnumbers\u001b[49m\u001b[43m \u001b[49m\u001b[38;5;241;43m%\u001b[39;49m\u001b[43m \u001b[49m\u001b[38;5;241;43m3\u001b[39;49m \u001b[38;5;241m==\u001b[39m \u001b[38;5;241m0\u001b[39m) \u001b[38;5;241m&\u001b[39m (number \u001b[38;5;241m%\u001b[39m \u001b[38;5;241m5\u001b[39m \u001b[38;5;241m==\u001b[39m\u001b[38;5;241m0\u001b[39m):\n\u001b[1;32m     11\u001b[0m         \u001b[38;5;28mprint\u001b[39m(\u001b[38;5;124m'\u001b[39m\u001b[38;5;124mfizzbang\u001b[39m\u001b[38;5;124m'\u001b[39m)\n\u001b[1;32m     12\u001b[0m     \u001b[38;5;28;01melif\u001b[39;00m (number \u001b[38;5;241m%\u001b[39m \u001b[38;5;241m3\u001b[39m \u001b[38;5;241m==\u001b[39m \u001b[38;5;241m0\u001b[39m):\n",
      "\u001b[0;31mTypeError\u001b[0m: unsupported operand type(s) for %: 'list' and 'int'"
     ]
    }
   ],
   "source": [
    "# fizzbang\n",
    "# take all the numbers form 1-100,\n",
    "# print them, BUT if the number is divisible by 3, print fizz,\n",
    "# if it's divisible by 5 print bang\n",
    "# BUT if it's divisible by 3 & 5 print fizzbang\n",
    "\n",
    "numbers = list(range(1,101))\n",
    "\n",
    "for number in numbers:\n",
    "    if (number % 3 == 0) & (number % 5 ==0):\n",
    "        print('fizzbang')\n",
    "    elif (number % 3 == 0):\n",
    "        print('fizz')\n",
    "    elif (number % 5 == 0):\n",
    "        print('bang')\n",
    "    else:\n",
    "        print(number)\n",
    "\n",
    "for number in numbers:\n",
    "    if (number % 3 == 0):\n",
    "        if (number % 5 ==0):\n",
    "            print('fizzbang')\n",
    "        else:\n",
    "            print('fizz')\n",
    "    elif (number % 5 == 0):\n",
    "        print('bang')\n",
    "    else:\n",
    "        print(number)"
   ]
  }
 ],
 "metadata": {
  "kernelspec": {
   "display_name": "Python 3",
   "language": "python",
   "name": "python3"
  },
  "language_info": {
   "codemirror_mode": {
    "name": "ipython",
    "version": 3
   },
   "file_extension": ".py",
   "mimetype": "text/x-python",
   "name": "python",
   "nbconvert_exporter": "python",
   "pygments_lexer": "ipython3",
   "version": "3.10.13"
  }
 },
 "nbformat": 4,
 "nbformat_minor": 2
}
